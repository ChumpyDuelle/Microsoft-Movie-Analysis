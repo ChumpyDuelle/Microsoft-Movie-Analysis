{
 "cells": [
  {
   "cell_type": "markdown",
   "metadata": {},
   "source": [
    "![example](images/director_shot.jpeg)"
   ]
  },
  {
   "cell_type": "markdown",
   "metadata": {},
   "source": [
    "# Microsoft Film Studio Analysis\n",
    "\n",
    "**Authors:** Nicolas Pierce, Ashli Dougherty, Ian Butler"
   ]
  },
  {
   "cell_type": "markdown",
   "metadata": {},
   "source": [
    "***\n",
    "## Overview\n",
    "\n",
    "This research seeks to answer the question: what films should Microsoft's new film studio make? We utilize data from three primary movie information websites: IMDb, Box Office Mojo, and The Numbers. We aggregate these sources into useable data frames and visualize the features we engineer from them: genres versus ratings, genres versus domestic gross, and genres versus return on investment. Finally, we deliver the results of our research and make confident recommendations: Microsoft's new studio should make either Action/Adventure films or Horror/Mystery/Thriller films, depending on their budget and timeframe."
   ]
  },
  {
   "cell_type": "markdown",
   "metadata": {},
   "source": [
    "***\n",
    "## Business Problem\n",
    "\n",
    "Microsoft is creating a new movie studio. Our research is designed to answer the following question:\n",
    "- What kinds of movies should Microsoft's new movie studio be making?\n",
    "***\n",
    "The primary questions we are considering are:\n",
    "* Which genres of movies do audiences like?\n",
    "* Is there a relationship between ratings and revenue?\n",
    "* Which genres of movies have the highest domestic gross revenue?\n",
    "* Which genres of movies have the highest return on investment?\n",
    "* Are the highest grossing genres also the highest ROI genres?"
   ]
  },
  {
   "cell_type": "markdown",
   "metadata": {},
   "source": [
    "***\n",
    "## Data Understanding\n",
    "\n",
    "The data we are using comes from three sources:\n",
    "* IMDb\n",
    "* Box Office Mojo\n",
    "* The Numbers\n",
    "***\n",
    "These websites are primary sources for aggregated data concerning film characteristics and performance.<br>These are the raw data categories we accessed from each source:\n",
    "* From IMDb, we accessed movie basics and movie ratings.\n",
    "* From Box Office Mojo, we accessed movie gross revenue.\n",
    "* From The Numbers, we accessed movie budgets.\n",
    "***"
   ]
  },
  {
   "cell_type": "markdown",
   "metadata": {},
   "source": [
    "# Setting Up Packages and Connections\n",
    "***"
   ]
  },
  {
   "cell_type": "markdown",
   "metadata": {},
   "source": [
    "The below cell imports standard packages and also unzips the currently zipped IMDB dataset into ./zippedData"
   ]
  },
  {
   "cell_type": "code",
   "execution_count": 1,
   "metadata": {},
   "outputs": [
    {
     "name": "stdout",
     "output_type": "stream",
     "text": [
      "File Name                                             Modified             Size\n",
      "im.db                                          2021-12-20 16:31:38    169443328\n",
      "Extracting all the files now...\n",
      "Done!\n"
     ]
    }
   ],
   "source": [
    "# Import standard packages\n",
    "import pandas as pd\n",
    "import numpy as np\n",
    "import matplotlib.pyplot as plt\n",
    "import seaborn as sns\n",
    "import sqlite3\n",
    "\n",
    "# from Kevin Rivera\n",
    "from zipfile import ZipFile\n",
    "# specifying the zip file name\n",
    "file_name = \"./zippedData/im.db.zip\"\n",
    "# opening the zip file in READ mode\n",
    "with ZipFile(file_name, 'r') as zip:\n",
    "    # printing all the contents of the zip file\n",
    "    zip.printdir()\n",
    "    # extracting all the files\n",
    "    print('Extracting all the files now...')\n",
    "    # extract data to the same directory as the other data\n",
    "    zip.extractall(path='./zippedData')\n",
    "    print('Done!')\n",
    "\n",
    "%matplotlib inline"
   ]
  },
  {
   "cell_type": "markdown",
   "metadata": {},
   "source": [
    "The cell below creates a connection to the SQL database and a cursor to navigate it."
   ]
  },
  {
   "cell_type": "code",
   "execution_count": 2,
   "metadata": {},
   "outputs": [],
   "source": [
    "conn = sqlite3.Connection('./zippedData/im.db')\n",
    "cursor = conn.cursor()"
   ]
  },
  {
   "cell_type": "markdown",
   "metadata": {},
   "source": [
    "The cell below creates a test query for the database."
   ]
  },
  {
   "cell_type": "code",
   "execution_count": 3,
   "metadata": {},
   "outputs": [],
   "source": [
    "testq = \"\"\"\n",
    "\n",
    "select\n",
    "    *\n",
    "from\n",
    "    movie_basics\n",
    "\n",
    "\"\"\""
   ]
  },
  {
   "cell_type": "markdown",
   "metadata": {},
   "source": [
    "The cells below create a test data frame and render it, to confirm a successful connection."
   ]
  },
  {
   "cell_type": "code",
   "execution_count": 4,
   "metadata": {},
   "outputs": [],
   "source": [
    "testq_results = pd.read_sql(testq, conn)"
   ]
  },
  {
   "cell_type": "code",
   "execution_count": 5,
   "metadata": {},
   "outputs": [
    {
     "data": {
      "text/html": [
       "<div>\n",
       "<style scoped>\n",
       "    .dataframe tbody tr th:only-of-type {\n",
       "        vertical-align: middle;\n",
       "    }\n",
       "\n",
       "    .dataframe tbody tr th {\n",
       "        vertical-align: top;\n",
       "    }\n",
       "\n",
       "    .dataframe thead th {\n",
       "        text-align: right;\n",
       "    }\n",
       "</style>\n",
       "<table border=\"1\" class=\"dataframe\">\n",
       "  <thead>\n",
       "    <tr style=\"text-align: right;\">\n",
       "      <th></th>\n",
       "      <th>movie_id</th>\n",
       "      <th>primary_title</th>\n",
       "      <th>original_title</th>\n",
       "      <th>start_year</th>\n",
       "      <th>runtime_minutes</th>\n",
       "      <th>genres</th>\n",
       "    </tr>\n",
       "  </thead>\n",
       "  <tbody>\n",
       "    <tr>\n",
       "      <th>0</th>\n",
       "      <td>tt0063540</td>\n",
       "      <td>Sunghursh</td>\n",
       "      <td>Sunghursh</td>\n",
       "      <td>2013</td>\n",
       "      <td>175.0</td>\n",
       "      <td>Action,Crime,Drama</td>\n",
       "    </tr>\n",
       "    <tr>\n",
       "      <th>1</th>\n",
       "      <td>tt0066787</td>\n",
       "      <td>One Day Before the Rainy Season</td>\n",
       "      <td>Ashad Ka Ek Din</td>\n",
       "      <td>2019</td>\n",
       "      <td>114.0</td>\n",
       "      <td>Biography,Drama</td>\n",
       "    </tr>\n",
       "    <tr>\n",
       "      <th>2</th>\n",
       "      <td>tt0069049</td>\n",
       "      <td>The Other Side of the Wind</td>\n",
       "      <td>The Other Side of the Wind</td>\n",
       "      <td>2018</td>\n",
       "      <td>122.0</td>\n",
       "      <td>Drama</td>\n",
       "    </tr>\n",
       "    <tr>\n",
       "      <th>3</th>\n",
       "      <td>tt0069204</td>\n",
       "      <td>Sabse Bada Sukh</td>\n",
       "      <td>Sabse Bada Sukh</td>\n",
       "      <td>2018</td>\n",
       "      <td>NaN</td>\n",
       "      <td>Comedy,Drama</td>\n",
       "    </tr>\n",
       "    <tr>\n",
       "      <th>4</th>\n",
       "      <td>tt0100275</td>\n",
       "      <td>The Wandering Soap Opera</td>\n",
       "      <td>La Telenovela Errante</td>\n",
       "      <td>2017</td>\n",
       "      <td>80.0</td>\n",
       "      <td>Comedy,Drama,Fantasy</td>\n",
       "    </tr>\n",
       "  </tbody>\n",
       "</table>\n",
       "</div>"
      ],
      "text/plain": [
       "    movie_id                    primary_title              original_title  \\\n",
       "0  tt0063540                        Sunghursh                   Sunghursh   \n",
       "1  tt0066787  One Day Before the Rainy Season             Ashad Ka Ek Din   \n",
       "2  tt0069049       The Other Side of the Wind  The Other Side of the Wind   \n",
       "3  tt0069204                  Sabse Bada Sukh             Sabse Bada Sukh   \n",
       "4  tt0100275         The Wandering Soap Opera       La Telenovela Errante   \n",
       "\n",
       "   start_year  runtime_minutes                genres  \n",
       "0        2013            175.0    Action,Crime,Drama  \n",
       "1        2019            114.0       Biography,Drama  \n",
       "2        2018            122.0                 Drama  \n",
       "3        2018              NaN          Comedy,Drama  \n",
       "4        2017             80.0  Comedy,Drama,Fantasy  "
      ]
     },
     "execution_count": 5,
     "metadata": {},
     "output_type": "execute_result"
    }
   ],
   "source": [
    "testq_results.head()"
   ]
  },
  {
   "cell_type": "markdown",
   "metadata": {},
   "source": [
    "# Exploration of Movie Ratings and Genres"
   ]
  },
  {
   "cell_type": "markdown",
   "metadata": {},
   "source": [
    "### Author: Nic Pierce"
   ]
  },
  {
   "cell_type": "markdown",
   "metadata": {},
   "source": [
    "After looking through data, The best soucre to explore rating and genre relation through was through the imdb file.\n",
    "First we created a dictionary to house genres as keys and their average ratings as values."
   ]
  },
  {
   "cell_type": "code",
   "execution_count": 6,
   "metadata": {},
   "outputs": [],
   "source": [
    "genreDict = {}\n"
   ]
  },
  {
   "cell_type": "markdown",
   "metadata": {},
   "source": [
    "Next a table containing the necessary information was created by joining the movie_ratings table with the movie_basics table on their common movie_id collumn."
   ]
  },
  {
   "cell_type": "code",
   "execution_count": 7,
   "metadata": {
    "scrolled": false
   },
   "outputs": [
    {
     "data": {
      "text/html": [
       "<div>\n",
       "<style scoped>\n",
       "    .dataframe tbody tr th:only-of-type {\n",
       "        vertical-align: middle;\n",
       "    }\n",
       "\n",
       "    .dataframe tbody tr th {\n",
       "        vertical-align: top;\n",
       "    }\n",
       "\n",
       "    .dataframe thead th {\n",
       "        text-align: right;\n",
       "    }\n",
       "</style>\n",
       "<table border=\"1\" class=\"dataframe\">\n",
       "  <thead>\n",
       "    <tr style=\"text-align: right;\">\n",
       "      <th></th>\n",
       "      <th>id</th>\n",
       "      <th>avgRating</th>\n",
       "      <th>title</th>\n",
       "      <th>genres</th>\n",
       "    </tr>\n",
       "  </thead>\n",
       "  <tbody>\n",
       "    <tr>\n",
       "      <th>0</th>\n",
       "      <td>tt5390098</td>\n",
       "      <td>10.0</td>\n",
       "      <td>The Paternal Bond: Barbary Macaques</td>\n",
       "      <td>Documentary</td>\n",
       "    </tr>\n",
       "    <tr>\n",
       "      <th>1</th>\n",
       "      <td>tt6295832</td>\n",
       "      <td>10.0</td>\n",
       "      <td>Requiem voor een Boom</td>\n",
       "      <td>Documentary</td>\n",
       "    </tr>\n",
       "    <tr>\n",
       "      <th>2</th>\n",
       "      <td>tt1770682</td>\n",
       "      <td>10.0</td>\n",
       "      <td>Freeing Bernie Baran</td>\n",
       "      <td>Crime,Documentary</td>\n",
       "    </tr>\n",
       "    <tr>\n",
       "      <th>3</th>\n",
       "      <td>tt2632430</td>\n",
       "      <td>10.0</td>\n",
       "      <td>Hercule contre Hermès</td>\n",
       "      <td>Documentary</td>\n",
       "    </tr>\n",
       "    <tr>\n",
       "      <th>4</th>\n",
       "      <td>tt8730716</td>\n",
       "      <td>10.0</td>\n",
       "      <td>Pick It Up! - Ska in the '90s</td>\n",
       "      <td>Documentary</td>\n",
       "    </tr>\n",
       "  </tbody>\n",
       "</table>\n",
       "</div>"
      ],
      "text/plain": [
       "          id  avgRating                                title  \\\n",
       "0  tt5390098       10.0  The Paternal Bond: Barbary Macaques   \n",
       "1  tt6295832       10.0                Requiem voor een Boom   \n",
       "2  tt1770682       10.0                 Freeing Bernie Baran   \n",
       "3  tt2632430       10.0                Hercule contre Hermès   \n",
       "4  tt8730716       10.0        Pick It Up! - Ska in the '90s   \n",
       "\n",
       "              genres  \n",
       "0        Documentary  \n",
       "1        Documentary  \n",
       "2  Crime,Documentary  \n",
       "3        Documentary  \n",
       "4        Documentary  "
      ]
     },
     "execution_count": 7,
     "metadata": {},
     "output_type": "execute_result"
    }
   ],
   "source": [
    "t = '''\n",
    "SELECT\n",
    "    movie_ratings.movie_id AS id,\n",
    "    movie_ratings.averagerating AS avgRating,\n",
    "    movie_basics.primary_title AS title,\n",
    "    movie_basics.genres AS genres\n",
    "FROM\n",
    "    movie_ratings\n",
    "INNER JOIN movie_basics ON movie_ratings.movie_id=movie_basics.movie_id\n",
    "\n",
    "\n",
    "ORDER BY avgRating DESC\n",
    "\n",
    ";\n",
    "\n",
    "\n",
    "'''\n",
    "\n",
    "t = pd.read_sql(t, conn)\n",
    "t.head()"
   ]
  },
  {
   "cell_type": "markdown",
   "metadata": {},
   "source": [
    "Now that we have an overall table containing our data for this portion, genres and their average ratings were pulled and added to the genreDict dictionary created earlier."
   ]
  },
  {
   "cell_type": "markdown",
   "metadata": {},
   "source": [
    "The genres used were based off of standard main genres designated by wikipedia at https://en.wikipedia.org/wiki/Film_genre"
   ]
  },
  {
   "cell_type": "code",
   "execution_count": 8,
   "metadata": {},
   "outputs": [],
   "source": [
    "docu = '''\n",
    "SELECT\n",
    "    movie_ratings.movie_id AS id,\n",
    "    movie_ratings.averagerating AS avgRating,\n",
    "    movie_basics.primary_title AS title,\n",
    "    movie_basics.genres AS genres\n",
    "FROM\n",
    "    movie_ratings\n",
    "INNER JOIN movie_basics ON movie_ratings.movie_id=movie_basics.movie_id\n",
    "\n",
    "WHERE\n",
    "    genres LIKE '%Documentary%'\n",
    "\n",
    "ORDER BY avgRating DESC\n",
    "\n",
    ";\n",
    "\n",
    "\n",
    "'''\n",
    "\n",
    "docu = pd.read_sql(docu, conn)\n",
    "documean = docu['avgRating'].mean()\n",
    "genreDict['Documentary'] = documean\n",
    "\n",
    "\n",
    "bio = '''\n",
    "SELECT\n",
    "    movie_ratings.movie_id AS id,\n",
    "    movie_ratings.averagerating AS avgRating,\n",
    "    movie_basics.primary_title AS title,\n",
    "    movie_basics.genres AS genres\n",
    "FROM\n",
    "    movie_ratings\n",
    "INNER JOIN movie_basics ON movie_ratings.movie_id=movie_basics.movie_id\n",
    "\n",
    "WHERE\n",
    "    genres LIKE '%Biography%'\n",
    "\n",
    "ORDER BY avgRating DESC\n",
    "\n",
    ";\n",
    "\n",
    "\n",
    "'''\n",
    "\n",
    "bio = pd.read_sql(bio, conn)\n",
    "biomean = bio['avgRating'].mean()\n",
    "genreDict['Biography'] = biomean\n",
    "\n",
    "\n",
    "music = '''\n",
    "SELECT\n",
    "    movie_ratings.movie_id AS id,\n",
    "    movie_ratings.averagerating AS avgRating,\n",
    "    movie_basics.primary_title AS title,\n",
    "    movie_basics.genres AS genres\n",
    "FROM\n",
    "    movie_ratings\n",
    "INNER JOIN movie_basics ON movie_ratings.movie_id=movie_basics.movie_id\n",
    "\n",
    "WHERE\n",
    "    genres LIKE '%Music%'\n",
    "\n",
    "ORDER BY avgRating DESC\n",
    "\n",
    ";\n",
    "\n",
    "\n",
    "'''\n",
    "\n",
    "music = pd.read_sql(music, conn)\n",
    "musicmean = music['avgRating'].mean()\n",
    "genreDict['Music'] = musicmean\n",
    "\n",
    "\n",
    "drama = '''\n",
    "SELECT\n",
    "    movie_ratings.movie_id AS id,\n",
    "    movie_ratings.averagerating AS avgRating,\n",
    "    movie_basics.primary_title AS title,\n",
    "    movie_basics.genres AS genres\n",
    "FROM\n",
    "    movie_ratings\n",
    "INNER JOIN movie_basics ON movie_ratings.movie_id=movie_basics.movie_id\n",
    "\n",
    "WHERE\n",
    "    genres LIKE '%Drama%'\n",
    "\n",
    "ORDER BY avgRating DESC\n",
    "\n",
    ";\n",
    "\n",
    "\n",
    "'''\n",
    "\n",
    "drama = pd.read_sql(drama, conn)\n",
    "dramamean = drama['avgRating'].mean()\n",
    "genreDict['Drama'] = dramamean\n",
    "\n",
    "\n",
    "family = '''\n",
    "SELECT\n",
    "    movie_ratings.movie_id AS id,\n",
    "    movie_ratings.averagerating AS avgRating,\n",
    "    movie_basics.primary_title AS title,\n",
    "    movie_basics.genres AS genres\n",
    "FROM\n",
    "    movie_ratings\n",
    "INNER JOIN movie_basics ON movie_ratings.movie_id=movie_basics.movie_id\n",
    "\n",
    "WHERE\n",
    "    genres LIKE '%Family%'\n",
    "\n",
    "ORDER BY avgRating DESC\n",
    "\n",
    ";\n",
    "\n",
    "\n",
    "'''\n",
    "\n",
    "family = pd.read_sql(family, conn)\n",
    "familymean = family['avgRating'].mean()\n",
    "genreDict['Family'] = familymean\n",
    "\n",
    "\n",
    "ani = '''\n",
    "SELECT\n",
    "    movie_ratings.movie_id AS id,\n",
    "    movie_ratings.averagerating AS avgRating,\n",
    "    movie_basics.primary_title AS title,\n",
    "    movie_basics.genres AS genres\n",
    "FROM\n",
    "    movie_ratings\n",
    "INNER JOIN movie_basics ON movie_ratings.movie_id=movie_basics.movie_id\n",
    "\n",
    "WHERE\n",
    "    genres LIKE '%Animation%'\n",
    "\n",
    "ORDER BY avgRating DESC\n",
    "\n",
    ";\n",
    "\n",
    "\n",
    "'''\n",
    "\n",
    "ani = pd.read_sql(ani, conn)\n",
    "animean = ani['avgRating'].mean()\n",
    "genreDict['Animation'] = animean\n",
    "\n",
    "\n",
    "adv = '''\n",
    "SELECT\n",
    "    movie_ratings.movie_id AS id,\n",
    "    movie_ratings.averagerating AS avgRating,\n",
    "    movie_basics.primary_title AS title,\n",
    "    movie_basics.genres AS genres\n",
    "FROM\n",
    "    movie_ratings\n",
    "INNER JOIN movie_basics ON movie_ratings.movie_id=movie_basics.movie_id\n",
    "\n",
    "WHERE\n",
    "    genres LIKE '%Adventure%'\n",
    "\n",
    "ORDER BY avgRating DESC\n",
    "\n",
    ";\n",
    "\n",
    "\n",
    "'''\n",
    "\n",
    "adv = pd.read_sql(adv, conn)\n",
    "advmean = adv['avgRating'].mean()\n",
    "genreDict['Adventure'] = advmean\n",
    "\n",
    "\n",
    "rom = '''\n",
    "SELECT\n",
    "    movie_ratings.movie_id AS id,\n",
    "    movie_ratings.averagerating AS avgRating,\n",
    "    movie_basics.primary_title AS title,\n",
    "    movie_basics.genres AS genres\n",
    "FROM\n",
    "    movie_ratings\n",
    "INNER JOIN movie_basics ON movie_ratings.movie_id=movie_basics.movie_id\n",
    "\n",
    "WHERE\n",
    "    genres LIKE '%Romance%'\n",
    "\n",
    "ORDER BY avgRating DESC\n",
    "\n",
    ";\n",
    "\n",
    "\n",
    "'''\n",
    "\n",
    "rom = pd.read_sql(rom, conn)\n",
    "rommean = rom['avgRating'].mean()\n",
    "genreDict['Romance'] = rommean\n",
    "\n",
    "\n",
    "com = '''\n",
    "SELECT\n",
    "    movie_ratings.movie_id AS id,\n",
    "    movie_ratings.averagerating AS avgRating,\n",
    "    movie_basics.primary_title AS title,\n",
    "    movie_basics.genres AS genres\n",
    "FROM\n",
    "    movie_ratings\n",
    "INNER JOIN movie_basics ON movie_ratings.movie_id=movie_basics.movie_id\n",
    "\n",
    "WHERE\n",
    "    genres LIKE '%Comedy%'\n",
    "\n",
    "ORDER BY avgRating DESC\n",
    "\n",
    ";\n",
    "\n",
    "\n",
    "'''\n",
    "\n",
    "com = pd.read_sql(com, conn)\n",
    "commean = com['avgRating'].mean()\n",
    "genreDict['Comedy'] = commean\n",
    "\n",
    "\n",
    "mys = '''\n",
    "SELECT\n",
    "    movie_ratings.movie_id AS id,\n",
    "    movie_ratings.averagerating AS avgRating,\n",
    "    movie_basics.primary_title AS title,\n",
    "    movie_basics.genres AS genres\n",
    "FROM\n",
    "    movie_ratings\n",
    "INNER JOIN movie_basics ON movie_ratings.movie_id=movie_basics.movie_id\n",
    "\n",
    "WHERE\n",
    "    genres LIKE '%Mystery%'\n",
    "\n",
    "ORDER BY avgRating DESC\n",
    "\n",
    ";\n",
    "\n",
    "\n",
    "'''\n",
    "\n",
    "mys = pd.read_sql(mys, conn)\n",
    "mysmean = mys['avgRating'].mean()\n",
    "genreDict['Mystery'] = mysmean\n",
    "\n",
    "\n",
    "fant = '''\n",
    "SELECT\n",
    "    movie_ratings.movie_id AS id,\n",
    "    movie_ratings.averagerating AS avgRating,\n",
    "    movie_basics.primary_title AS title,\n",
    "    movie_basics.genres AS genres\n",
    "FROM\n",
    "    movie_ratings\n",
    "INNER JOIN movie_basics ON movie_ratings.movie_id=movie_basics.movie_id\n",
    "\n",
    "WHERE\n",
    "    genres LIKE '%Fantasy%'\n",
    "\n",
    "ORDER BY avgRating DESC\n",
    "\n",
    ";\n",
    "\n",
    "\n",
    "'''\n",
    "\n",
    "fant = pd.read_sql(fant, conn)\n",
    "fantmean = fant['avgRating'].mean()\n",
    "genreDict['Fantasy'] = fantmean\n",
    "\n",
    "\n",
    "action = '''\n",
    "SELECT\n",
    "    movie_ratings.movie_id AS id,\n",
    "    movie_ratings.averagerating AS avgRating,\n",
    "    movie_basics.primary_title AS title,\n",
    "    movie_basics.genres AS genres\n",
    "FROM\n",
    "    movie_ratings\n",
    "INNER JOIN movie_basics ON movie_ratings.movie_id=movie_basics.movie_id\n",
    "\n",
    "WHERE\n",
    "    genres LIKE '%Action%'\n",
    "\n",
    "ORDER BY avgRating DESC\n",
    "\n",
    ";\n",
    "\n",
    "\n",
    "'''\n",
    "\n",
    "action = pd.read_sql(action, conn)\n",
    "actionmean = action['avgRating'].mean()\n",
    "genreDict['Action'] = actionmean\n",
    "\n",
    "\n",
    "thriller = '''\n",
    "SELECT\n",
    "    movie_ratings.movie_id AS id,\n",
    "    movie_ratings.averagerating AS avgRating,\n",
    "    movie_basics.primary_title AS title,\n",
    "    movie_basics.genres AS genres\n",
    "FROM\n",
    "    movie_ratings\n",
    "INNER JOIN movie_basics ON movie_ratings.movie_id=movie_basics.movie_id\n",
    "\n",
    "WHERE\n",
    "    genres LIKE '%Thriller%'\n",
    "\n",
    "ORDER BY avgRating DESC\n",
    "\n",
    ";\n",
    "\n",
    "\n",
    "'''\n",
    "\n",
    "thriller = pd.read_sql(thriller, conn)\n",
    "thrillermean = thriller['avgRating'].mean()\n",
    "genreDict['Thriller'] = thrillermean\n",
    "\n",
    "sci = '''\n",
    "SELECT\n",
    "    movie_ratings.movie_id AS id,\n",
    "    movie_ratings.averagerating AS avgRating,\n",
    "    movie_basics.primary_title AS title,\n",
    "    movie_basics.genres AS genres\n",
    "FROM\n",
    "    movie_ratings\n",
    "INNER JOIN movie_basics ON movie_ratings.movie_id=movie_basics.movie_id\n",
    "\n",
    "WHERE\n",
    "    genres LIKE '%Sci-Fi%'\n",
    "\n",
    "ORDER BY avgRating DESC\n",
    "\n",
    ";\n",
    "\n",
    "\n",
    "'''\n",
    "\n",
    "sci = pd.read_sql(sci, conn)\n",
    "scimean = sci['avgRating'].mean()\n",
    "genreDict['Sci_fi'] = scimean\n",
    "\n",
    "\n",
    "horror = '''\n",
    "SELECT\n",
    "    movie_ratings.movie_id AS id,\n",
    "    movie_ratings.averagerating AS avgRating,\n",
    "    movie_basics.primary_title AS title,\n",
    "    movie_basics.genres AS genres\n",
    "FROM\n",
    "    movie_ratings\n",
    "INNER JOIN movie_basics ON movie_ratings.movie_id=movie_basics.movie_id\n",
    "\n",
    "WHERE\n",
    "    genres LIKE '%Horror%'\n",
    "\n",
    "ORDER BY avgRating DESC\n",
    "\n",
    ";\n",
    "\n",
    "\n",
    "'''\n",
    "\n",
    "horror = pd.read_sql(horror, conn)\n",
    "horrormean = horror['avgRating'].mean()\n",
    "genreDict['Horror'] = horrormean"
   ]
  },
  {
   "cell_type": "markdown",
   "metadata": {},
   "source": [
    "Next, we wanted to sort our dictionary in descending order so we could more easily identify where each genre fell compared to it's counterparts."
   ]
  },
  {
   "cell_type": "code",
   "execution_count": 9,
   "metadata": {},
   "outputs": [],
   "source": [
    "g = sorted(genreDict.items(), key=lambda x:x[1], reverse=True)\n",
    "genreDictSorted = dict(g)\n"
   ]
  },
  {
   "cell_type": "markdown",
   "metadata": {},
   "source": [
    "Now that the genres and their associated average ratings have been pulled and added to the genreDict dictionary, we can create a list of genres from our genreDict keys as well as a second list of their corresponding values in preparation for visualization."
   ]
  },
  {
   "cell_type": "code",
   "execution_count": 10,
   "metadata": {},
   "outputs": [],
   "source": [
    "genres = list(genreDictSorted.keys())\n",
    "ratings = list(genreDictSorted.values())\n"
   ]
  },
  {
   "cell_type": "markdown",
   "metadata": {},
   "source": [
    "With our dictionary sorted and our lists created, we now have our x and y values ready to plot in a graph to help us better see and understand the results."
   ]
  },
  {
   "cell_type": "code",
   "execution_count": 11,
   "metadata": {
    "scrolled": false
   },
   "outputs": [],
   "source": [
    "#Dictionary credited to Ashli\n",
    "avg_main_genre_gross = {\n",
    "    \n",
    "    'Action': 8.749614e+07,\n",
    "    'Adventure': 1.148395e+08,\n",
    "    'Animation': 1.128608e+08,\n",
    "    'Biography': 2.854831e+07,\n",
    "    'Comedy': 4.654518e+07,\n",
    "    'Documentary': 3270702.98,\n",
    "    'Drama':  2.327981e+07,\n",
    "    'Family': 6.359999e+07, \n",
    "    'Fantasy': 6.933615e+07,\n",
    "    'Horror': 3.157331e+07,\n",
    "    'Music': 3.052755e+07,\n",
    "    'Mystery': 3.378377e+07,\n",
    "    'Romance': 2.223531e+07,\n",
    "    'Sci-Fi': 1.390575e+08,\n",
    "    'Thriller': 4.333931e+07,\n",
    "    \n",
    "}\n",
    "\n",
    "\n",
    "\n",
    "\n",
    "\n",
    "1,390,575,00.000000\n",
    "grossList = [3270702.98, 2.854831e+07, 3.052755e+07, 2.327981e+07, 6.359999e+07, 1.128608e+08, \n",
    "            1.148395e+08, 2.223531e+07, 4.654518e+07, 3.378377e+07, 6.933615e+07, 8.749614e+07,\n",
    "            4.333931e+07, 1.390575e+08, 3.157331e+07]\n"
   ]
  },
  {
   "cell_type": "code",
   "execution_count": 12,
   "metadata": {
    "scrolled": false
   },
   "outputs": [
    {
     "data": {
      "image/png": "[encoded data removed]",
      "text/plain": [
       "<Figure size 720x504 with 1 Axes>"
      ]
     },
     "metadata": {
      "needs_background": "light"
     },
     "output_type": "display_data"
    }
   ],
   "source": [
    "g = sns.barplot(x=genres, y=ratings,color='tab:blue', edgecolor='black');\n",
    "g.figure.set_size_inches(10,7);\n",
    "g.axes.set_title('Movie Genres and Their Average Ratings', fontsize=24);\n",
    "plt.xticks(rotation=45);\n",
    "plt.xlabel('Genres', fontsize=16)\n",
    "plt.ylabel('Average Rating out of 10', fontsize=16);"
   ]
  },
  {
   "cell_type": "code",
   "execution_count": 13,
   "metadata": {},
   "outputs": [
    {
     "name": "stderr",
     "output_type": "stream",
     "text": [
      "/Users/ashlidougherty/opt/anaconda3/envs/learn-env/lib/python3.8/site-packages/seaborn/_decorators.py:36: FutureWarning: Pass the following variables as keyword args: x, y. From version 0.12, the only valid positional argument will be `data`, and passing other arguments without an explicit keyword will result in an error or misinterpretation.\n",
      "  warnings.warn(\n",
      "<ipython-input-13-0ed001bea08b>:6: UserWarning: FixedFormatter should only be used together with FixedLocator\n",
      "  gr_df.set_yticklabels([' ','$0','$20', '$40', '$60', '$80', '$100', '$120', '$140'])\n"
     ]
    },
    {
     "data": {
      "image/png": "[encoded data removed]",
      "text/plain": [
       "<Figure size 432x288 with 1 Axes>"
      ]
     },
     "metadata": {
      "needs_background": "light"
     },
     "output_type": "display_data"
    }
   ],
   "source": [
    "gr_df = sns.scatterplot(ratings, grossList);\n",
    "\n",
    "gr_df.set_ylabel('Gross Domestic in Millions', fontsize=14)\n",
    "gr_df.set_xlabel('Average Rating Out of Ten', fontsize=14)\n",
    "#gr_df.ticklabel_format(style='plain', axis = 'y', )\n",
    "gr_df.set_yticklabels([' ','$0','$20', '$40', '$60', '$80', '$100', '$120', '$140'])\n",
    "gr_df.set_title('Gross Domestic Revenue versus Average Rating', weight='bold', fontsize = 16)\n",
    "co = np.corrcoef(grossList, ratings,)\n",
    "\n"
   ]
  },
  {
   "cell_type": "code",
   "execution_count": 14,
   "metadata": {},
   "outputs": [
    {
     "name": "stdout",
     "output_type": "stream",
     "text": [
      " The correlation coefficient between average genre ratings and average genre gross profit is -0.3888113168555871.\n"
     ]
    }
   ],
   "source": [
    "print(f' The correlation coefficient between average genre ratings and average genre gross profit is {co[0][1]}.')"
   ]
  },
  {
   "cell_type": "markdown",
   "metadata": {},
   "source": [
    "After looking at the graph above, we thought it would be interesting to see the correlation between movie rating and gross profit, and we can see that there in near no relation."
   ]
  },
  {
   "cell_type": "markdown",
   "metadata": {},
   "source": [
    "## Evaluation\n",
    "From what we've gathered above, we can see that Documentaries, Biographies, and Music movies tend to recieve the best ratings, while Horror, Sci-Fi, and Thriller films recieve poorer ratings. While people often use these ratings to form an opinion as to whether or not they will see a movie, we will dive into how heavily ratings may or may not effect the overall profitability of a film."
   ]
  },
  {
   "cell_type": "markdown",
   "metadata": {},
   "source": [
    "# Exploring how genre affects domestic gross revenue"
   ]
  },
  {
   "cell_type": "markdown",
   "metadata": {},
   "source": [
    "### Author: Ashli Dougherty"
   ]
  },
  {
   "cell_type": "markdown",
   "metadata": {},
   "source": [
    "## Average Gross Domestic Revenue by Genre"
   ]
  },
  {
   "cell_type": "markdown",
   "metadata": {},
   "source": [
    "### Preparing Data for Domestic Gross and Genres"
   ]
  },
  {
   "cell_type": "markdown",
   "metadata": {},
   "source": [
    "We wanted to show which type of movies were generating the most box office revenue. We examined domestic gross box office returns from US movies between the years of 2010 and 2018. Data is from Box Office Mojo: https://www.boxofficemojo.com/?ref_=bo_nb_cso_mojologo."
   ]
  },
  {
   "cell_type": "markdown",
   "metadata": {},
   "source": [
    "Loading data frame to examine movie title, domestic gross, and foreign gross."
   ]
  },
  {
   "cell_type": "code",
   "execution_count": 15,
   "metadata": {
    "scrolled": true
   },
   "outputs": [
    {
     "data": {
      "text/html": [
       "<div>\n",
       "<style scoped>\n",
       "    .dataframe tbody tr th:only-of-type {\n",
       "        vertical-align: middle;\n",
       "    }\n",
       "\n",
       "    .dataframe tbody tr th {\n",
       "        vertical-align: top;\n",
       "    }\n",
       "\n",
       "    .dataframe thead th {\n",
       "        text-align: right;\n",
       "    }\n",
       "</style>\n",
       "<table border=\"1\" class=\"dataframe\">\n",
       "  <thead>\n",
       "    <tr style=\"text-align: right;\">\n",
       "      <th></th>\n",
       "      <th>title</th>\n",
       "      <th>studio</th>\n",
       "      <th>domestic_gross</th>\n",
       "      <th>foreign_gross</th>\n",
       "      <th>year</th>\n",
       "    </tr>\n",
       "  </thead>\n",
       "  <tbody>\n",
       "    <tr>\n",
       "      <th>0</th>\n",
       "      <td>Toy Story 3</td>\n",
       "      <td>BV</td>\n",
       "      <td>415000000.0</td>\n",
       "      <td>652000000</td>\n",
       "      <td>2010</td>\n",
       "    </tr>\n",
       "    <tr>\n",
       "      <th>1</th>\n",
       "      <td>Alice in Wonderland (2010)</td>\n",
       "      <td>BV</td>\n",
       "      <td>334200000.0</td>\n",
       "      <td>691300000</td>\n",
       "      <td>2010</td>\n",
       "    </tr>\n",
       "    <tr>\n",
       "      <th>2</th>\n",
       "      <td>Harry Potter and the Deathly Hallows Part 1</td>\n",
       "      <td>WB</td>\n",
       "      <td>296000000.0</td>\n",
       "      <td>664300000</td>\n",
       "      <td>2010</td>\n",
       "    </tr>\n",
       "    <tr>\n",
       "      <th>3</th>\n",
       "      <td>Inception</td>\n",
       "      <td>WB</td>\n",
       "      <td>292600000.0</td>\n",
       "      <td>535700000</td>\n",
       "      <td>2010</td>\n",
       "    </tr>\n",
       "    <tr>\n",
       "      <th>4</th>\n",
       "      <td>Shrek Forever After</td>\n",
       "      <td>P/DW</td>\n",
       "      <td>238700000.0</td>\n",
       "      <td>513900000</td>\n",
       "      <td>2010</td>\n",
       "    </tr>\n",
       "  </tbody>\n",
       "</table>\n",
       "</div>"
      ],
      "text/plain": [
       "                                         title studio  domestic_gross  \\\n",
       "0                                  Toy Story 3     BV     415000000.0   \n",
       "1                   Alice in Wonderland (2010)     BV     334200000.0   \n",
       "2  Harry Potter and the Deathly Hallows Part 1     WB     296000000.0   \n",
       "3                                    Inception     WB     292600000.0   \n",
       "4                          Shrek Forever After   P/DW     238700000.0   \n",
       "\n",
       "  foreign_gross  year  \n",
       "0     652000000  2010  \n",
       "1     691300000  2010  \n",
       "2     664300000  2010  \n",
       "3     535700000  2010  \n",
       "4     513900000  2010  "
      ]
     },
     "execution_count": 15,
     "metadata": {},
     "output_type": "execute_result"
    }
   ],
   "source": [
    "bom_df = pd.read_csv('./zippedData/bom.movie_gross.csv.gz')\n",
    "bom_df.head()"
   ]
  },
  {
   "cell_type": "code",
   "execution_count": 16,
   "metadata": {},
   "outputs": [
    {
     "name": "stdout",
     "output_type": "stream",
     "text": [
      "<class 'pandas.core.frame.DataFrame'>\n",
      "RangeIndex: 3387 entries, 0 to 3386\n",
      "Data columns (total 5 columns):\n",
      " #   Column          Non-Null Count  Dtype  \n",
      "---  ------          --------------  -----  \n",
      " 0   title           3387 non-null   object \n",
      " 1   studio          3382 non-null   object \n",
      " 2   domestic_gross  3359 non-null   float64\n",
      " 3   foreign_gross   2037 non-null   object \n",
      " 4   year            3387 non-null   int64  \n",
      "dtypes: float64(1), int64(1), object(3)\n",
      "memory usage: 132.4+ KB\n"
     ]
    }
   ],
   "source": [
    "bom_df.info()"
   ]
  },
  {
   "cell_type": "markdown",
   "metadata": {},
   "source": [
    "Upon exploration we saw that there were null values in both gross columns. "
   ]
  },
  {
   "cell_type": "code",
   "execution_count": 17,
   "metadata": {},
   "outputs": [
    {
     "name": "stdout",
     "output_type": "stream",
     "text": [
      "1350\n",
      "28\n"
     ]
    }
   ],
   "source": [
    "print(bom_df['foreign_gross'].isna().sum())\n",
    "print(bom_df['domestic_gross'].isna().sum())"
   ]
  },
  {
   "cell_type": "markdown",
   "metadata": {},
   "source": [
    "We chose to focus just on domestic gross values as there are 1350 null values for foreign gross compared to only 28 null values for domestic gross. We then had to decide what action to take for the null vales in domestic gross."
   ]
  },
  {
   "cell_type": "code",
   "execution_count": 18,
   "metadata": {},
   "outputs": [
    {
     "data": {
      "text/plain": [
       "count    3.359000e+03\n",
       "mean     2.874585e+07\n",
       "std      6.698250e+07\n",
       "min      1.000000e+02\n",
       "25%      1.200000e+05\n",
       "50%      1.400000e+06\n",
       "75%      2.790000e+07\n",
       "max      9.367000e+08\n",
       "Name: domestic_gross, dtype: float64"
      ]
     },
     "execution_count": 18,
     "metadata": {},
     "output_type": "execute_result"
    }
   ],
   "source": [
    "bom_df['domestic_gross'].describe()"
   ]
  },
  {
   "cell_type": "markdown",
   "metadata": {},
   "source": [
    "Null values were dropped for the following reasons: \n",
    "- Due to the large difference between the minimum (100) and the max (9 million) values for domestic gross as inserting either the mean or mediuan could skew over all averages.\n",
    "- Null values only represent less than 1% of all entries. "
   ]
  },
  {
   "cell_type": "markdown",
   "metadata": {},
   "source": [
    "Final table filtered to only show title and domestic gross revenue. "
   ]
  },
  {
   "cell_type": "code",
   "execution_count": 19,
   "metadata": {
    "scrolled": false
   },
   "outputs": [
    {
     "data": {
      "text/html": [
       "<div>\n",
       "<style scoped>\n",
       "    .dataframe tbody tr th:only-of-type {\n",
       "        vertical-align: middle;\n",
       "    }\n",
       "\n",
       "    .dataframe tbody tr th {\n",
       "        vertical-align: top;\n",
       "    }\n",
       "\n",
       "    .dataframe thead th {\n",
       "        text-align: right;\n",
       "    }\n",
       "</style>\n",
       "<table border=\"1\" class=\"dataframe\">\n",
       "  <thead>\n",
       "    <tr style=\"text-align: right;\">\n",
       "      <th></th>\n",
       "      <th>title</th>\n",
       "      <th>domestic_gross</th>\n",
       "    </tr>\n",
       "  </thead>\n",
       "  <tbody>\n",
       "    <tr>\n",
       "      <th>1872</th>\n",
       "      <td>Star Wars: The Force Awakens</td>\n",
       "      <td>936700000.0</td>\n",
       "    </tr>\n",
       "    <tr>\n",
       "      <th>3080</th>\n",
       "      <td>Black Panther</td>\n",
       "      <td>700100000.0</td>\n",
       "    </tr>\n",
       "    <tr>\n",
       "      <th>3079</th>\n",
       "      <td>Avengers: Infinity War</td>\n",
       "      <td>678800000.0</td>\n",
       "    </tr>\n",
       "    <tr>\n",
       "      <th>1873</th>\n",
       "      <td>Jurassic World</td>\n",
       "      <td>652300000.0</td>\n",
       "    </tr>\n",
       "    <tr>\n",
       "      <th>727</th>\n",
       "      <td>Marvel's The Avengers</td>\n",
       "      <td>623400000.0</td>\n",
       "    </tr>\n",
       "  </tbody>\n",
       "</table>\n",
       "</div>"
      ],
      "text/plain": [
       "                             title  domestic_gross\n",
       "1872  Star Wars: The Force Awakens     936700000.0\n",
       "3080                 Black Panther     700100000.0\n",
       "3079        Avengers: Infinity War     678800000.0\n",
       "1873                Jurassic World     652300000.0\n",
       "727          Marvel's The Avengers     623400000.0"
      ]
     },
     "execution_count": 19,
     "metadata": {},
     "output_type": "execute_result"
    }
   ],
   "source": [
    "bom_domestic_df = bom_df.loc[: , ['title','domestic_gross']]\n",
    "bom_domestic_df_clean = bom_domestic_df.dropna(subset =['domestic_gross'])\n",
    "bom_domestic_df_clean.sort_values(by='domestic_gross', ascending = False).head()"
   ]
  },
  {
   "cell_type": "markdown",
   "metadata": {},
   "source": [
    "New data frame was created using IMBD SQL data base that would include both the title and genres. Based on the titles from the Box Office Mojo table we decided to include films from the US region only. "
   ]
  },
  {
   "cell_type": "code",
   "execution_count": 20,
   "metadata": {},
   "outputs": [
    {
     "data": {
      "text/html": [
       "<div>\n",
       "<style scoped>\n",
       "    .dataframe tbody tr th:only-of-type {\n",
       "        vertical-align: middle;\n",
       "    }\n",
       "\n",
       "    .dataframe tbody tr th {\n",
       "        vertical-align: top;\n",
       "    }\n",
       "\n",
       "    .dataframe thead th {\n",
       "        text-align: right;\n",
       "    }\n",
       "</style>\n",
       "<table border=\"1\" class=\"dataframe\">\n",
       "  <thead>\n",
       "    <tr style=\"text-align: right;\">\n",
       "      <th></th>\n",
       "      <th>title</th>\n",
       "      <th>genres</th>\n",
       "      <th>region</th>\n",
       "    </tr>\n",
       "  </thead>\n",
       "  <tbody>\n",
       "    <tr>\n",
       "      <th>0</th>\n",
       "      <td>#humbled</td>\n",
       "      <td>None</td>\n",
       "      <td>US</td>\n",
       "    </tr>\n",
       "    <tr>\n",
       "      <th>1</th>\n",
       "      <td>$MOKE</td>\n",
       "      <td>None</td>\n",
       "      <td>US</td>\n",
       "    </tr>\n",
       "    <tr>\n",
       "      <th>2</th>\n",
       "      <td>&amp;</td>\n",
       "      <td>None</td>\n",
       "      <td>US</td>\n",
       "    </tr>\n",
       "    <tr>\n",
       "      <th>3</th>\n",
       "      <td>10 Days in Daytona: Bike Week 2012</td>\n",
       "      <td>None</td>\n",
       "      <td>US</td>\n",
       "    </tr>\n",
       "    <tr>\n",
       "      <th>4</th>\n",
       "      <td>1000 Waves to Surfing Glory</td>\n",
       "      <td>None</td>\n",
       "      <td>US</td>\n",
       "    </tr>\n",
       "  </tbody>\n",
       "</table>\n",
       "</div>"
      ],
      "text/plain": [
       "                                title genres region\n",
       "0                            #humbled   None     US\n",
       "1                               $MOKE   None     US\n",
       "2                                   &   None     US\n",
       "3  10 Days in Daytona: Bike Week 2012   None     US\n",
       "4         1000 Waves to Surfing Glory   None     US"
      ]
     },
     "execution_count": 20,
     "metadata": {},
     "output_type": "execute_result"
    }
   ],
   "source": [
    "basics_q = \"\"\"\n",
    "\n",
    "SELECT\n",
    "    DISTINCT mb.primary_title as title,\n",
    "    mb.genres,\n",
    "    ma.region\n",
    "\n",
    "FROM\n",
    "    movie_basics as mb\n",
    "        INNER JOIN movie_akas as ma\n",
    "            ON mb.movie_id = ma.movie_id\n",
    "\n",
    "WHERE\n",
    "    ma.region = 'US'\n",
    "\n",
    "GROUP BY\n",
    "    mb.genres,\n",
    "    title\n",
    "\n",
    "\"\"\"\n",
    "\n",
    "mv_basics = pd.read_sql(basics_q, conn)\n",
    "mv_basics.head()"
   ]
  },
  {
   "cell_type": "code",
   "execution_count": 21,
   "metadata": {},
   "outputs": [
    {
     "name": "stdout",
     "output_type": "stream",
     "text": [
      "<class 'pandas.core.frame.DataFrame'>\n",
      "RangeIndex: 47143 entries, 0 to 47142\n",
      "Data columns (total 3 columns):\n",
      " #   Column  Non-Null Count  Dtype \n",
      "---  ------  --------------  ----- \n",
      " 0   title   47143 non-null  object\n",
      " 1   genres  46552 non-null  object\n",
      " 2   region  47143 non-null  object\n",
      "dtypes: object(3)\n",
      "memory usage: 1.1+ MB\n"
     ]
    }
   ],
   "source": [
    "mv_basics.info()"
   ]
  },
  {
   "cell_type": "markdown",
   "metadata": {},
   "source": [
    "Checked for duplicate titles and decided to drop them for the following reasons: \n",
    "- It was not possible to search if each duplicate title was a differnt movie based on sheer numbers of entries.\n",
    "- Duplicate titles only representative of 7% of the data"
   ]
  },
  {
   "cell_type": "code",
   "execution_count": 22,
   "metadata": {
    "scrolled": true
   },
   "outputs": [
    {
     "data": {
      "text/plain": [
       "False    43865\n",
       "True      3278\n",
       "Name: title, dtype: int64"
      ]
     },
     "execution_count": 22,
     "metadata": {},
     "output_type": "execute_result"
    }
   ],
   "source": [
    "mv_basics['title'].duplicated(keep =False).value_counts()"
   ]
  },
  {
   "cell_type": "code",
   "execution_count": 23,
   "metadata": {
    "scrolled": true
   },
   "outputs": [
    {
     "data": {
      "text/html": [
       "<div>\n",
       "<style scoped>\n",
       "    .dataframe tbody tr th:only-of-type {\n",
       "        vertical-align: middle;\n",
       "    }\n",
       "\n",
       "    .dataframe tbody tr th {\n",
       "        vertical-align: top;\n",
       "    }\n",
       "\n",
       "    .dataframe thead th {\n",
       "        text-align: right;\n",
       "    }\n",
       "</style>\n",
       "<table border=\"1\" class=\"dataframe\">\n",
       "  <thead>\n",
       "    <tr style=\"text-align: right;\">\n",
       "      <th></th>\n",
       "      <th>title</th>\n",
       "      <th>genres</th>\n",
       "      <th>region</th>\n",
       "    </tr>\n",
       "  </thead>\n",
       "  <tbody>\n",
       "    <tr>\n",
       "      <th>0</th>\n",
       "      <td>#humbled</td>\n",
       "      <td>None</td>\n",
       "      <td>US</td>\n",
       "    </tr>\n",
       "    <tr>\n",
       "      <th>1</th>\n",
       "      <td>$MOKE</td>\n",
       "      <td>None</td>\n",
       "      <td>US</td>\n",
       "    </tr>\n",
       "    <tr>\n",
       "      <th>2</th>\n",
       "      <td>&amp;</td>\n",
       "      <td>None</td>\n",
       "      <td>US</td>\n",
       "    </tr>\n",
       "    <tr>\n",
       "      <th>3</th>\n",
       "      <td>10 Days in Daytona: Bike Week 2012</td>\n",
       "      <td>None</td>\n",
       "      <td>US</td>\n",
       "    </tr>\n",
       "    <tr>\n",
       "      <th>4</th>\n",
       "      <td>1000 Waves to Surfing Glory</td>\n",
       "      <td>None</td>\n",
       "      <td>US</td>\n",
       "    </tr>\n",
       "  </tbody>\n",
       "</table>\n",
       "</div>"
      ],
      "text/plain": [
       "                                title genres region\n",
       "0                            #humbled   None     US\n",
       "1                               $MOKE   None     US\n",
       "2                                   &   None     US\n",
       "3  10 Days in Daytona: Bike Week 2012   None     US\n",
       "4         1000 Waves to Surfing Glory   None     US"
      ]
     },
     "execution_count": 23,
     "metadata": {},
     "output_type": "execute_result"
    }
   ],
   "source": [
    "mv_basics_dropped = mv_basics[(mv_basics['title'].duplicated(keep =False)) == False]\n",
    "mv_basics_dropped.head()"
   ]
  },
  {
   "cell_type": "code",
   "execution_count": 24,
   "metadata": {},
   "outputs": [
    {
     "name": "stdout",
     "output_type": "stream",
     "text": [
      "<class 'pandas.core.frame.DataFrame'>\n",
      "Int64Index: 43865 entries, 0 to 47142\n",
      "Data columns (total 3 columns):\n",
      " #   Column  Non-Null Count  Dtype \n",
      "---  ------  --------------  ----- \n",
      " 0   title   43865 non-null  object\n",
      " 1   genres  43322 non-null  object\n",
      " 2   region  43865 non-null  object\n",
      "dtypes: object(3)\n",
      "memory usage: 1.3+ MB\n"
     ]
    }
   ],
   "source": [
    "mv_basics_dropped.info()"
   ]
  },
  {
   "cell_type": "code",
   "execution_count": 25,
   "metadata": {},
   "outputs": [
    {
     "data": {
      "text/plain": [
       "543"
      ]
     },
     "execution_count": 25,
     "metadata": {},
     "output_type": "execute_result"
    }
   ],
   "source": [
    "mv_basics_dropped['genres'].isna().sum()"
   ]
  },
  {
   "cell_type": "markdown",
   "metadata": {},
   "source": [
    "Checked for null data and saw that there were 543 missing values. These were also dropped becuase having an \"Unknown\" genre would not help in answering our question of which specific genres produce revenue."
   ]
  },
  {
   "cell_type": "markdown",
   "metadata": {},
   "source": [
    "### Merged Data frames\n",
    "IMDB data that contained title and genre was merged with Box Office Mojo Data frame that contained title and domestic gross. These tables were joined on movie title, so only common titles were kept for analysis. "
   ]
  },
  {
   "cell_type": "code",
   "execution_count": 26,
   "metadata": {
    "scrolled": false
   },
   "outputs": [
    {
     "data": {
      "text/html": [
       "<div>\n",
       "<style scoped>\n",
       "    .dataframe tbody tr th:only-of-type {\n",
       "        vertical-align: middle;\n",
       "    }\n",
       "\n",
       "    .dataframe tbody tr th {\n",
       "        vertical-align: top;\n",
       "    }\n",
       "\n",
       "    .dataframe thead th {\n",
       "        text-align: right;\n",
       "    }\n",
       "</style>\n",
       "<table border=\"1\" class=\"dataframe\">\n",
       "  <thead>\n",
       "    <tr style=\"text-align: right;\">\n",
       "      <th></th>\n",
       "      <th>title</th>\n",
       "      <th>genres</th>\n",
       "      <th>region</th>\n",
       "      <th>domestic_gross</th>\n",
       "    </tr>\n",
       "  </thead>\n",
       "  <tbody>\n",
       "    <tr>\n",
       "      <th>0</th>\n",
       "      <td>Mountain</td>\n",
       "      <td>None</td>\n",
       "      <td>US</td>\n",
       "      <td>365000.0</td>\n",
       "    </tr>\n",
       "    <tr>\n",
       "      <th>1</th>\n",
       "      <td>The Man with the Iron Fists</td>\n",
       "      <td>Action</td>\n",
       "      <td>US</td>\n",
       "      <td>15600000.0</td>\n",
       "    </tr>\n",
       "    <tr>\n",
       "      <th>2</th>\n",
       "      <td>War of the Arrows</td>\n",
       "      <td>Action</td>\n",
       "      <td>US</td>\n",
       "      <td>251000.0</td>\n",
       "    </tr>\n",
       "    <tr>\n",
       "      <th>3</th>\n",
       "      <td>Falcon Rising</td>\n",
       "      <td>Action,Adventure</td>\n",
       "      <td>US</td>\n",
       "      <td>11800.0</td>\n",
       "    </tr>\n",
       "    <tr>\n",
       "      <th>4</th>\n",
       "      <td>Ragnarok</td>\n",
       "      <td>Action,Adventure</td>\n",
       "      <td>US</td>\n",
       "      <td>1400.0</td>\n",
       "    </tr>\n",
       "  </tbody>\n",
       "</table>\n",
       "</div>"
      ],
      "text/plain": [
       "                         title            genres region  domestic_gross\n",
       "0                     Mountain              None     US        365000.0\n",
       "1  The Man with the Iron Fists            Action     US      15600000.0\n",
       "2            War of the Arrows            Action     US        251000.0\n",
       "3                Falcon Rising  Action,Adventure     US         11800.0\n",
       "4                     Ragnarok  Action,Adventure     US          1400.0"
      ]
     },
     "execution_count": 26,
     "metadata": {},
     "output_type": "execute_result"
    }
   ],
   "source": [
    "genre_domgross = mv_basics_dropped.merge(bom_domestic_df_clean, how='inner', on='title')\n",
    "genre_domgross.head()"
   ]
  },
  {
   "cell_type": "code",
   "execution_count": 27,
   "metadata": {},
   "outputs": [
    {
     "data": {
      "text/plain": [
       "1"
      ]
     },
     "execution_count": 27,
     "metadata": {},
     "output_type": "execute_result"
    }
   ],
   "source": [
    "genre_domgross['genres'].isna().sum()"
   ]
  },
  {
   "cell_type": "markdown",
   "metadata": {},
   "source": [
    "Once again null values for genres was dropped using same earlier arguments."
   ]
  },
  {
   "cell_type": "code",
   "execution_count": 28,
   "metadata": {
    "scrolled": true
   },
   "outputs": [
    {
     "data": {
      "text/html": [
       "<div>\n",
       "<style scoped>\n",
       "    .dataframe tbody tr th:only-of-type {\n",
       "        vertical-align: middle;\n",
       "    }\n",
       "\n",
       "    .dataframe tbody tr th {\n",
       "        vertical-align: top;\n",
       "    }\n",
       "\n",
       "    .dataframe thead th {\n",
       "        text-align: right;\n",
       "    }\n",
       "</style>\n",
       "<table border=\"1\" class=\"dataframe\">\n",
       "  <thead>\n",
       "    <tr style=\"text-align: right;\">\n",
       "      <th></th>\n",
       "      <th>title</th>\n",
       "      <th>genres</th>\n",
       "      <th>region</th>\n",
       "      <th>domestic_gross</th>\n",
       "    </tr>\n",
       "  </thead>\n",
       "  <tbody>\n",
       "    <tr>\n",
       "      <th>1</th>\n",
       "      <td>The Man with the Iron Fists</td>\n",
       "      <td>Action</td>\n",
       "      <td>US</td>\n",
       "      <td>15600000.0</td>\n",
       "    </tr>\n",
       "    <tr>\n",
       "      <th>2</th>\n",
       "      <td>War of the Arrows</td>\n",
       "      <td>Action</td>\n",
       "      <td>US</td>\n",
       "      <td>251000.0</td>\n",
       "    </tr>\n",
       "    <tr>\n",
       "      <th>3</th>\n",
       "      <td>Falcon Rising</td>\n",
       "      <td>Action,Adventure</td>\n",
       "      <td>US</td>\n",
       "      <td>11800.0</td>\n",
       "    </tr>\n",
       "    <tr>\n",
       "      <th>4</th>\n",
       "      <td>Ragnarok</td>\n",
       "      <td>Action,Adventure</td>\n",
       "      <td>US</td>\n",
       "      <td>1400.0</td>\n",
       "    </tr>\n",
       "    <tr>\n",
       "      <th>5</th>\n",
       "      <td>Big Hero 6</td>\n",
       "      <td>Action,Adventure,Animation</td>\n",
       "      <td>US</td>\n",
       "      <td>222500000.0</td>\n",
       "    </tr>\n",
       "  </tbody>\n",
       "</table>\n",
       "</div>"
      ],
      "text/plain": [
       "                         title                      genres region  \\\n",
       "1  The Man with the Iron Fists                      Action     US   \n",
       "2            War of the Arrows                      Action     US   \n",
       "3                Falcon Rising            Action,Adventure     US   \n",
       "4                     Ragnarok            Action,Adventure     US   \n",
       "5                   Big Hero 6  Action,Adventure,Animation     US   \n",
       "\n",
       "   domestic_gross  \n",
       "1      15600000.0  \n",
       "2        251000.0  \n",
       "3         11800.0  \n",
       "4          1400.0  \n",
       "5     222500000.0  "
      ]
     },
     "execution_count": 28,
     "metadata": {},
     "output_type": "execute_result"
    }
   ],
   "source": [
    "genre_domgross_clean = genre_domgross.dropna(subset=['genres'])\n",
    "genre_domgross_clean.head()"
   ]
  },
  {
   "cell_type": "markdown",
   "metadata": {},
   "source": [
    "## Combining genres and finding average domestic gross for each \"main\" genre.\n",
    "\n",
    "Now that all relevant data was in one table, movies could be grouped by genre/subgenres. The next step was to determine how to group the movies that had more than one genre in to a \"main\" genre. What would be considered a main movie genre was taken from: https://en.wikipedia.org/wiki/Film_genre and include: \n",
    "**Action, Adventure, Animation, Biography, Comedy, Documentary, Drama, Family, Fantasy, Horror, Music, Mystery, Romance, Sci-Fi, and Thriller.** \n",
    "These are also the same genres that were considered when we explored the ratings and genres data."
   ]
  },
  {
   "cell_type": "markdown",
   "metadata": {},
   "source": [
    "The data frame was filtered to pull any movie that contained the genre name and calculate the mean for each main genre. "
   ]
  },
  {
   "cell_type": "code",
   "execution_count": 29,
   "metadata": {},
   "outputs": [
    {
     "data": {
      "text/plain": [
       "domestic_gross    4.333931e+07\n",
       "dtype: float64"
      ]
     },
     "execution_count": 29,
     "metadata": {},
     "output_type": "execute_result"
    }
   ],
   "source": [
    "action = genre_domgross_clean[genre_domgross_clean['genres'].str.contains('Action')]\n",
    "action.mean()\n",
    "adventure = genre_domgross_clean[genre_domgross_clean['genres'].str.contains('Adventure')]\n",
    "adventure.mean()\n",
    "animation = genre_domgross_clean[genre_domgross_clean['genres'].str.contains('Animation')]\n",
    "animation.mean()\n",
    "biography = genre_domgross_clean[genre_domgross_clean['genres'].str.contains('Biography')]\n",
    "biography.mean()\n",
    "comedy = genre_domgross_clean[genre_domgross_clean['genres'].str.contains('Comedy')]\n",
    "comedy.mean()\n",
    "documentary = genre_domgross_clean[genre_domgross_clean['genres'].str.contains('Documentary')]\n",
    "documentary.mean()\n",
    "drama = genre_domgross_clean[genre_domgross_clean['genres'].str.contains('Drama')]\n",
    "drama.mean()\n",
    "family = genre_domgross_clean[genre_domgross_clean['genres'].str.contains('Family')]\n",
    "family.mean()\n",
    "fantasy = genre_domgross_clean[genre_domgross_clean['genres'].str.contains('Fantasy')]\n",
    "fantasy.mean()\n",
    "horror = genre_domgross_clean[genre_domgross_clean['genres'].str.contains('Horror')]\n",
    "horror.mean()\n",
    "music = genre_domgross_clean[genre_domgross_clean['genres'].str.contains('Music')]\n",
    "music.mean()\n",
    "mystery = genre_domgross_clean[genre_domgross_clean['genres'].str.contains('Mystery')]\n",
    "mystery.mean()\n",
    "romance = genre_domgross_clean[genre_domgross_clean['genres'].str.contains('Romance')]\n",
    "romance.mean()\n",
    "sci_fi = genre_domgross_clean[genre_domgross_clean['genres'].str.contains('Sci-Fi')]\n",
    "sci_fi.mean()\n",
    "thriller = genre_domgross_clean[genre_domgross_clean['genres'].str.contains('Thriller')]\n",
    "thriller.mean()"
   ]
  },
  {
   "cell_type": "markdown",
   "metadata": {},
   "source": [
    "From there a dictionary was built that has the main genre as keys and the average domestic gross as values. These would be used to build visualizations. "
   ]
  },
  {
   "cell_type": "code",
   "execution_count": 30,
   "metadata": {},
   "outputs": [
    {
     "data": {
      "text/plain": [
       "[3270702.98,\n",
       " 28548310.0,\n",
       " 30527550.0,\n",
       " 23279810.0,\n",
       " 63599990.0,\n",
       " 112860800.0,\n",
       " 114839500.0,\n",
       " 22235310.0,\n",
       " 46545180.0,\n",
       " 33783770.0,\n",
       " 69336150.0,\n",
       " 87496140.0,\n",
       " 43339310.0,\n",
       " 139057500.0,\n",
       " 31573310.0]"
      ]
     },
     "execution_count": 30,
     "metadata": {},
     "output_type": "execute_result"
    }
   ],
   "source": [
    "avg_main_genre_gross = {\n",
    "    'Documentary': 3270702.98,\n",
    "    'Biography': 2.854831e+07,\n",
    "    'Music': 3.052755e+07,\n",
    "    'Drama':  2.327981e+07,\n",
    "    'Family': 6.359999e+07, \n",
    "    'Animation': 1.128608e+08,\n",
    "    'Adventure': 1.148395e+08,\n",
    "    'Romance': 2.223531e+07,\n",
    "    'Comedy': 4.654518e+07,\n",
    "    'Mystery': 3.378377e+07,\n",
    "    'Fantasy': 6.933615e+07,\n",
    "    'Action': 8.749614e+07,\n",
    "    'Thriller': 4.333931e+07,\n",
    "    'Sci-Fi': 1.390575e+08,\n",
    "    'Horror': 3.157331e+07\n",
    "    \n",
    "    \n",
    "}\n",
    "list(avg_main_genre_gross.keys())\n",
    "list(avg_main_genre_gross.values())"
   ]
  },
  {
   "cell_type": "markdown",
   "metadata": {},
   "source": [
    "## Data Modeling\n",
    "### Average Domestic Gross by Genre"
   ]
  },
  {
   "cell_type": "code",
   "execution_count": 31,
   "metadata": {
    "scrolled": true
   },
   "outputs": [
    {
     "name": "stderr",
     "output_type": "stream",
     "text": [
      "/Users/ashlidougherty/opt/anaconda3/envs/learn-env/lib/python3.8/site-packages/seaborn/_decorators.py:36: FutureWarning: Pass the following variables as keyword args: x, y. From version 0.12, the only valid positional argument will be `data`, and passing other arguments without an explicit keyword will result in an error or misinterpretation.\n",
      "  warnings.warn(\n",
      "<ipython-input-31-2e8bab850bba>:13: UserWarning: FixedFormatter should only be used together with FixedLocator\n",
      "  ax.set_yticklabels(['$0','$20', '$40', '$60', '$80', '$100', '$120', '$140'])\n"
     ]
    },
    {
     "data": {
      "image/png": "[encoded data removed]",
      "text/plain": [
       "<Figure size 864x432 with 1 Axes>"
      ]
     },
     "metadata": {
      "needs_background": "light"
     },
     "output_type": "display_data"
    }
   ],
   "source": [
    "x = list(avg_main_genre_gross.keys())\n",
    "y = list(avg_main_genre_gross.values())\n",
    "\n",
    "\n",
    "plt.figure(figsize=(12,6))\n",
    "ax = sns.barplot(x, y, color = 'tab:blue', edgecolor = 'black')\n",
    "plt.title('Average Domestic Gross by Genre', fontsize =20, weight = 'bold')\n",
    "plt.ylabel('Average Domestic Gross (in millions)', fontsize =15)\n",
    "plt.xlabel('Genres', fontsize =20)\n",
    "plt.xticks(fontsize=14, rotation=45, ha='right')\n",
    "\n",
    "plt.ticklabel_format(style='plain', axis = 'y')\n",
    "ax.set_yticklabels(['$0','$20', '$40', '$60', '$80', '$100', '$120', '$140'])\n",
    "ax.set_xticklabels(ax.get_xticklabels(),rotation = 30);"
   ]
  },
  {
   "cell_type": "markdown",
   "metadata": {},
   "source": [
    "## Average Gross Domestic Revenue by Combined Genres\n",
    "After examining the IMBD data base it was evident that most movies do not fall within a single genre. We wanted to investivate which combination of genres would create the highest domestic box office revenue. \n",
    "\n",
    "To do this we created a new data frame that consisted of just the top 40 highest grossing movies."
   ]
  },
  {
   "cell_type": "code",
   "execution_count": 32,
   "metadata": {},
   "outputs": [
    {
     "data": {
      "text/html": [
       "<div>\n",
       "<style scoped>\n",
       "    .dataframe tbody tr th:only-of-type {\n",
       "        vertical-align: middle;\n",
       "    }\n",
       "\n",
       "    .dataframe tbody tr th {\n",
       "        vertical-align: top;\n",
       "    }\n",
       "\n",
       "    .dataframe thead th {\n",
       "        text-align: right;\n",
       "    }\n",
       "</style>\n",
       "<table border=\"1\" class=\"dataframe\">\n",
       "  <thead>\n",
       "    <tr style=\"text-align: right;\">\n",
       "      <th></th>\n",
       "      <th>title</th>\n",
       "      <th>genres</th>\n",
       "      <th>region</th>\n",
       "      <th>domestic_gross</th>\n",
       "    </tr>\n",
       "  </thead>\n",
       "  <tbody>\n",
       "    <tr>\n",
       "      <th>126</th>\n",
       "      <td>Black Panther</td>\n",
       "      <td>Action,Adventure,Sci-Fi</td>\n",
       "      <td>US</td>\n",
       "      <td>700100000.0</td>\n",
       "    </tr>\n",
       "    <tr>\n",
       "      <th>124</th>\n",
       "      <td>Avengers: Infinity War</td>\n",
       "      <td>Action,Adventure,Sci-Fi</td>\n",
       "      <td>US</td>\n",
       "      <td>678800000.0</td>\n",
       "    </tr>\n",
       "    <tr>\n",
       "      <th>134</th>\n",
       "      <td>Jurassic World</td>\n",
       "      <td>Action,Adventure,Sci-Fi</td>\n",
       "      <td>US</td>\n",
       "      <td>652300000.0</td>\n",
       "    </tr>\n",
       "    <tr>\n",
       "      <th>103</th>\n",
       "      <td>Star Wars: The Last Jedi</td>\n",
       "      <td>Action,Adventure,Fantasy</td>\n",
       "      <td>US</td>\n",
       "      <td>620200000.0</td>\n",
       "    </tr>\n",
       "    <tr>\n",
       "      <th>11</th>\n",
       "      <td>Incredibles 2</td>\n",
       "      <td>Action,Adventure,Animation</td>\n",
       "      <td>US</td>\n",
       "      <td>608600000.0</td>\n",
       "    </tr>\n",
       "  </tbody>\n",
       "</table>\n",
       "</div>"
      ],
      "text/plain": [
       "                        title                      genres region  \\\n",
       "126             Black Panther     Action,Adventure,Sci-Fi     US   \n",
       "124    Avengers: Infinity War     Action,Adventure,Sci-Fi     US   \n",
       "134            Jurassic World     Action,Adventure,Sci-Fi     US   \n",
       "103  Star Wars: The Last Jedi    Action,Adventure,Fantasy     US   \n",
       "11              Incredibles 2  Action,Adventure,Animation     US   \n",
       "\n",
       "     domestic_gross  \n",
       "126     700100000.0  \n",
       "124     678800000.0  \n",
       "134     652300000.0  \n",
       "103     620200000.0  \n",
       "11      608600000.0  "
      ]
     },
     "execution_count": 32,
     "metadata": {},
     "output_type": "execute_result"
    }
   ],
   "source": [
    "top_40_grossing = genre_domgross_clean.sort_values(by=['domestic_gross'], ascending=False).head(40)\n",
    "top_40_grossing.head()"
   ]
  },
  {
   "cell_type": "markdown",
   "metadata": {},
   "source": [
    "The top grossing movies were then grouped by genres. "
   ]
  },
  {
   "cell_type": "code",
   "execution_count": 33,
   "metadata": {},
   "outputs": [
    {
     "data": {
      "text/html": [
       "<div>\n",
       "<style scoped>\n",
       "    .dataframe tbody tr th:only-of-type {\n",
       "        vertical-align: middle;\n",
       "    }\n",
       "\n",
       "    .dataframe tbody tr th {\n",
       "        vertical-align: top;\n",
       "    }\n",
       "\n",
       "    .dataframe thead th {\n",
       "        text-align: right;\n",
       "    }\n",
       "</style>\n",
       "<table border=\"1\" class=\"dataframe\">\n",
       "  <thead>\n",
       "    <tr style=\"text-align: right;\">\n",
       "      <th></th>\n",
       "      <th>genres</th>\n",
       "      <th>domestic_gross</th>\n",
       "    </tr>\n",
       "  </thead>\n",
       "  <tbody>\n",
       "    <tr>\n",
       "      <th>0</th>\n",
       "      <td>Action,Adventure,Animation</td>\n",
       "      <td>608600000.0</td>\n",
       "    </tr>\n",
       "    <tr>\n",
       "      <th>1</th>\n",
       "      <td>Action,Thriller</td>\n",
       "      <td>448100000.0</td>\n",
       "    </tr>\n",
       "    <tr>\n",
       "      <th>2</th>\n",
       "      <td>Action,Adventure,Sci-Fi</td>\n",
       "      <td>438100000.0</td>\n",
       "    </tr>\n",
       "    <tr>\n",
       "      <th>3</th>\n",
       "      <td>Action,Adventure,Fantasy</td>\n",
       "      <td>402700000.0</td>\n",
       "    </tr>\n",
       "    <tr>\n",
       "      <th>4</th>\n",
       "      <td>Adventure,Animation,Comedy</td>\n",
       "      <td>385850000.0</td>\n",
       "    </tr>\n",
       "  </tbody>\n",
       "</table>\n",
       "</div>"
      ],
      "text/plain": [
       "                       genres  domestic_gross\n",
       "0  Action,Adventure,Animation     608600000.0\n",
       "1             Action,Thriller     448100000.0\n",
       "2     Action,Adventure,Sci-Fi     438100000.0\n",
       "3    Action,Adventure,Fantasy     402700000.0\n",
       "4  Adventure,Animation,Comedy     385850000.0"
      ]
     },
     "execution_count": 33,
     "metadata": {},
     "output_type": "execute_result"
    }
   ],
   "source": [
    "combo_genre = top_40_grossing.groupby('genres').mean().sort_values(by='domestic_gross', ascending=False)\n",
    "combo_genre.reset_index(inplace=True)\n",
    "combo_genre.head()"
   ]
  },
  {
   "cell_type": "code",
   "execution_count": 34,
   "metadata": {
    "scrolled": true
   },
   "outputs": [
    {
     "data": {
      "text/plain": [
       "Action,Thriller               1\n",
       "Adventure,Animation,Comedy    1\n",
       "Adventure,Drama,Fantasy       1\n",
       "Action,Adventure,Thriller     1\n",
       "Adventure,Family,Fantasy      1\n",
       "Action,Adventure,Fantasy      1\n",
       "Action,Adventure,Animation    1\n",
       "Horror,Thriller               1\n",
       "Action,Crime,Thriller         1\n",
       "Action,Adventure,Comedy       1\n",
       "Action,Biography,Drama        1\n",
       "Action,Adventure,Sci-Fi       1\n",
       "Name: genres, dtype: int64"
      ]
     },
     "execution_count": 34,
     "metadata": {},
     "output_type": "execute_result"
    }
   ],
   "source": [
    "combo_genre['genres'].value_counts()"
   ]
  },
  {
   "cell_type": "markdown",
   "metadata": {},
   "source": [
    "It was noted that **all** of the top 40 movies were a combination of genres."
   ]
  },
  {
   "cell_type": "markdown",
   "metadata": {},
   "source": [
    "## Data Modeling\n",
    "### Average Domestic Gross by Combined Genre"
   ]
  },
  {
   "cell_type": "markdown",
   "metadata": {},
   "source": [
    "The graph below shows the combined genres of the top 40 grossing movies from the dataframe and their average domestic gross.\n",
    "\n",
    "Of the 12 combinations of genres, the most common genres are **Action** and **Adventure** (both appearing in 67% of the combinations). The least common genres are **Horror, Crime** and **Biography** (both appearing only in 8% of the combinations). "
   ]
  },
  {
   "cell_type": "code",
   "execution_count": 35,
   "metadata": {
    "scrolled": true
   },
   "outputs": [
    {
     "name": "stderr",
     "output_type": "stream",
     "text": [
      "<ipython-input-35-a486b2f64f76>:7: UserWarning: FixedFormatter should only be used together with FixedLocator\n",
      "  ax.set_yticklabels(['$0','$100', '$200', '$300', '$400', '$500', '$600'])\n"
     ]
    },
    {
     "data": {
      "image/png": "[encoded data removed]",
      "text/plain": [
       "<Figure size 1152x720 with 1 Axes>"
      ]
     },
     "metadata": {
      "needs_background": "light"
     },
     "output_type": "display_data"
    }
   ],
   "source": [
    "fig, ax = plt.subplots(figsize=(16,10))\n",
    "x = combo_genre['genres']\n",
    "y = combo_genre['domestic_gross']\n",
    "\n",
    "ax.bar(x, y, color='tab:blue', edgecolor = 'black')\n",
    "plt.xticks(fontsize=14, rotation=45, ha='right')\n",
    "ax.set_yticklabels(['$0','$100', '$200', '$300', '$400', '$500', '$600'])\n",
    "ax.set_title('Average Domestic Gross by Combined Genres for Top 40 Movies', fontsize='20', weight='bold')\n",
    "ax.set_xlabel('Combined Genres', fontsize='18')\n",
    "ax.set_ylabel('Domestic Gross (in millions)', fontsize='18');"
   ]
  },
  {
   "cell_type": "markdown",
   "metadata": {},
   "source": [
    "## Average Gross Domestic Revenue by Genres Evalutations & Conclusions"
   ]
  },
  {
   "cell_type": "markdown",
   "metadata": {},
   "source": [
    "Based on the data, the highest grossing main genres are **Sci-Fi, Adventure, Animation, Action, Fantasy**. \n",
    "***\n",
    "However, studios produce movies that are labeled under several genres. When looking at the combined genres for the top grossing movies, the data shows that of the highest grossing films, 91% of them are classified as **Action** and/or **Adventure**. The only exception to this would be the movies that are classified as **Horror,Thriller**. \n",
    "***\n",
    "If using this data to determine which types of movies to create, we would suggest **Action** and/or **Adventure** coupled with another other genre will increase the likelihood of a high domestic gross. "
   ]
  },
  {
   "cell_type": "markdown",
   "metadata": {},
   "source": [
    "# Exploration of Movie Gross and Production Budget - Return on Investment"
   ]
  },
  {
   "cell_type": "markdown",
   "metadata": {},
   "source": [
    "### Author: Ian Butler"
   ]
  },
  {
   "cell_type": "markdown",
   "metadata": {},
   "source": [
    "***\n",
    "## Data Preparation"
   ]
  },
  {
   "cell_type": "markdown",
   "metadata": {},
   "source": [
    "Instantiate a variable to run a SQL query on the entire movie_basics table."
   ]
  },
  {
   "cell_type": "code",
   "execution_count": 36,
   "metadata": {},
   "outputs": [],
   "source": [
    "imdb_movie_basics_query = \"\"\"\n",
    "select\n",
    "    *\n",
    "from\n",
    "    movie_basics\n",
    "\"\"\""
   ]
  },
  {
   "cell_type": "markdown",
   "metadata": {},
   "source": [
    "Instantiate a variable to create a pandas data frame on the movie_basics query."
   ]
  },
  {
   "cell_type": "code",
   "execution_count": 37,
   "metadata": {},
   "outputs": [],
   "source": [
    "movie_basics_df = pd.read_sql(imdb_movie_basics_query, conn)"
   ]
  },
  {
   "cell_type": "markdown",
   "metadata": {},
   "source": [
    "Render the head of the movie_basics pandas data frame."
   ]
  },
  {
   "cell_type": "code",
   "execution_count": 38,
   "metadata": {},
   "outputs": [
    {
     "data": {
      "text/html": [
       "<div>\n",
       "<style scoped>\n",
       "    .dataframe tbody tr th:only-of-type {\n",
       "        vertical-align: middle;\n",
       "    }\n",
       "\n",
       "    .dataframe tbody tr th {\n",
       "        vertical-align: top;\n",
       "    }\n",
       "\n",
       "    .dataframe thead th {\n",
       "        text-align: right;\n",
       "    }\n",
       "</style>\n",
       "<table border=\"1\" class=\"dataframe\">\n",
       "  <thead>\n",
       "    <tr style=\"text-align: right;\">\n",
       "      <th></th>\n",
       "      <th>movie_id</th>\n",
       "      <th>primary_title</th>\n",
       "      <th>original_title</th>\n",
       "      <th>start_year</th>\n",
       "      <th>runtime_minutes</th>\n",
       "      <th>genres</th>\n",
       "    </tr>\n",
       "  </thead>\n",
       "  <tbody>\n",
       "    <tr>\n",
       "      <th>0</th>\n",
       "      <td>tt0063540</td>\n",
       "      <td>Sunghursh</td>\n",
       "      <td>Sunghursh</td>\n",
       "      <td>2013</td>\n",
       "      <td>175.0</td>\n",
       "      <td>Action,Crime,Drama</td>\n",
       "    </tr>\n",
       "    <tr>\n",
       "      <th>1</th>\n",
       "      <td>tt0066787</td>\n",
       "      <td>One Day Before the Rainy Season</td>\n",
       "      <td>Ashad Ka Ek Din</td>\n",
       "      <td>2019</td>\n",
       "      <td>114.0</td>\n",
       "      <td>Biography,Drama</td>\n",
       "    </tr>\n",
       "    <tr>\n",
       "      <th>2</th>\n",
       "      <td>tt0069049</td>\n",
       "      <td>The Other Side of the Wind</td>\n",
       "      <td>The Other Side of the Wind</td>\n",
       "      <td>2018</td>\n",
       "      <td>122.0</td>\n",
       "      <td>Drama</td>\n",
       "    </tr>\n",
       "    <tr>\n",
       "      <th>3</th>\n",
       "      <td>tt0069204</td>\n",
       "      <td>Sabse Bada Sukh</td>\n",
       "      <td>Sabse Bada Sukh</td>\n",
       "      <td>2018</td>\n",
       "      <td>NaN</td>\n",
       "      <td>Comedy,Drama</td>\n",
       "    </tr>\n",
       "    <tr>\n",
       "      <th>4</th>\n",
       "      <td>tt0100275</td>\n",
       "      <td>The Wandering Soap Opera</td>\n",
       "      <td>La Telenovela Errante</td>\n",
       "      <td>2017</td>\n",
       "      <td>80.0</td>\n",
       "      <td>Comedy,Drama,Fantasy</td>\n",
       "    </tr>\n",
       "  </tbody>\n",
       "</table>\n",
       "</div>"
      ],
      "text/plain": [
       "    movie_id                    primary_title              original_title  \\\n",
       "0  tt0063540                        Sunghursh                   Sunghursh   \n",
       "1  tt0066787  One Day Before the Rainy Season             Ashad Ka Ek Din   \n",
       "2  tt0069049       The Other Side of the Wind  The Other Side of the Wind   \n",
       "3  tt0069204                  Sabse Bada Sukh             Sabse Bada Sukh   \n",
       "4  tt0100275         The Wandering Soap Opera       La Telenovela Errante   \n",
       "\n",
       "   start_year  runtime_minutes                genres  \n",
       "0        2013            175.0    Action,Crime,Drama  \n",
       "1        2019            114.0       Biography,Drama  \n",
       "2        2018            122.0                 Drama  \n",
       "3        2018              NaN          Comedy,Drama  \n",
       "4        2017             80.0  Comedy,Drama,Fantasy  "
      ]
     },
     "execution_count": 38,
     "metadata": {},
     "output_type": "execute_result"
    }
   ],
   "source": [
    "movie_basics_df.head()"
   ]
  },
  {
   "cell_type": "markdown",
   "metadata": {},
   "source": [
    "Confirm the data type of the table."
   ]
  },
  {
   "cell_type": "code",
   "execution_count": 39,
   "metadata": {},
   "outputs": [
    {
     "data": {
      "text/plain": [
       "pandas.core.frame.DataFrame"
      ]
     },
     "execution_count": 39,
     "metadata": {},
     "output_type": "execute_result"
    }
   ],
   "source": [
    "type(movie_basics_df)"
   ]
  },
  {
   "cell_type": "markdown",
   "metadata": {},
   "source": [
    "Explore the movie_basics data frame."
   ]
  },
  {
   "cell_type": "code",
   "execution_count": 40,
   "metadata": {},
   "outputs": [
    {
     "name": "stdout",
     "output_type": "stream",
     "text": [
      "<class 'pandas.core.frame.DataFrame'>\n",
      "RangeIndex: 146144 entries, 0 to 146143\n",
      "Data columns (total 6 columns):\n",
      " #   Column           Non-Null Count   Dtype  \n",
      "---  ------           --------------   -----  \n",
      " 0   movie_id         146144 non-null  object \n",
      " 1   primary_title    146144 non-null  object \n",
      " 2   original_title   146123 non-null  object \n",
      " 3   start_year       146144 non-null  int64  \n",
      " 4   runtime_minutes  114405 non-null  float64\n",
      " 5   genres           140736 non-null  object \n",
      "dtypes: float64(1), int64(1), object(4)\n",
      "memory usage: 6.7+ MB\n"
     ]
    }
   ],
   "source": [
    "movie_basics_df.info()"
   ]
  },
  {
   "cell_type": "code",
   "execution_count": 41,
   "metadata": {},
   "outputs": [
    {
     "data": {
      "text/html": [
       "<div>\n",
       "<style scoped>\n",
       "    .dataframe tbody tr th:only-of-type {\n",
       "        vertical-align: middle;\n",
       "    }\n",
       "\n",
       "    .dataframe tbody tr th {\n",
       "        vertical-align: top;\n",
       "    }\n",
       "\n",
       "    .dataframe thead th {\n",
       "        text-align: right;\n",
       "    }\n",
       "</style>\n",
       "<table border=\"1\" class=\"dataframe\">\n",
       "  <thead>\n",
       "    <tr style=\"text-align: right;\">\n",
       "      <th></th>\n",
       "      <th>start_year</th>\n",
       "      <th>runtime_minutes</th>\n",
       "    </tr>\n",
       "  </thead>\n",
       "  <tbody>\n",
       "    <tr>\n",
       "      <th>count</th>\n",
       "      <td>146144.000000</td>\n",
       "      <td>114405.000000</td>\n",
       "    </tr>\n",
       "    <tr>\n",
       "      <th>mean</th>\n",
       "      <td>2014.621798</td>\n",
       "      <td>86.187247</td>\n",
       "    </tr>\n",
       "    <tr>\n",
       "      <th>std</th>\n",
       "      <td>2.733583</td>\n",
       "      <td>166.360590</td>\n",
       "    </tr>\n",
       "    <tr>\n",
       "      <th>min</th>\n",
       "      <td>2010.000000</td>\n",
       "      <td>1.000000</td>\n",
       "    </tr>\n",
       "    <tr>\n",
       "      <th>25%</th>\n",
       "      <td>2012.000000</td>\n",
       "      <td>70.000000</td>\n",
       "    </tr>\n",
       "    <tr>\n",
       "      <th>50%</th>\n",
       "      <td>2015.000000</td>\n",
       "      <td>87.000000</td>\n",
       "    </tr>\n",
       "    <tr>\n",
       "      <th>75%</th>\n",
       "      <td>2017.000000</td>\n",
       "      <td>99.000000</td>\n",
       "    </tr>\n",
       "    <tr>\n",
       "      <th>max</th>\n",
       "      <td>2115.000000</td>\n",
       "      <td>51420.000000</td>\n",
       "    </tr>\n",
       "  </tbody>\n",
       "</table>\n",
       "</div>"
      ],
      "text/plain": [
       "          start_year  runtime_minutes\n",
       "count  146144.000000    114405.000000\n",
       "mean     2014.621798        86.187247\n",
       "std         2.733583       166.360590\n",
       "min      2010.000000         1.000000\n",
       "25%      2012.000000        70.000000\n",
       "50%      2015.000000        87.000000\n",
       "75%      2017.000000        99.000000\n",
       "max      2115.000000     51420.000000"
      ]
     },
     "execution_count": 41,
     "metadata": {},
     "output_type": "execute_result"
    }
   ],
   "source": [
    "movie_basics_df.describe()"
   ]
  },
  {
   "cell_type": "markdown",
   "metadata": {},
   "source": [
    "Instantiate a variable to run a SQL query on the entire movie_ratings table."
   ]
  },
  {
   "cell_type": "code",
   "execution_count": 42,
   "metadata": {},
   "outputs": [],
   "source": [
    "imdb_movie_ratings_query = \"\"\"\n",
    "select\n",
    "    *\n",
    "from\n",
    "    movie_ratings\n",
    "\"\"\""
   ]
  },
  {
   "cell_type": "markdown",
   "metadata": {},
   "source": [
    "Instantiate a variable to create a pandas data frame on the movie_ratings table."
   ]
  },
  {
   "cell_type": "code",
   "execution_count": 43,
   "metadata": {},
   "outputs": [],
   "source": [
    "movie_ratings_df = pd.read_sql(imdb_movie_ratings_query, conn)"
   ]
  },
  {
   "cell_type": "markdown",
   "metadata": {},
   "source": [
    "Render the head of the movie_ratings data frame."
   ]
  },
  {
   "cell_type": "code",
   "execution_count": 44,
   "metadata": {},
   "outputs": [
    {
     "data": {
      "text/html": [
       "<div>\n",
       "<style scoped>\n",
       "    .dataframe tbody tr th:only-of-type {\n",
       "        vertical-align: middle;\n",
       "    }\n",
       "\n",
       "    .dataframe tbody tr th {\n",
       "        vertical-align: top;\n",
       "    }\n",
       "\n",
       "    .dataframe thead th {\n",
       "        text-align: right;\n",
       "    }\n",
       "</style>\n",
       "<table border=\"1\" class=\"dataframe\">\n",
       "  <thead>\n",
       "    <tr style=\"text-align: right;\">\n",
       "      <th></th>\n",
       "      <th>movie_id</th>\n",
       "      <th>averagerating</th>\n",
       "      <th>numvotes</th>\n",
       "    </tr>\n",
       "  </thead>\n",
       "  <tbody>\n",
       "    <tr>\n",
       "      <th>0</th>\n",
       "      <td>tt10356526</td>\n",
       "      <td>8.3</td>\n",
       "      <td>31</td>\n",
       "    </tr>\n",
       "    <tr>\n",
       "      <th>1</th>\n",
       "      <td>tt10384606</td>\n",
       "      <td>8.9</td>\n",
       "      <td>559</td>\n",
       "    </tr>\n",
       "    <tr>\n",
       "      <th>2</th>\n",
       "      <td>tt1042974</td>\n",
       "      <td>6.4</td>\n",
       "      <td>20</td>\n",
       "    </tr>\n",
       "    <tr>\n",
       "      <th>3</th>\n",
       "      <td>tt1043726</td>\n",
       "      <td>4.2</td>\n",
       "      <td>50352</td>\n",
       "    </tr>\n",
       "    <tr>\n",
       "      <th>4</th>\n",
       "      <td>tt1060240</td>\n",
       "      <td>6.5</td>\n",
       "      <td>21</td>\n",
       "    </tr>\n",
       "  </tbody>\n",
       "</table>\n",
       "</div>"
      ],
      "text/plain": [
       "     movie_id  averagerating  numvotes\n",
       "0  tt10356526            8.3        31\n",
       "1  tt10384606            8.9       559\n",
       "2   tt1042974            6.4        20\n",
       "3   tt1043726            4.2     50352\n",
       "4   tt1060240            6.5        21"
      ]
     },
     "execution_count": 44,
     "metadata": {},
     "output_type": "execute_result"
    }
   ],
   "source": [
    "movie_ratings_df.head()"
   ]
  },
  {
   "cell_type": "markdown",
   "metadata": {},
   "source": [
    "Confirm the data type of the table."
   ]
  },
  {
   "cell_type": "code",
   "execution_count": 45,
   "metadata": {},
   "outputs": [
    {
     "data": {
      "text/plain": [
       "pandas.core.frame.DataFrame"
      ]
     },
     "execution_count": 45,
     "metadata": {},
     "output_type": "execute_result"
    }
   ],
   "source": [
    "type(movie_ratings_df)"
   ]
  },
  {
   "cell_type": "markdown",
   "metadata": {},
   "source": [
    "Explore the movie_ratings data frame."
   ]
  },
  {
   "cell_type": "code",
   "execution_count": 46,
   "metadata": {},
   "outputs": [
    {
     "name": "stdout",
     "output_type": "stream",
     "text": [
      "<class 'pandas.core.frame.DataFrame'>\n",
      "RangeIndex: 73856 entries, 0 to 73855\n",
      "Data columns (total 3 columns):\n",
      " #   Column         Non-Null Count  Dtype  \n",
      "---  ------         --------------  -----  \n",
      " 0   movie_id       73856 non-null  object \n",
      " 1   averagerating  73856 non-null  float64\n",
      " 2   numvotes       73856 non-null  int64  \n",
      "dtypes: float64(1), int64(1), object(1)\n",
      "memory usage: 1.7+ MB\n"
     ]
    }
   ],
   "source": [
    "movie_ratings_df.info()"
   ]
  },
  {
   "cell_type": "code",
   "execution_count": 47,
   "metadata": {},
   "outputs": [
    {
     "data": {
      "text/html": [
       "<div>\n",
       "<style scoped>\n",
       "    .dataframe tbody tr th:only-of-type {\n",
       "        vertical-align: middle;\n",
       "    }\n",
       "\n",
       "    .dataframe tbody tr th {\n",
       "        vertical-align: top;\n",
       "    }\n",
       "\n",
       "    .dataframe thead th {\n",
       "        text-align: right;\n",
       "    }\n",
       "</style>\n",
       "<table border=\"1\" class=\"dataframe\">\n",
       "  <thead>\n",
       "    <tr style=\"text-align: right;\">\n",
       "      <th></th>\n",
       "      <th>averagerating</th>\n",
       "      <th>numvotes</th>\n",
       "    </tr>\n",
       "  </thead>\n",
       "  <tbody>\n",
       "    <tr>\n",
       "      <th>count</th>\n",
       "      <td>73856.000000</td>\n",
       "      <td>7.385600e+04</td>\n",
       "    </tr>\n",
       "    <tr>\n",
       "      <th>mean</th>\n",
       "      <td>6.332729</td>\n",
       "      <td>3.523662e+03</td>\n",
       "    </tr>\n",
       "    <tr>\n",
       "      <th>std</th>\n",
       "      <td>1.474978</td>\n",
       "      <td>3.029402e+04</td>\n",
       "    </tr>\n",
       "    <tr>\n",
       "      <th>min</th>\n",
       "      <td>1.000000</td>\n",
       "      <td>5.000000e+00</td>\n",
       "    </tr>\n",
       "    <tr>\n",
       "      <th>25%</th>\n",
       "      <td>5.500000</td>\n",
       "      <td>1.400000e+01</td>\n",
       "    </tr>\n",
       "    <tr>\n",
       "      <th>50%</th>\n",
       "      <td>6.500000</td>\n",
       "      <td>4.900000e+01</td>\n",
       "    </tr>\n",
       "    <tr>\n",
       "      <th>75%</th>\n",
       "      <td>7.400000</td>\n",
       "      <td>2.820000e+02</td>\n",
       "    </tr>\n",
       "    <tr>\n",
       "      <th>max</th>\n",
       "      <td>10.000000</td>\n",
       "      <td>1.841066e+06</td>\n",
       "    </tr>\n",
       "  </tbody>\n",
       "</table>\n",
       "</div>"
      ],
      "text/plain": [
       "       averagerating      numvotes\n",
       "count   73856.000000  7.385600e+04\n",
       "mean        6.332729  3.523662e+03\n",
       "std         1.474978  3.029402e+04\n",
       "min         1.000000  5.000000e+00\n",
       "25%         5.500000  1.400000e+01\n",
       "50%         6.500000  4.900000e+01\n",
       "75%         7.400000  2.820000e+02\n",
       "max        10.000000  1.841066e+06"
      ]
     },
     "execution_count": 47,
     "metadata": {},
     "output_type": "execute_result"
    }
   ],
   "source": [
    "movie_ratings_df.describe()"
   ]
  },
  {
   "cell_type": "markdown",
   "metadata": {},
   "source": [
    "Extract only the movies which have more than 282 reviews.<br>This decision is made in confidence as a result of the following domain knowledge:<br>any movie which has less than 282 reviews - the 75% percentile in this dataset,<br>will not make a measurable impact in the scope of high-grossing movies.<br>This exclusion allows for the examination of only the data that pertains to the business problem.<br>In short, the problem is not concerned with movies that did not do well."
   ]
  },
  {
   "cell_type": "code",
   "execution_count": 48,
   "metadata": {},
   "outputs": [],
   "source": [
    "fourth_quartile_movie_ratings_df = movie_ratings_df[\n",
    "    movie_ratings_df['numvotes'] > 2.820000e+02]"
   ]
  },
  {
   "cell_type": "markdown",
   "metadata": {},
   "source": [
    "Render the head of the fourth_quartile_movie_ratings_df data frame."
   ]
  },
  {
   "cell_type": "code",
   "execution_count": 49,
   "metadata": {},
   "outputs": [
    {
     "data": {
      "text/html": [
       "<div>\n",
       "<style scoped>\n",
       "    .dataframe tbody tr th:only-of-type {\n",
       "        vertical-align: middle;\n",
       "    }\n",
       "\n",
       "    .dataframe tbody tr th {\n",
       "        vertical-align: top;\n",
       "    }\n",
       "\n",
       "    .dataframe thead th {\n",
       "        text-align: right;\n",
       "    }\n",
       "</style>\n",
       "<table border=\"1\" class=\"dataframe\">\n",
       "  <thead>\n",
       "    <tr style=\"text-align: right;\">\n",
       "      <th></th>\n",
       "      <th>movie_id</th>\n",
       "      <th>averagerating</th>\n",
       "      <th>numvotes</th>\n",
       "    </tr>\n",
       "  </thead>\n",
       "  <tbody>\n",
       "    <tr>\n",
       "      <th>1</th>\n",
       "      <td>tt10384606</td>\n",
       "      <td>8.9</td>\n",
       "      <td>559</td>\n",
       "    </tr>\n",
       "    <tr>\n",
       "      <th>3</th>\n",
       "      <td>tt1043726</td>\n",
       "      <td>4.2</td>\n",
       "      <td>50352</td>\n",
       "    </tr>\n",
       "    <tr>\n",
       "      <th>5</th>\n",
       "      <td>tt1069246</td>\n",
       "      <td>6.2</td>\n",
       "      <td>326</td>\n",
       "    </tr>\n",
       "    <tr>\n",
       "      <th>6</th>\n",
       "      <td>tt1094666</td>\n",
       "      <td>7.0</td>\n",
       "      <td>1613</td>\n",
       "    </tr>\n",
       "    <tr>\n",
       "      <th>7</th>\n",
       "      <td>tt1130982</td>\n",
       "      <td>6.4</td>\n",
       "      <td>571</td>\n",
       "    </tr>\n",
       "  </tbody>\n",
       "</table>\n",
       "</div>"
      ],
      "text/plain": [
       "     movie_id  averagerating  numvotes\n",
       "1  tt10384606            8.9       559\n",
       "3   tt1043726            4.2     50352\n",
       "5   tt1069246            6.2       326\n",
       "6   tt1094666            7.0      1613\n",
       "7   tt1130982            6.4       571"
      ]
     },
     "execution_count": 49,
     "metadata": {},
     "output_type": "execute_result"
    }
   ],
   "source": [
    "fourth_quartile_movie_ratings_df.head()"
   ]
  },
  {
   "cell_type": "markdown",
   "metadata": {},
   "source": [
    "Explore the fourth_quartile_movie_ratings_df data frame."
   ]
  },
  {
   "cell_type": "code",
   "execution_count": 50,
   "metadata": {},
   "outputs": [
    {
     "name": "stdout",
     "output_type": "stream",
     "text": [
      "<class 'pandas.core.frame.DataFrame'>\n",
      "Int64Index: 18445 entries, 1 to 73844\n",
      "Data columns (total 3 columns):\n",
      " #   Column         Non-Null Count  Dtype  \n",
      "---  ------         --------------  -----  \n",
      " 0   movie_id       18445 non-null  object \n",
      " 1   averagerating  18445 non-null  float64\n",
      " 2   numvotes       18445 non-null  int64  \n",
      "dtypes: float64(1), int64(1), object(1)\n",
      "memory usage: 576.4+ KB\n"
     ]
    }
   ],
   "source": [
    "fourth_quartile_movie_ratings_df.info()"
   ]
  },
  {
   "cell_type": "code",
   "execution_count": 51,
   "metadata": {
    "scrolled": true
   },
   "outputs": [
    {
     "data": {
      "text/html": [
       "<div>\n",
       "<style scoped>\n",
       "    .dataframe tbody tr th:only-of-type {\n",
       "        vertical-align: middle;\n",
       "    }\n",
       "\n",
       "    .dataframe tbody tr th {\n",
       "        vertical-align: top;\n",
       "    }\n",
       "\n",
       "    .dataframe thead th {\n",
       "        text-align: right;\n",
       "    }\n",
       "</style>\n",
       "<table border=\"1\" class=\"dataframe\">\n",
       "  <thead>\n",
       "    <tr style=\"text-align: right;\">\n",
       "      <th></th>\n",
       "      <th>averagerating</th>\n",
       "      <th>numvotes</th>\n",
       "    </tr>\n",
       "  </thead>\n",
       "  <tbody>\n",
       "    <tr>\n",
       "      <th>count</th>\n",
       "      <td>18445.000000</td>\n",
       "      <td>1.844500e+04</td>\n",
       "    </tr>\n",
       "    <tr>\n",
       "      <th>mean</th>\n",
       "      <td>6.025422</td>\n",
       "      <td>1.394607e+04</td>\n",
       "    </tr>\n",
       "    <tr>\n",
       "      <th>std</th>\n",
       "      <td>1.297828</td>\n",
       "      <td>5.941411e+04</td>\n",
       "    </tr>\n",
       "    <tr>\n",
       "      <th>min</th>\n",
       "      <td>1.000000</td>\n",
       "      <td>2.830000e+02</td>\n",
       "    </tr>\n",
       "    <tr>\n",
       "      <th>25%</th>\n",
       "      <td>5.300000</td>\n",
       "      <td>5.030000e+02</td>\n",
       "    </tr>\n",
       "    <tr>\n",
       "      <th>50%</th>\n",
       "      <td>6.200000</td>\n",
       "      <td>1.087000e+03</td>\n",
       "    </tr>\n",
       "    <tr>\n",
       "      <th>75%</th>\n",
       "      <td>6.900000</td>\n",
       "      <td>3.705000e+03</td>\n",
       "    </tr>\n",
       "    <tr>\n",
       "      <th>max</th>\n",
       "      <td>9.900000</td>\n",
       "      <td>1.841066e+06</td>\n",
       "    </tr>\n",
       "  </tbody>\n",
       "</table>\n",
       "</div>"
      ],
      "text/plain": [
       "       averagerating      numvotes\n",
       "count   18445.000000  1.844500e+04\n",
       "mean        6.025422  1.394607e+04\n",
       "std         1.297828  5.941411e+04\n",
       "min         1.000000  2.830000e+02\n",
       "25%         5.300000  5.030000e+02\n",
       "50%         6.200000  1.087000e+03\n",
       "75%         6.900000  3.705000e+03\n",
       "max         9.900000  1.841066e+06"
      ]
     },
     "execution_count": 51,
     "metadata": {},
     "output_type": "execute_result"
    }
   ],
   "source": [
    "fourth_quartile_movie_ratings_df.describe()"
   ]
  },
  {
   "cell_type": "markdown",
   "metadata": {},
   "source": [
    "Instantiate a variable to run a SQL query on the entire movie_basics table, joined with the entire movie_ratings table.<br>Specify explicit column names to avoid duplicating movie_id from movie_basics and movie_ratings."
   ]
  },
  {
   "cell_type": "code",
   "execution_count": 52,
   "metadata": {},
   "outputs": [],
   "source": [
    "imdb_movie_basics_and_ratings_query = \"\"\"\n",
    "select\n",
    "    mb.movie_id,\n",
    "    mb.primary_title,\n",
    "    mb.original_title,\n",
    "    mb.start_year,\n",
    "    mb.runtime_minutes,\n",
    "    mb.genres,\n",
    "    mr.averagerating as average_rating,\n",
    "    mr.numvotes as num_votes\n",
    "from\n",
    "    movie_basics as mb\n",
    "join movie_ratings as mr\n",
    "    on mb.movie_id = mr.movie_id\n",
    "\"\"\""
   ]
  },
  {
   "cell_type": "markdown",
   "metadata": {},
   "source": [
    "Instantiate a variable to create a pandas data frame on the movie_basics and movie_ratings tables."
   ]
  },
  {
   "cell_type": "code",
   "execution_count": 53,
   "metadata": {},
   "outputs": [],
   "source": [
    "movie_basics_and_ratings_df = pd.read_sql(imdb_movie_basics_and_ratings_query, conn)"
   ]
  },
  {
   "cell_type": "markdown",
   "metadata": {},
   "source": [
    "Render the head of the movie_basics_and_ratings data frame."
   ]
  },
  {
   "cell_type": "code",
   "execution_count": 54,
   "metadata": {},
   "outputs": [
    {
     "data": {
      "text/html": [
       "<div>\n",
       "<style scoped>\n",
       "    .dataframe tbody tr th:only-of-type {\n",
       "        vertical-align: middle;\n",
       "    }\n",
       "\n",
       "    .dataframe tbody tr th {\n",
       "        vertical-align: top;\n",
       "    }\n",
       "\n",
       "    .dataframe thead th {\n",
       "        text-align: right;\n",
       "    }\n",
       "</style>\n",
       "<table border=\"1\" class=\"dataframe\">\n",
       "  <thead>\n",
       "    <tr style=\"text-align: right;\">\n",
       "      <th></th>\n",
       "      <th>movie_id</th>\n",
       "      <th>primary_title</th>\n",
       "      <th>original_title</th>\n",
       "      <th>start_year</th>\n",
       "      <th>runtime_minutes</th>\n",
       "      <th>genres</th>\n",
       "      <th>average_rating</th>\n",
       "      <th>num_votes</th>\n",
       "    </tr>\n",
       "  </thead>\n",
       "  <tbody>\n",
       "    <tr>\n",
       "      <th>0</th>\n",
       "      <td>tt0063540</td>\n",
       "      <td>Sunghursh</td>\n",
       "      <td>Sunghursh</td>\n",
       "      <td>2013</td>\n",
       "      <td>175.0</td>\n",
       "      <td>Action,Crime,Drama</td>\n",
       "      <td>7.0</td>\n",
       "      <td>77</td>\n",
       "    </tr>\n",
       "    <tr>\n",
       "      <th>1</th>\n",
       "      <td>tt0066787</td>\n",
       "      <td>One Day Before the Rainy Season</td>\n",
       "      <td>Ashad Ka Ek Din</td>\n",
       "      <td>2019</td>\n",
       "      <td>114.0</td>\n",
       "      <td>Biography,Drama</td>\n",
       "      <td>7.2</td>\n",
       "      <td>43</td>\n",
       "    </tr>\n",
       "    <tr>\n",
       "      <th>2</th>\n",
       "      <td>tt0069049</td>\n",
       "      <td>The Other Side of the Wind</td>\n",
       "      <td>The Other Side of the Wind</td>\n",
       "      <td>2018</td>\n",
       "      <td>122.0</td>\n",
       "      <td>Drama</td>\n",
       "      <td>6.9</td>\n",
       "      <td>4517</td>\n",
       "    </tr>\n",
       "    <tr>\n",
       "      <th>3</th>\n",
       "      <td>tt0069204</td>\n",
       "      <td>Sabse Bada Sukh</td>\n",
       "      <td>Sabse Bada Sukh</td>\n",
       "      <td>2018</td>\n",
       "      <td>NaN</td>\n",
       "      <td>Comedy,Drama</td>\n",
       "      <td>6.1</td>\n",
       "      <td>13</td>\n",
       "    </tr>\n",
       "    <tr>\n",
       "      <th>4</th>\n",
       "      <td>tt0100275</td>\n",
       "      <td>The Wandering Soap Opera</td>\n",
       "      <td>La Telenovela Errante</td>\n",
       "      <td>2017</td>\n",
       "      <td>80.0</td>\n",
       "      <td>Comedy,Drama,Fantasy</td>\n",
       "      <td>6.5</td>\n",
       "      <td>119</td>\n",
       "    </tr>\n",
       "  </tbody>\n",
       "</table>\n",
       "</div>"
      ],
      "text/plain": [
       "    movie_id                    primary_title              original_title  \\\n",
       "0  tt0063540                        Sunghursh                   Sunghursh   \n",
       "1  tt0066787  One Day Before the Rainy Season             Ashad Ka Ek Din   \n",
       "2  tt0069049       The Other Side of the Wind  The Other Side of the Wind   \n",
       "3  tt0069204                  Sabse Bada Sukh             Sabse Bada Sukh   \n",
       "4  tt0100275         The Wandering Soap Opera       La Telenovela Errante   \n",
       "\n",
       "   start_year  runtime_minutes                genres  average_rating  \\\n",
       "0        2013            175.0    Action,Crime,Drama             7.0   \n",
       "1        2019            114.0       Biography,Drama             7.2   \n",
       "2        2018            122.0                 Drama             6.9   \n",
       "3        2018              NaN          Comedy,Drama             6.1   \n",
       "4        2017             80.0  Comedy,Drama,Fantasy             6.5   \n",
       "\n",
       "   num_votes  \n",
       "0         77  \n",
       "1         43  \n",
       "2       4517  \n",
       "3         13  \n",
       "4        119  "
      ]
     },
     "execution_count": 54,
     "metadata": {},
     "output_type": "execute_result"
    }
   ],
   "source": [
    "movie_basics_and_ratings_df.head()"
   ]
  },
  {
   "cell_type": "markdown",
   "metadata": {},
   "source": [
    "Confirm the data type of the movie_basics_and_ratings_df data frame."
   ]
  },
  {
   "cell_type": "code",
   "execution_count": 55,
   "metadata": {},
   "outputs": [
    {
     "data": {
      "text/plain": [
       "pandas.core.frame.DataFrame"
      ]
     },
     "execution_count": 55,
     "metadata": {},
     "output_type": "execute_result"
    }
   ],
   "source": [
    "type(movie_basics_and_ratings_df)"
   ]
  },
  {
   "cell_type": "markdown",
   "metadata": {},
   "source": [
    "Explore the movie_basics_and_ratings_df data frame."
   ]
  },
  {
   "cell_type": "code",
   "execution_count": 56,
   "metadata": {},
   "outputs": [
    {
     "name": "stdout",
     "output_type": "stream",
     "text": [
      "<class 'pandas.core.frame.DataFrame'>\n",
      "RangeIndex: 73856 entries, 0 to 73855\n",
      "Data columns (total 8 columns):\n",
      " #   Column           Non-Null Count  Dtype  \n",
      "---  ------           --------------  -----  \n",
      " 0   movie_id         73856 non-null  object \n",
      " 1   primary_title    73856 non-null  object \n",
      " 2   original_title   73856 non-null  object \n",
      " 3   start_year       73856 non-null  int64  \n",
      " 4   runtime_minutes  66236 non-null  float64\n",
      " 5   genres           73052 non-null  object \n",
      " 6   average_rating   73856 non-null  float64\n",
      " 7   num_votes        73856 non-null  int64  \n",
      "dtypes: float64(2), int64(2), object(4)\n",
      "memory usage: 4.5+ MB\n"
     ]
    }
   ],
   "source": [
    "movie_basics_and_ratings_df.info()"
   ]
  },
  {
   "cell_type": "code",
   "execution_count": 57,
   "metadata": {
    "scrolled": true
   },
   "outputs": [
    {
     "data": {
      "text/html": [
       "<div>\n",
       "<style scoped>\n",
       "    .dataframe tbody tr th:only-of-type {\n",
       "        vertical-align: middle;\n",
       "    }\n",
       "\n",
       "    .dataframe tbody tr th {\n",
       "        vertical-align: top;\n",
       "    }\n",
       "\n",
       "    .dataframe thead th {\n",
       "        text-align: right;\n",
       "    }\n",
       "</style>\n",
       "<table border=\"1\" class=\"dataframe\">\n",
       "  <thead>\n",
       "    <tr style=\"text-align: right;\">\n",
       "      <th></th>\n",
       "      <th>start_year</th>\n",
       "      <th>runtime_minutes</th>\n",
       "      <th>average_rating</th>\n",
       "      <th>num_votes</th>\n",
       "    </tr>\n",
       "  </thead>\n",
       "  <tbody>\n",
       "    <tr>\n",
       "      <th>count</th>\n",
       "      <td>73856.000000</td>\n",
       "      <td>66236.000000</td>\n",
       "      <td>73856.000000</td>\n",
       "      <td>7.385600e+04</td>\n",
       "    </tr>\n",
       "    <tr>\n",
       "      <th>mean</th>\n",
       "      <td>2014.276132</td>\n",
       "      <td>94.654040</td>\n",
       "      <td>6.332729</td>\n",
       "      <td>3.523662e+03</td>\n",
       "    </tr>\n",
       "    <tr>\n",
       "      <th>std</th>\n",
       "      <td>2.614807</td>\n",
       "      <td>208.574111</td>\n",
       "      <td>1.474978</td>\n",
       "      <td>3.029402e+04</td>\n",
       "    </tr>\n",
       "    <tr>\n",
       "      <th>min</th>\n",
       "      <td>2010.000000</td>\n",
       "      <td>3.000000</td>\n",
       "      <td>1.000000</td>\n",
       "      <td>5.000000e+00</td>\n",
       "    </tr>\n",
       "    <tr>\n",
       "      <th>25%</th>\n",
       "      <td>2012.000000</td>\n",
       "      <td>81.000000</td>\n",
       "      <td>5.500000</td>\n",
       "      <td>1.400000e+01</td>\n",
       "    </tr>\n",
       "    <tr>\n",
       "      <th>50%</th>\n",
       "      <td>2014.000000</td>\n",
       "      <td>91.000000</td>\n",
       "      <td>6.500000</td>\n",
       "      <td>4.900000e+01</td>\n",
       "    </tr>\n",
       "    <tr>\n",
       "      <th>75%</th>\n",
       "      <td>2016.000000</td>\n",
       "      <td>104.000000</td>\n",
       "      <td>7.400000</td>\n",
       "      <td>2.820000e+02</td>\n",
       "    </tr>\n",
       "    <tr>\n",
       "      <th>max</th>\n",
       "      <td>2019.000000</td>\n",
       "      <td>51420.000000</td>\n",
       "      <td>10.000000</td>\n",
       "      <td>1.841066e+06</td>\n",
       "    </tr>\n",
       "  </tbody>\n",
       "</table>\n",
       "</div>"
      ],
      "text/plain": [
       "         start_year  runtime_minutes  average_rating     num_votes\n",
       "count  73856.000000     66236.000000    73856.000000  7.385600e+04\n",
       "mean    2014.276132        94.654040        6.332729  3.523662e+03\n",
       "std        2.614807       208.574111        1.474978  3.029402e+04\n",
       "min     2010.000000         3.000000        1.000000  5.000000e+00\n",
       "25%     2012.000000        81.000000        5.500000  1.400000e+01\n",
       "50%     2014.000000        91.000000        6.500000  4.900000e+01\n",
       "75%     2016.000000       104.000000        7.400000  2.820000e+02\n",
       "max     2019.000000     51420.000000       10.000000  1.841066e+06"
      ]
     },
     "execution_count": 57,
     "metadata": {},
     "output_type": "execute_result"
    }
   ],
   "source": [
    "movie_basics_and_ratings_df.describe()"
   ]
  },
  {
   "cell_type": "markdown",
   "metadata": {},
   "source": [
    "In the combined tables, extract only the movies which have more than 282 reviews.<br>This decision is made in confidence as a result of the following domain knowledge:<br>any movie which has less than 282 reviews - the 75% percentile in this dataset,<br>will not make a measurable impact in the scope of exploring high-grossing movies.<br>This exclusion allows for the examination of only the data that pertains to the business problem.<br>In short, the problem is not concerned with movies that did not do well."
   ]
  },
  {
   "cell_type": "code",
   "execution_count": 58,
   "metadata": {},
   "outputs": [],
   "source": [
    "fourth_quartile_movie_basics_and_ratings_df = movie_basics_and_ratings_df[\n",
    "    movie_basics_and_ratings_df['num_votes'] > 2.820000e+02\n",
    "]"
   ]
  },
  {
   "cell_type": "markdown",
   "metadata": {},
   "source": [
    "Render the head of the fourth_quartile_movie_basics_and_ratings_df data frame."
   ]
  },
  {
   "cell_type": "code",
   "execution_count": 59,
   "metadata": {},
   "outputs": [
    {
     "data": {
      "text/html": [
       "<div>\n",
       "<style scoped>\n",
       "    .dataframe tbody tr th:only-of-type {\n",
       "        vertical-align: middle;\n",
       "    }\n",
       "\n",
       "    .dataframe tbody tr th {\n",
       "        vertical-align: top;\n",
       "    }\n",
       "\n",
       "    .dataframe thead th {\n",
       "        text-align: right;\n",
       "    }\n",
       "</style>\n",
       "<table border=\"1\" class=\"dataframe\">\n",
       "  <thead>\n",
       "    <tr style=\"text-align: right;\">\n",
       "      <th></th>\n",
       "      <th>movie_id</th>\n",
       "      <th>primary_title</th>\n",
       "      <th>original_title</th>\n",
       "      <th>start_year</th>\n",
       "      <th>runtime_minutes</th>\n",
       "      <th>genres</th>\n",
       "      <th>average_rating</th>\n",
       "      <th>num_votes</th>\n",
       "    </tr>\n",
       "  </thead>\n",
       "  <tbody>\n",
       "    <tr>\n",
       "      <th>2</th>\n",
       "      <td>tt0069049</td>\n",
       "      <td>The Other Side of the Wind</td>\n",
       "      <td>The Other Side of the Wind</td>\n",
       "      <td>2018</td>\n",
       "      <td>122.0</td>\n",
       "      <td>Drama</td>\n",
       "      <td>6.9</td>\n",
       "      <td>4517</td>\n",
       "    </tr>\n",
       "    <tr>\n",
       "      <th>7</th>\n",
       "      <td>tt0146592</td>\n",
       "      <td>Pál Adrienn</td>\n",
       "      <td>Pál Adrienn</td>\n",
       "      <td>2010</td>\n",
       "      <td>136.0</td>\n",
       "      <td>Drama</td>\n",
       "      <td>6.8</td>\n",
       "      <td>451</td>\n",
       "    </tr>\n",
       "    <tr>\n",
       "      <th>12</th>\n",
       "      <td>tt0176694</td>\n",
       "      <td>The Tragedy of Man</td>\n",
       "      <td>Az ember tragédiája</td>\n",
       "      <td>2011</td>\n",
       "      <td>160.0</td>\n",
       "      <td>Animation,Drama,History</td>\n",
       "      <td>7.8</td>\n",
       "      <td>584</td>\n",
       "    </tr>\n",
       "    <tr>\n",
       "      <th>16</th>\n",
       "      <td>tt0249516</td>\n",
       "      <td>Foodfight!</td>\n",
       "      <td>Foodfight!</td>\n",
       "      <td>2012</td>\n",
       "      <td>91.0</td>\n",
       "      <td>Action,Animation,Comedy</td>\n",
       "      <td>1.9</td>\n",
       "      <td>8248</td>\n",
       "    </tr>\n",
       "    <tr>\n",
       "      <th>27</th>\n",
       "      <td>tt0293069</td>\n",
       "      <td>Dark Blood</td>\n",
       "      <td>Dark Blood</td>\n",
       "      <td>2012</td>\n",
       "      <td>86.0</td>\n",
       "      <td>Thriller</td>\n",
       "      <td>6.6</td>\n",
       "      <td>1053</td>\n",
       "    </tr>\n",
       "  </tbody>\n",
       "</table>\n",
       "</div>"
      ],
      "text/plain": [
       "     movie_id               primary_title              original_title  \\\n",
       "2   tt0069049  The Other Side of the Wind  The Other Side of the Wind   \n",
       "7   tt0146592                 Pál Adrienn                 Pál Adrienn   \n",
       "12  tt0176694          The Tragedy of Man         Az ember tragédiája   \n",
       "16  tt0249516                  Foodfight!                  Foodfight!   \n",
       "27  tt0293069                  Dark Blood                  Dark Blood   \n",
       "\n",
       "    start_year  runtime_minutes                   genres  average_rating  \\\n",
       "2         2018            122.0                    Drama             6.9   \n",
       "7         2010            136.0                    Drama             6.8   \n",
       "12        2011            160.0  Animation,Drama,History             7.8   \n",
       "16        2012             91.0  Action,Animation,Comedy             1.9   \n",
       "27        2012             86.0                 Thriller             6.6   \n",
       "\n",
       "    num_votes  \n",
       "2        4517  \n",
       "7         451  \n",
       "12        584  \n",
       "16       8248  \n",
       "27       1053  "
      ]
     },
     "execution_count": 59,
     "metadata": {},
     "output_type": "execute_result"
    }
   ],
   "source": [
    "fourth_quartile_movie_basics_and_ratings_df.head()"
   ]
  },
  {
   "cell_type": "markdown",
   "metadata": {},
   "source": [
    "Explore the fourth_quartile_movie_basics_and_ratings_df data frame."
   ]
  },
  {
   "cell_type": "code",
   "execution_count": 60,
   "metadata": {},
   "outputs": [
    {
     "name": "stdout",
     "output_type": "stream",
     "text": [
      "<class 'pandas.core.frame.DataFrame'>\n",
      "Int64Index: 18445 entries, 2 to 73849\n",
      "Data columns (total 8 columns):\n",
      " #   Column           Non-Null Count  Dtype  \n",
      "---  ------           --------------  -----  \n",
      " 0   movie_id         18445 non-null  object \n",
      " 1   primary_title    18445 non-null  object \n",
      " 2   original_title   18445 non-null  object \n",
      " 3   start_year       18445 non-null  int64  \n",
      " 4   runtime_minutes  18282 non-null  float64\n",
      " 5   genres           18438 non-null  object \n",
      " 6   average_rating   18445 non-null  float64\n",
      " 7   num_votes        18445 non-null  int64  \n",
      "dtypes: float64(2), int64(2), object(4)\n",
      "memory usage: 1.3+ MB\n"
     ]
    }
   ],
   "source": [
    "fourth_quartile_movie_basics_and_ratings_df.info()"
   ]
  },
  {
   "cell_type": "code",
   "execution_count": 61,
   "metadata": {},
   "outputs": [
    {
     "data": {
      "text/html": [
       "<div>\n",
       "<style scoped>\n",
       "    .dataframe tbody tr th:only-of-type {\n",
       "        vertical-align: middle;\n",
       "    }\n",
       "\n",
       "    .dataframe tbody tr th {\n",
       "        vertical-align: top;\n",
       "    }\n",
       "\n",
       "    .dataframe thead th {\n",
       "        text-align: right;\n",
       "    }\n",
       "</style>\n",
       "<table border=\"1\" class=\"dataframe\">\n",
       "  <thead>\n",
       "    <tr style=\"text-align: right;\">\n",
       "      <th></th>\n",
       "      <th>start_year</th>\n",
       "      <th>runtime_minutes</th>\n",
       "      <th>average_rating</th>\n",
       "      <th>num_votes</th>\n",
       "    </tr>\n",
       "  </thead>\n",
       "  <tbody>\n",
       "    <tr>\n",
       "      <th>count</th>\n",
       "      <td>18445.000000</td>\n",
       "      <td>18282.000000</td>\n",
       "      <td>18445.000000</td>\n",
       "      <td>1.844500e+04</td>\n",
       "    </tr>\n",
       "    <tr>\n",
       "      <th>mean</th>\n",
       "      <td>2014.197343</td>\n",
       "      <td>103.046166</td>\n",
       "      <td>6.025422</td>\n",
       "      <td>1.394607e+04</td>\n",
       "    </tr>\n",
       "    <tr>\n",
       "      <th>std</th>\n",
       "      <td>2.561388</td>\n",
       "      <td>21.040001</td>\n",
       "      <td>1.297828</td>\n",
       "      <td>5.941411e+04</td>\n",
       "    </tr>\n",
       "    <tr>\n",
       "      <th>min</th>\n",
       "      <td>2010.000000</td>\n",
       "      <td>39.000000</td>\n",
       "      <td>1.000000</td>\n",
       "      <td>2.830000e+02</td>\n",
       "    </tr>\n",
       "    <tr>\n",
       "      <th>25%</th>\n",
       "      <td>2012.000000</td>\n",
       "      <td>90.000000</td>\n",
       "      <td>5.300000</td>\n",
       "      <td>5.030000e+02</td>\n",
       "    </tr>\n",
       "    <tr>\n",
       "      <th>50%</th>\n",
       "      <td>2014.000000</td>\n",
       "      <td>98.000000</td>\n",
       "      <td>6.200000</td>\n",
       "      <td>1.087000e+03</td>\n",
       "    </tr>\n",
       "    <tr>\n",
       "      <th>75%</th>\n",
       "      <td>2016.000000</td>\n",
       "      <td>112.000000</td>\n",
       "      <td>6.900000</td>\n",
       "      <td>3.705000e+03</td>\n",
       "    </tr>\n",
       "    <tr>\n",
       "      <th>max</th>\n",
       "      <td>2019.000000</td>\n",
       "      <td>467.000000</td>\n",
       "      <td>9.900000</td>\n",
       "      <td>1.841066e+06</td>\n",
       "    </tr>\n",
       "  </tbody>\n",
       "</table>\n",
       "</div>"
      ],
      "text/plain": [
       "         start_year  runtime_minutes  average_rating     num_votes\n",
       "count  18445.000000     18282.000000    18445.000000  1.844500e+04\n",
       "mean    2014.197343       103.046166        6.025422  1.394607e+04\n",
       "std        2.561388        21.040001        1.297828  5.941411e+04\n",
       "min     2010.000000        39.000000        1.000000  2.830000e+02\n",
       "25%     2012.000000        90.000000        5.300000  5.030000e+02\n",
       "50%     2014.000000        98.000000        6.200000  1.087000e+03\n",
       "75%     2016.000000       112.000000        6.900000  3.705000e+03\n",
       "max     2019.000000       467.000000        9.900000  1.841066e+06"
      ]
     },
     "execution_count": 61,
     "metadata": {},
     "output_type": "execute_result"
    }
   ],
   "source": [
    "fourth_quartile_movie_basics_and_ratings_df.describe()"
   ]
  },
  {
   "cell_type": "markdown",
   "metadata": {},
   "source": [
    "Examine the frequency of duplicated movied titles in fourth_quartile_movie_basics_and_ratings_df data frame."
   ]
  },
  {
   "cell_type": "code",
   "execution_count": 62,
   "metadata": {},
   "outputs": [
    {
     "data": {
      "text/plain": [
       "False    17477\n",
       "True       968\n",
       "Name: primary_title, dtype: int64"
      ]
     },
     "execution_count": 62,
     "metadata": {},
     "output_type": "execute_result"
    }
   ],
   "source": [
    "fourth_quartile_movie_basics_and_ratings_df['primary_title'].duplicated(keep=False).value_counts()"
   ]
  },
  {
   "cell_type": "markdown",
   "metadata": {},
   "source": [
    "Confirm the data type of the series."
   ]
  },
  {
   "cell_type": "code",
   "execution_count": 63,
   "metadata": {},
   "outputs": [
    {
     "data": {
      "text/plain": [
       "pandas.core.series.Series"
      ]
     },
     "execution_count": 63,
     "metadata": {},
     "output_type": "execute_result"
    }
   ],
   "source": [
    "type(fourth_quartile_movie_basics_and_ratings_df['primary_title'].duplicated(keep=False).value_counts())"
   ]
  },
  {
   "cell_type": "markdown",
   "metadata": {},
   "source": [
    "Based on this duplicated value counts series, there are 968 movies which appear more than once.<br>With consideration to combining this data frame with additional data by movie name,<br>it may not be possible to know which duplicate a new value corresponds to.<br>In light of this, as well as the approximately 05.53870% of the data that these duplicate values constitute,<br>they will be removed from the dataset for ease of combination and for clarity of feature association."
   ]
  },
  {
   "cell_type": "code",
   "execution_count": 64,
   "metadata": {},
   "outputs": [],
   "source": [
    "fourth_quartile_movie_basics_and_ratings_df_filtered = fourth_quartile_movie_basics_and_ratings_df[\n",
    "    (fourth_quartile_movie_basics_and_ratings_df['primary_title'].duplicated(keep=False)) == False\n",
    "]"
   ]
  },
  {
   "cell_type": "markdown",
   "metadata": {},
   "source": [
    "Render the head of the fourth_quartile_movie_basics_and_ratings_df_cleaned data frame."
   ]
  },
  {
   "cell_type": "code",
   "execution_count": 65,
   "metadata": {},
   "outputs": [
    {
     "data": {
      "text/html": [
       "<div>\n",
       "<style scoped>\n",
       "    .dataframe tbody tr th:only-of-type {\n",
       "        vertical-align: middle;\n",
       "    }\n",
       "\n",
       "    .dataframe tbody tr th {\n",
       "        vertical-align: top;\n",
       "    }\n",
       "\n",
       "    .dataframe thead th {\n",
       "        text-align: right;\n",
       "    }\n",
       "</style>\n",
       "<table border=\"1\" class=\"dataframe\">\n",
       "  <thead>\n",
       "    <tr style=\"text-align: right;\">\n",
       "      <th></th>\n",
       "      <th>movie_id</th>\n",
       "      <th>primary_title</th>\n",
       "      <th>original_title</th>\n",
       "      <th>start_year</th>\n",
       "      <th>runtime_minutes</th>\n",
       "      <th>genres</th>\n",
       "      <th>average_rating</th>\n",
       "      <th>num_votes</th>\n",
       "    </tr>\n",
       "  </thead>\n",
       "  <tbody>\n",
       "    <tr>\n",
       "      <th>2</th>\n",
       "      <td>tt0069049</td>\n",
       "      <td>The Other Side of the Wind</td>\n",
       "      <td>The Other Side of the Wind</td>\n",
       "      <td>2018</td>\n",
       "      <td>122.0</td>\n",
       "      <td>Drama</td>\n",
       "      <td>6.9</td>\n",
       "      <td>4517</td>\n",
       "    </tr>\n",
       "    <tr>\n",
       "      <th>7</th>\n",
       "      <td>tt0146592</td>\n",
       "      <td>Pál Adrienn</td>\n",
       "      <td>Pál Adrienn</td>\n",
       "      <td>2010</td>\n",
       "      <td>136.0</td>\n",
       "      <td>Drama</td>\n",
       "      <td>6.8</td>\n",
       "      <td>451</td>\n",
       "    </tr>\n",
       "    <tr>\n",
       "      <th>12</th>\n",
       "      <td>tt0176694</td>\n",
       "      <td>The Tragedy of Man</td>\n",
       "      <td>Az ember tragédiája</td>\n",
       "      <td>2011</td>\n",
       "      <td>160.0</td>\n",
       "      <td>Animation,Drama,History</td>\n",
       "      <td>7.8</td>\n",
       "      <td>584</td>\n",
       "    </tr>\n",
       "    <tr>\n",
       "      <th>16</th>\n",
       "      <td>tt0249516</td>\n",
       "      <td>Foodfight!</td>\n",
       "      <td>Foodfight!</td>\n",
       "      <td>2012</td>\n",
       "      <td>91.0</td>\n",
       "      <td>Action,Animation,Comedy</td>\n",
       "      <td>1.9</td>\n",
       "      <td>8248</td>\n",
       "    </tr>\n",
       "    <tr>\n",
       "      <th>27</th>\n",
       "      <td>tt0293069</td>\n",
       "      <td>Dark Blood</td>\n",
       "      <td>Dark Blood</td>\n",
       "      <td>2012</td>\n",
       "      <td>86.0</td>\n",
       "      <td>Thriller</td>\n",
       "      <td>6.6</td>\n",
       "      <td>1053</td>\n",
       "    </tr>\n",
       "  </tbody>\n",
       "</table>\n",
       "</div>"
      ],
      "text/plain": [
       "     movie_id               primary_title              original_title  \\\n",
       "2   tt0069049  The Other Side of the Wind  The Other Side of the Wind   \n",
       "7   tt0146592                 Pál Adrienn                 Pál Adrienn   \n",
       "12  tt0176694          The Tragedy of Man         Az ember tragédiája   \n",
       "16  tt0249516                  Foodfight!                  Foodfight!   \n",
       "27  tt0293069                  Dark Blood                  Dark Blood   \n",
       "\n",
       "    start_year  runtime_minutes                   genres  average_rating  \\\n",
       "2         2018            122.0                    Drama             6.9   \n",
       "7         2010            136.0                    Drama             6.8   \n",
       "12        2011            160.0  Animation,Drama,History             7.8   \n",
       "16        2012             91.0  Action,Animation,Comedy             1.9   \n",
       "27        2012             86.0                 Thriller             6.6   \n",
       "\n",
       "    num_votes  \n",
       "2        4517  \n",
       "7         451  \n",
       "12        584  \n",
       "16       8248  \n",
       "27       1053  "
      ]
     },
     "execution_count": 65,
     "metadata": {},
     "output_type": "execute_result"
    }
   ],
   "source": [
    "fourth_quartile_movie_basics_and_ratings_df_filtered.head()"
   ]
  },
  {
   "cell_type": "markdown",
   "metadata": {},
   "source": [
    "Explore the fourth_quartile_movie_basics_and_ratings_df data frame."
   ]
  },
  {
   "cell_type": "code",
   "execution_count": 66,
   "metadata": {},
   "outputs": [
    {
     "name": "stdout",
     "output_type": "stream",
     "text": [
      "<class 'pandas.core.frame.DataFrame'>\n",
      "Int64Index: 17477 entries, 2 to 73849\n",
      "Data columns (total 8 columns):\n",
      " #   Column           Non-Null Count  Dtype  \n",
      "---  ------           --------------  -----  \n",
      " 0   movie_id         17477 non-null  object \n",
      " 1   primary_title    17477 non-null  object \n",
      " 2   original_title   17477 non-null  object \n",
      " 3   start_year       17477 non-null  int64  \n",
      " 4   runtime_minutes  17316 non-null  float64\n",
      " 5   genres           17470 non-null  object \n",
      " 6   average_rating   17477 non-null  float64\n",
      " 7   num_votes        17477 non-null  int64  \n",
      "dtypes: float64(2), int64(2), object(4)\n",
      "memory usage: 1.2+ MB\n"
     ]
    }
   ],
   "source": [
    "fourth_quartile_movie_basics_and_ratings_df_filtered.info()"
   ]
  },
  {
   "cell_type": "code",
   "execution_count": 67,
   "metadata": {},
   "outputs": [
    {
     "data": {
      "text/html": [
       "<div>\n",
       "<style scoped>\n",
       "    .dataframe tbody tr th:only-of-type {\n",
       "        vertical-align: middle;\n",
       "    }\n",
       "\n",
       "    .dataframe tbody tr th {\n",
       "        vertical-align: top;\n",
       "    }\n",
       "\n",
       "    .dataframe thead th {\n",
       "        text-align: right;\n",
       "    }\n",
       "</style>\n",
       "<table border=\"1\" class=\"dataframe\">\n",
       "  <thead>\n",
       "    <tr style=\"text-align: right;\">\n",
       "      <th></th>\n",
       "      <th>start_year</th>\n",
       "      <th>runtime_minutes</th>\n",
       "      <th>average_rating</th>\n",
       "      <th>num_votes</th>\n",
       "    </tr>\n",
       "  </thead>\n",
       "  <tbody>\n",
       "    <tr>\n",
       "      <th>count</th>\n",
       "      <td>17477.000000</td>\n",
       "      <td>17316.000000</td>\n",
       "      <td>17477.000000</td>\n",
       "      <td>1.747700e+04</td>\n",
       "    </tr>\n",
       "    <tr>\n",
       "      <th>mean</th>\n",
       "      <td>2014.198947</td>\n",
       "      <td>103.044641</td>\n",
       "      <td>6.032786</td>\n",
       "      <td>1.415034e+04</td>\n",
       "    </tr>\n",
       "    <tr>\n",
       "      <th>std</th>\n",
       "      <td>2.559805</td>\n",
       "      <td>21.141866</td>\n",
       "      <td>1.299882</td>\n",
       "      <td>6.040423e+04</td>\n",
       "    </tr>\n",
       "    <tr>\n",
       "      <th>min</th>\n",
       "      <td>2010.000000</td>\n",
       "      <td>39.000000</td>\n",
       "      <td>1.000000</td>\n",
       "      <td>2.830000e+02</td>\n",
       "    </tr>\n",
       "    <tr>\n",
       "      <th>25%</th>\n",
       "      <td>2012.000000</td>\n",
       "      <td>90.000000</td>\n",
       "      <td>5.300000</td>\n",
       "      <td>5.020000e+02</td>\n",
       "    </tr>\n",
       "    <tr>\n",
       "      <th>50%</th>\n",
       "      <td>2014.000000</td>\n",
       "      <td>98.000000</td>\n",
       "      <td>6.200000</td>\n",
       "      <td>1.077000e+03</td>\n",
       "    </tr>\n",
       "    <tr>\n",
       "      <th>75%</th>\n",
       "      <td>2016.000000</td>\n",
       "      <td>112.000000</td>\n",
       "      <td>7.000000</td>\n",
       "      <td>3.671000e+03</td>\n",
       "    </tr>\n",
       "    <tr>\n",
       "      <th>max</th>\n",
       "      <td>2019.000000</td>\n",
       "      <td>467.000000</td>\n",
       "      <td>9.900000</td>\n",
       "      <td>1.841066e+06</td>\n",
       "    </tr>\n",
       "  </tbody>\n",
       "</table>\n",
       "</div>"
      ],
      "text/plain": [
       "         start_year  runtime_minutes  average_rating     num_votes\n",
       "count  17477.000000     17316.000000    17477.000000  1.747700e+04\n",
       "mean    2014.198947       103.044641        6.032786  1.415034e+04\n",
       "std        2.559805        21.141866        1.299882  6.040423e+04\n",
       "min     2010.000000        39.000000        1.000000  2.830000e+02\n",
       "25%     2012.000000        90.000000        5.300000  5.020000e+02\n",
       "50%     2014.000000        98.000000        6.200000  1.077000e+03\n",
       "75%     2016.000000       112.000000        7.000000  3.671000e+03\n",
       "max     2019.000000       467.000000        9.900000  1.841066e+06"
      ]
     },
     "execution_count": 67,
     "metadata": {},
     "output_type": "execute_result"
    }
   ],
   "source": [
    "fourth_quartile_movie_basics_and_ratings_df_filtered.describe()"
   ]
  },
  {
   "cell_type": "markdown",
   "metadata": {},
   "source": [
    "Instantiate a variable to create a pandas data frame on the movie_gross csv."
   ]
  },
  {
   "cell_type": "code",
   "execution_count": 68,
   "metadata": {},
   "outputs": [],
   "source": [
    "movie_gross_df = pd.read_csv('./zippedData/bom.movie_gross.csv.gz')"
   ]
  },
  {
   "cell_type": "markdown",
   "metadata": {},
   "source": [
    "Render the head of the movie_gross_df data frame."
   ]
  },
  {
   "cell_type": "code",
   "execution_count": 69,
   "metadata": {
    "scrolled": false
   },
   "outputs": [
    {
     "data": {
      "text/html": [
       "<div>\n",
       "<style scoped>\n",
       "    .dataframe tbody tr th:only-of-type {\n",
       "        vertical-align: middle;\n",
       "    }\n",
       "\n",
       "    .dataframe tbody tr th {\n",
       "        vertical-align: top;\n",
       "    }\n",
       "\n",
       "    .dataframe thead th {\n",
       "        text-align: right;\n",
       "    }\n",
       "</style>\n",
       "<table border=\"1\" class=\"dataframe\">\n",
       "  <thead>\n",
       "    <tr style=\"text-align: right;\">\n",
       "      <th></th>\n",
       "      <th>title</th>\n",
       "      <th>studio</th>\n",
       "      <th>domestic_gross</th>\n",
       "      <th>foreign_gross</th>\n",
       "      <th>year</th>\n",
       "    </tr>\n",
       "  </thead>\n",
       "  <tbody>\n",
       "    <tr>\n",
       "      <th>0</th>\n",
       "      <td>Toy Story 3</td>\n",
       "      <td>BV</td>\n",
       "      <td>415000000.0</td>\n",
       "      <td>652000000</td>\n",
       "      <td>2010</td>\n",
       "    </tr>\n",
       "    <tr>\n",
       "      <th>1</th>\n",
       "      <td>Alice in Wonderland (2010)</td>\n",
       "      <td>BV</td>\n",
       "      <td>334200000.0</td>\n",
       "      <td>691300000</td>\n",
       "      <td>2010</td>\n",
       "    </tr>\n",
       "    <tr>\n",
       "      <th>2</th>\n",
       "      <td>Harry Potter and the Deathly Hallows Part 1</td>\n",
       "      <td>WB</td>\n",
       "      <td>296000000.0</td>\n",
       "      <td>664300000</td>\n",
       "      <td>2010</td>\n",
       "    </tr>\n",
       "    <tr>\n",
       "      <th>3</th>\n",
       "      <td>Inception</td>\n",
       "      <td>WB</td>\n",
       "      <td>292600000.0</td>\n",
       "      <td>535700000</td>\n",
       "      <td>2010</td>\n",
       "    </tr>\n",
       "    <tr>\n",
       "      <th>4</th>\n",
       "      <td>Shrek Forever After</td>\n",
       "      <td>P/DW</td>\n",
       "      <td>238700000.0</td>\n",
       "      <td>513900000</td>\n",
       "      <td>2010</td>\n",
       "    </tr>\n",
       "  </tbody>\n",
       "</table>\n",
       "</div>"
      ],
      "text/plain": [
       "                                         title studio  domestic_gross  \\\n",
       "0                                  Toy Story 3     BV     415000000.0   \n",
       "1                   Alice in Wonderland (2010)     BV     334200000.0   \n",
       "2  Harry Potter and the Deathly Hallows Part 1     WB     296000000.0   \n",
       "3                                    Inception     WB     292600000.0   \n",
       "4                          Shrek Forever After   P/DW     238700000.0   \n",
       "\n",
       "  foreign_gross  year  \n",
       "0     652000000  2010  \n",
       "1     691300000  2010  \n",
       "2     664300000  2010  \n",
       "3     535700000  2010  \n",
       "4     513900000  2010  "
      ]
     },
     "execution_count": 69,
     "metadata": {},
     "output_type": "execute_result"
    }
   ],
   "source": [
    "movie_gross_df.head()"
   ]
  },
  {
   "cell_type": "markdown",
   "metadata": {},
   "source": [
    "Explore the movie_gross_df data frame."
   ]
  },
  {
   "cell_type": "code",
   "execution_count": 70,
   "metadata": {},
   "outputs": [
    {
     "name": "stdout",
     "output_type": "stream",
     "text": [
      "<class 'pandas.core.frame.DataFrame'>\n",
      "RangeIndex: 3387 entries, 0 to 3386\n",
      "Data columns (total 5 columns):\n",
      " #   Column          Non-Null Count  Dtype  \n",
      "---  ------          --------------  -----  \n",
      " 0   title           3387 non-null   object \n",
      " 1   studio          3382 non-null   object \n",
      " 2   domestic_gross  3359 non-null   float64\n",
      " 3   foreign_gross   2037 non-null   object \n",
      " 4   year            3387 non-null   int64  \n",
      "dtypes: float64(1), int64(1), object(3)\n",
      "memory usage: 132.4+ KB\n"
     ]
    }
   ],
   "source": [
    "movie_gross_df.info()"
   ]
  },
  {
   "cell_type": "code",
   "execution_count": 71,
   "metadata": {},
   "outputs": [
    {
     "data": {
      "text/html": [
       "<div>\n",
       "<style scoped>\n",
       "    .dataframe tbody tr th:only-of-type {\n",
       "        vertical-align: middle;\n",
       "    }\n",
       "\n",
       "    .dataframe tbody tr th {\n",
       "        vertical-align: top;\n",
       "    }\n",
       "\n",
       "    .dataframe thead th {\n",
       "        text-align: right;\n",
       "    }\n",
       "</style>\n",
       "<table border=\"1\" class=\"dataframe\">\n",
       "  <thead>\n",
       "    <tr style=\"text-align: right;\">\n",
       "      <th></th>\n",
       "      <th>domestic_gross</th>\n",
       "      <th>year</th>\n",
       "    </tr>\n",
       "  </thead>\n",
       "  <tbody>\n",
       "    <tr>\n",
       "      <th>count</th>\n",
       "      <td>3.359000e+03</td>\n",
       "      <td>3387.000000</td>\n",
       "    </tr>\n",
       "    <tr>\n",
       "      <th>mean</th>\n",
       "      <td>2.874585e+07</td>\n",
       "      <td>2013.958075</td>\n",
       "    </tr>\n",
       "    <tr>\n",
       "      <th>std</th>\n",
       "      <td>6.698250e+07</td>\n",
       "      <td>2.478141</td>\n",
       "    </tr>\n",
       "    <tr>\n",
       "      <th>min</th>\n",
       "      <td>1.000000e+02</td>\n",
       "      <td>2010.000000</td>\n",
       "    </tr>\n",
       "    <tr>\n",
       "      <th>25%</th>\n",
       "      <td>1.200000e+05</td>\n",
       "      <td>2012.000000</td>\n",
       "    </tr>\n",
       "    <tr>\n",
       "      <th>50%</th>\n",
       "      <td>1.400000e+06</td>\n",
       "      <td>2014.000000</td>\n",
       "    </tr>\n",
       "    <tr>\n",
       "      <th>75%</th>\n",
       "      <td>2.790000e+07</td>\n",
       "      <td>2016.000000</td>\n",
       "    </tr>\n",
       "    <tr>\n",
       "      <th>max</th>\n",
       "      <td>9.367000e+08</td>\n",
       "      <td>2018.000000</td>\n",
       "    </tr>\n",
       "  </tbody>\n",
       "</table>\n",
       "</div>"
      ],
      "text/plain": [
       "       domestic_gross         year\n",
       "count    3.359000e+03  3387.000000\n",
       "mean     2.874585e+07  2013.958075\n",
       "std      6.698250e+07     2.478141\n",
       "min      1.000000e+02  2010.000000\n",
       "25%      1.200000e+05  2012.000000\n",
       "50%      1.400000e+06  2014.000000\n",
       "75%      2.790000e+07  2016.000000\n",
       "max      9.367000e+08  2018.000000"
      ]
     },
     "execution_count": 71,
     "metadata": {},
     "output_type": "execute_result"
    }
   ],
   "source": [
    "movie_gross_df.describe()"
   ]
  },
  {
   "cell_type": "markdown",
   "metadata": {},
   "source": [
    "Confirm the data type of the movie_gross data frame."
   ]
  },
  {
   "cell_type": "code",
   "execution_count": 72,
   "metadata": {},
   "outputs": [
    {
     "data": {
      "text/plain": [
       "pandas.core.frame.DataFrame"
      ]
     },
     "execution_count": 72,
     "metadata": {},
     "output_type": "execute_result"
    }
   ],
   "source": [
    "type(movie_gross_df)"
   ]
  },
  {
   "cell_type": "markdown",
   "metadata": {},
   "source": [
    "Instantiate a variable to create a pandas data frame on the movie_basics_and_ratings_df, joined with the movie_gross_df."
   ]
  },
  {
   "cell_type": "code",
   "execution_count": 73,
   "metadata": {},
   "outputs": [],
   "source": [
    "fourth_quartile_movie_basics_ratings_and_gross_df_filtered = pd.merge(\n",
    "    left=fourth_quartile_movie_basics_and_ratings_df_filtered,\n",
    "    right=movie_gross_df,\n",
    "    left_on='primary_title',\n",
    "    right_on='title')"
   ]
  },
  {
   "cell_type": "markdown",
   "metadata": {},
   "source": [
    "Render the head of the fourth_quartile_movie_basics_ratings_and_gross_df_filtered data frame."
   ]
  },
  {
   "cell_type": "code",
   "execution_count": 74,
   "metadata": {
    "scrolled": false
   },
   "outputs": [
    {
     "data": {
      "text/html": [
       "<div>\n",
       "<style scoped>\n",
       "    .dataframe tbody tr th:only-of-type {\n",
       "        vertical-align: middle;\n",
       "    }\n",
       "\n",
       "    .dataframe tbody tr th {\n",
       "        vertical-align: top;\n",
       "    }\n",
       "\n",
       "    .dataframe thead th {\n",
       "        text-align: right;\n",
       "    }\n",
       "</style>\n",
       "<table border=\"1\" class=\"dataframe\">\n",
       "  <thead>\n",
       "    <tr style=\"text-align: right;\">\n",
       "      <th></th>\n",
       "      <th>movie_id</th>\n",
       "      <th>primary_title</th>\n",
       "      <th>original_title</th>\n",
       "      <th>start_year</th>\n",
       "      <th>runtime_minutes</th>\n",
       "      <th>genres</th>\n",
       "      <th>average_rating</th>\n",
       "      <th>num_votes</th>\n",
       "      <th>title</th>\n",
       "      <th>studio</th>\n",
       "      <th>domestic_gross</th>\n",
       "      <th>foreign_gross</th>\n",
       "      <th>year</th>\n",
       "    </tr>\n",
       "  </thead>\n",
       "  <tbody>\n",
       "    <tr>\n",
       "      <th>0</th>\n",
       "      <td>tt0315642</td>\n",
       "      <td>Wazir</td>\n",
       "      <td>Wazir</td>\n",
       "      <td>2016</td>\n",
       "      <td>103.0</td>\n",
       "      <td>Action,Crime,Drama</td>\n",
       "      <td>7.1</td>\n",
       "      <td>15378</td>\n",
       "      <td>Wazir</td>\n",
       "      <td>Relbig.</td>\n",
       "      <td>1100000.0</td>\n",
       "      <td>NaN</td>\n",
       "      <td>2016</td>\n",
       "    </tr>\n",
       "    <tr>\n",
       "      <th>1</th>\n",
       "      <td>tt0337692</td>\n",
       "      <td>On the Road</td>\n",
       "      <td>On the Road</td>\n",
       "      <td>2012</td>\n",
       "      <td>124.0</td>\n",
       "      <td>Adventure,Drama,Romance</td>\n",
       "      <td>6.1</td>\n",
       "      <td>37886</td>\n",
       "      <td>On the Road</td>\n",
       "      <td>IFC</td>\n",
       "      <td>744000.0</td>\n",
       "      <td>8000000</td>\n",
       "      <td>2012</td>\n",
       "    </tr>\n",
       "    <tr>\n",
       "      <th>2</th>\n",
       "      <td>tt0359950</td>\n",
       "      <td>The Secret Life of Walter Mitty</td>\n",
       "      <td>The Secret Life of Walter Mitty</td>\n",
       "      <td>2013</td>\n",
       "      <td>114.0</td>\n",
       "      <td>Adventure,Comedy,Drama</td>\n",
       "      <td>7.3</td>\n",
       "      <td>275300</td>\n",
       "      <td>The Secret Life of Walter Mitty</td>\n",
       "      <td>Fox</td>\n",
       "      <td>58200000.0</td>\n",
       "      <td>129900000</td>\n",
       "      <td>2013</td>\n",
       "    </tr>\n",
       "    <tr>\n",
       "      <th>3</th>\n",
       "      <td>tt0365907</td>\n",
       "      <td>A Walk Among the Tombstones</td>\n",
       "      <td>A Walk Among the Tombstones</td>\n",
       "      <td>2014</td>\n",
       "      <td>114.0</td>\n",
       "      <td>Action,Crime,Drama</td>\n",
       "      <td>6.5</td>\n",
       "      <td>105116</td>\n",
       "      <td>A Walk Among the Tombstones</td>\n",
       "      <td>Uni.</td>\n",
       "      <td>26300000.0</td>\n",
       "      <td>26900000</td>\n",
       "      <td>2014</td>\n",
       "    </tr>\n",
       "    <tr>\n",
       "      <th>4</th>\n",
       "      <td>tt0369610</td>\n",
       "      <td>Jurassic World</td>\n",
       "      <td>Jurassic World</td>\n",
       "      <td>2015</td>\n",
       "      <td>124.0</td>\n",
       "      <td>Action,Adventure,Sci-Fi</td>\n",
       "      <td>7.0</td>\n",
       "      <td>539338</td>\n",
       "      <td>Jurassic World</td>\n",
       "      <td>Uni.</td>\n",
       "      <td>652300000.0</td>\n",
       "      <td>1,019.4</td>\n",
       "      <td>2015</td>\n",
       "    </tr>\n",
       "  </tbody>\n",
       "</table>\n",
       "</div>"
      ],
      "text/plain": [
       "    movie_id                    primary_title  \\\n",
       "0  tt0315642                            Wazir   \n",
       "1  tt0337692                      On the Road   \n",
       "2  tt0359950  The Secret Life of Walter Mitty   \n",
       "3  tt0365907      A Walk Among the Tombstones   \n",
       "4  tt0369610                   Jurassic World   \n",
       "\n",
       "                    original_title  start_year  runtime_minutes  \\\n",
       "0                            Wazir        2016            103.0   \n",
       "1                      On the Road        2012            124.0   \n",
       "2  The Secret Life of Walter Mitty        2013            114.0   \n",
       "3      A Walk Among the Tombstones        2014            114.0   \n",
       "4                   Jurassic World        2015            124.0   \n",
       "\n",
       "                    genres  average_rating  num_votes  \\\n",
       "0       Action,Crime,Drama             7.1      15378   \n",
       "1  Adventure,Drama,Romance             6.1      37886   \n",
       "2   Adventure,Comedy,Drama             7.3     275300   \n",
       "3       Action,Crime,Drama             6.5     105116   \n",
       "4  Action,Adventure,Sci-Fi             7.0     539338   \n",
       "\n",
       "                             title   studio  domestic_gross foreign_gross  \\\n",
       "0                            Wazir  Relbig.       1100000.0           NaN   \n",
       "1                      On the Road      IFC        744000.0       8000000   \n",
       "2  The Secret Life of Walter Mitty      Fox      58200000.0     129900000   \n",
       "3      A Walk Among the Tombstones     Uni.      26300000.0      26900000   \n",
       "4                   Jurassic World     Uni.     652300000.0       1,019.4   \n",
       "\n",
       "   year  \n",
       "0  2016  \n",
       "1  2012  \n",
       "2  2013  \n",
       "3  2014  \n",
       "4  2015  "
      ]
     },
     "execution_count": 74,
     "metadata": {},
     "output_type": "execute_result"
    }
   ],
   "source": [
    "fourth_quartile_movie_basics_ratings_and_gross_df_filtered.head()"
   ]
  },
  {
   "cell_type": "markdown",
   "metadata": {},
   "source": [
    "Explore the fourth_quartile_movie_basics_ratings_and_gross_df_filtered data frame."
   ]
  },
  {
   "cell_type": "code",
   "execution_count": 75,
   "metadata": {},
   "outputs": [
    {
     "name": "stdout",
     "output_type": "stream",
     "text": [
      "<class 'pandas.core.frame.DataFrame'>\n",
      "Int64Index: 2452 entries, 0 to 2451\n",
      "Data columns (total 13 columns):\n",
      " #   Column           Non-Null Count  Dtype  \n",
      "---  ------           --------------  -----  \n",
      " 0   movie_id         2452 non-null   object \n",
      " 1   primary_title    2452 non-null   object \n",
      " 2   original_title   2452 non-null   object \n",
      " 3   start_year       2452 non-null   int64  \n",
      " 4   runtime_minutes  2452 non-null   float64\n",
      " 5   genres           2452 non-null   object \n",
      " 6   average_rating   2452 non-null   float64\n",
      " 7   num_votes        2452 non-null   int64  \n",
      " 8   title            2452 non-null   object \n",
      " 9   studio           2450 non-null   object \n",
      " 10  domestic_gross   2435 non-null   float64\n",
      " 11  foreign_gross    1484 non-null   object \n",
      " 12  year             2452 non-null   int64  \n",
      "dtypes: float64(3), int64(3), object(7)\n",
      "memory usage: 268.2+ KB\n"
     ]
    }
   ],
   "source": [
    "fourth_quartile_movie_basics_ratings_and_gross_df_filtered.info()"
   ]
  },
  {
   "cell_type": "code",
   "execution_count": 76,
   "metadata": {},
   "outputs": [
    {
     "data": {
      "text/html": [
       "<div>\n",
       "<style scoped>\n",
       "    .dataframe tbody tr th:only-of-type {\n",
       "        vertical-align: middle;\n",
       "    }\n",
       "\n",
       "    .dataframe tbody tr th {\n",
       "        vertical-align: top;\n",
       "    }\n",
       "\n",
       "    .dataframe thead th {\n",
       "        text-align: right;\n",
       "    }\n",
       "</style>\n",
       "<table border=\"1\" class=\"dataframe\">\n",
       "  <thead>\n",
       "    <tr style=\"text-align: right;\">\n",
       "      <th></th>\n",
       "      <th>start_year</th>\n",
       "      <th>runtime_minutes</th>\n",
       "      <th>average_rating</th>\n",
       "      <th>num_votes</th>\n",
       "      <th>domestic_gross</th>\n",
       "      <th>year</th>\n",
       "    </tr>\n",
       "  </thead>\n",
       "  <tbody>\n",
       "    <tr>\n",
       "      <th>count</th>\n",
       "      <td>2452.000000</td>\n",
       "      <td>2452.000000</td>\n",
       "      <td>2452.000000</td>\n",
       "      <td>2.452000e+03</td>\n",
       "      <td>2.435000e+03</td>\n",
       "      <td>2452.000000</td>\n",
       "    </tr>\n",
       "    <tr>\n",
       "      <th>mean</th>\n",
       "      <td>2013.723899</td>\n",
       "      <td>109.348287</td>\n",
       "      <td>6.505465</td>\n",
       "      <td>7.403571e+04</td>\n",
       "      <td>3.194805e+07</td>\n",
       "      <td>2014.043230</td>\n",
       "    </tr>\n",
       "    <tr>\n",
       "      <th>std</th>\n",
       "      <td>2.429594</td>\n",
       "      <td>18.856028</td>\n",
       "      <td>0.924429</td>\n",
       "      <td>1.351228e+05</td>\n",
       "      <td>6.866268e+07</td>\n",
       "      <td>2.404726</td>\n",
       "    </tr>\n",
       "    <tr>\n",
       "      <th>min</th>\n",
       "      <td>2010.000000</td>\n",
       "      <td>41.000000</td>\n",
       "      <td>1.600000</td>\n",
       "      <td>2.830000e+02</td>\n",
       "      <td>1.000000e+02</td>\n",
       "      <td>2010.000000</td>\n",
       "    </tr>\n",
       "    <tr>\n",
       "      <th>25%</th>\n",
       "      <td>2012.000000</td>\n",
       "      <td>96.000000</td>\n",
       "      <td>6.000000</td>\n",
       "      <td>5.492750e+03</td>\n",
       "      <td>1.525000e+05</td>\n",
       "      <td>2012.000000</td>\n",
       "    </tr>\n",
       "    <tr>\n",
       "      <th>50%</th>\n",
       "      <td>2014.000000</td>\n",
       "      <td>106.000000</td>\n",
       "      <td>6.600000</td>\n",
       "      <td>2.170950e+04</td>\n",
       "      <td>2.300000e+06</td>\n",
       "      <td>2014.000000</td>\n",
       "    </tr>\n",
       "    <tr>\n",
       "      <th>75%</th>\n",
       "      <td>2016.000000</td>\n",
       "      <td>120.000000</td>\n",
       "      <td>7.200000</td>\n",
       "      <td>8.122650e+04</td>\n",
       "      <td>3.420000e+07</td>\n",
       "      <td>2016.000000</td>\n",
       "    </tr>\n",
       "    <tr>\n",
       "      <th>max</th>\n",
       "      <td>2018.000000</td>\n",
       "      <td>272.000000</td>\n",
       "      <td>8.800000</td>\n",
       "      <td>1.841066e+06</td>\n",
       "      <td>7.001000e+08</td>\n",
       "      <td>2018.000000</td>\n",
       "    </tr>\n",
       "  </tbody>\n",
       "</table>\n",
       "</div>"
      ],
      "text/plain": [
       "        start_year  runtime_minutes  average_rating     num_votes  \\\n",
       "count  2452.000000      2452.000000     2452.000000  2.452000e+03   \n",
       "mean   2013.723899       109.348287        6.505465  7.403571e+04   \n",
       "std       2.429594        18.856028        0.924429  1.351228e+05   \n",
       "min    2010.000000        41.000000        1.600000  2.830000e+02   \n",
       "25%    2012.000000        96.000000        6.000000  5.492750e+03   \n",
       "50%    2014.000000       106.000000        6.600000  2.170950e+04   \n",
       "75%    2016.000000       120.000000        7.200000  8.122650e+04   \n",
       "max    2018.000000       272.000000        8.800000  1.841066e+06   \n",
       "\n",
       "       domestic_gross         year  \n",
       "count    2.435000e+03  2452.000000  \n",
       "mean     3.194805e+07  2014.043230  \n",
       "std      6.866268e+07     2.404726  \n",
       "min      1.000000e+02  2010.000000  \n",
       "25%      1.525000e+05  2012.000000  \n",
       "50%      2.300000e+06  2014.000000  \n",
       "75%      3.420000e+07  2016.000000  \n",
       "max      7.001000e+08  2018.000000  "
      ]
     },
     "execution_count": 76,
     "metadata": {},
     "output_type": "execute_result"
    }
   ],
   "source": [
    "fourth_quartile_movie_basics_ratings_and_gross_df_filtered.describe()"
   ]
  },
  {
   "cell_type": "markdown",
   "metadata": {},
   "source": [
    "Of particular note at this juncture is this:<br>of the various columns and their associated datat types, there is at least one which is not as expected.<br>Specifically, the foreign_gross column, which would be expected to be a number of some kind -either an integer or a float, is an object.<br>Also evident, by way of the Jurassic World entry in the above data frame head,<br>is the fact that the contents of these objects are not stored in a consistent denomination.<br>Furthermore, the data frame info demonstrates that there are only 1484 out of 2452 entries in the foreign_gross column which are non-null.<br>With a null value percentage of approximately 39.47797%, this column contains too many missing values to consider.<br>At this time, the foreign_gross column will not be considered for data preparation or visualization.<br>domestic_gross will be the measure against which other features are considered.<br><br>Given sufficient time, this data could also be wrangled and a subset in the count of 1484 could be explored.<br>Once a minimum viable product has been achieved, this may be done."
   ]
  },
  {
   "cell_type": "code",
   "execution_count": 77,
   "metadata": {},
   "outputs": [],
   "source": [
    "fourth_quartile_movie_basics_ratings_and_gross_df_filtered = (\n",
    "    fourth_quartile_movie_basics_ratings_and_gross_df_filtered.drop(columns='foreign_gross'))"
   ]
  },
  {
   "cell_type": "markdown",
   "metadata": {},
   "source": [
    "Render the new head of the fourth_quartile_movie_basics_ratings_and_gross_df_filtered data frame."
   ]
  },
  {
   "cell_type": "code",
   "execution_count": 78,
   "metadata": {
    "scrolled": true
   },
   "outputs": [
    {
     "data": {
      "text/html": [
       "<div>\n",
       "<style scoped>\n",
       "    .dataframe tbody tr th:only-of-type {\n",
       "        vertical-align: middle;\n",
       "    }\n",
       "\n",
       "    .dataframe tbody tr th {\n",
       "        vertical-align: top;\n",
       "    }\n",
       "\n",
       "    .dataframe thead th {\n",
       "        text-align: right;\n",
       "    }\n",
       "</style>\n",
       "<table border=\"1\" class=\"dataframe\">\n",
       "  <thead>\n",
       "    <tr style=\"text-align: right;\">\n",
       "      <th></th>\n",
       "      <th>movie_id</th>\n",
       "      <th>primary_title</th>\n",
       "      <th>original_title</th>\n",
       "      <th>start_year</th>\n",
       "      <th>runtime_minutes</th>\n",
       "      <th>genres</th>\n",
       "      <th>average_rating</th>\n",
       "      <th>num_votes</th>\n",
       "      <th>title</th>\n",
       "      <th>studio</th>\n",
       "      <th>domestic_gross</th>\n",
       "      <th>year</th>\n",
       "    </tr>\n",
       "  </thead>\n",
       "  <tbody>\n",
       "    <tr>\n",
       "      <th>0</th>\n",
       "      <td>tt0315642</td>\n",
       "      <td>Wazir</td>\n",
       "      <td>Wazir</td>\n",
       "      <td>2016</td>\n",
       "      <td>103.0</td>\n",
       "      <td>Action,Crime,Drama</td>\n",
       "      <td>7.1</td>\n",
       "      <td>15378</td>\n",
       "      <td>Wazir</td>\n",
       "      <td>Relbig.</td>\n",
       "      <td>1100000.0</td>\n",
       "      <td>2016</td>\n",
       "    </tr>\n",
       "    <tr>\n",
       "      <th>1</th>\n",
       "      <td>tt0337692</td>\n",
       "      <td>On the Road</td>\n",
       "      <td>On the Road</td>\n",
       "      <td>2012</td>\n",
       "      <td>124.0</td>\n",
       "      <td>Adventure,Drama,Romance</td>\n",
       "      <td>6.1</td>\n",
       "      <td>37886</td>\n",
       "      <td>On the Road</td>\n",
       "      <td>IFC</td>\n",
       "      <td>744000.0</td>\n",
       "      <td>2012</td>\n",
       "    </tr>\n",
       "    <tr>\n",
       "      <th>2</th>\n",
       "      <td>tt0359950</td>\n",
       "      <td>The Secret Life of Walter Mitty</td>\n",
       "      <td>The Secret Life of Walter Mitty</td>\n",
       "      <td>2013</td>\n",
       "      <td>114.0</td>\n",
       "      <td>Adventure,Comedy,Drama</td>\n",
       "      <td>7.3</td>\n",
       "      <td>275300</td>\n",
       "      <td>The Secret Life of Walter Mitty</td>\n",
       "      <td>Fox</td>\n",
       "      <td>58200000.0</td>\n",
       "      <td>2013</td>\n",
       "    </tr>\n",
       "    <tr>\n",
       "      <th>3</th>\n",
       "      <td>tt0365907</td>\n",
       "      <td>A Walk Among the Tombstones</td>\n",
       "      <td>A Walk Among the Tombstones</td>\n",
       "      <td>2014</td>\n",
       "      <td>114.0</td>\n",
       "      <td>Action,Crime,Drama</td>\n",
       "      <td>6.5</td>\n",
       "      <td>105116</td>\n",
       "      <td>A Walk Among the Tombstones</td>\n",
       "      <td>Uni.</td>\n",
       "      <td>26300000.0</td>\n",
       "      <td>2014</td>\n",
       "    </tr>\n",
       "    <tr>\n",
       "      <th>4</th>\n",
       "      <td>tt0369610</td>\n",
       "      <td>Jurassic World</td>\n",
       "      <td>Jurassic World</td>\n",
       "      <td>2015</td>\n",
       "      <td>124.0</td>\n",
       "      <td>Action,Adventure,Sci-Fi</td>\n",
       "      <td>7.0</td>\n",
       "      <td>539338</td>\n",
       "      <td>Jurassic World</td>\n",
       "      <td>Uni.</td>\n",
       "      <td>652300000.0</td>\n",
       "      <td>2015</td>\n",
       "    </tr>\n",
       "  </tbody>\n",
       "</table>\n",
       "</div>"
      ],
      "text/plain": [
       "    movie_id                    primary_title  \\\n",
       "0  tt0315642                            Wazir   \n",
       "1  tt0337692                      On the Road   \n",
       "2  tt0359950  The Secret Life of Walter Mitty   \n",
       "3  tt0365907      A Walk Among the Tombstones   \n",
       "4  tt0369610                   Jurassic World   \n",
       "\n",
       "                    original_title  start_year  runtime_minutes  \\\n",
       "0                            Wazir        2016            103.0   \n",
       "1                      On the Road        2012            124.0   \n",
       "2  The Secret Life of Walter Mitty        2013            114.0   \n",
       "3      A Walk Among the Tombstones        2014            114.0   \n",
       "4                   Jurassic World        2015            124.0   \n",
       "\n",
       "                    genres  average_rating  num_votes  \\\n",
       "0       Action,Crime,Drama             7.1      15378   \n",
       "1  Adventure,Drama,Romance             6.1      37886   \n",
       "2   Adventure,Comedy,Drama             7.3     275300   \n",
       "3       Action,Crime,Drama             6.5     105116   \n",
       "4  Action,Adventure,Sci-Fi             7.0     539338   \n",
       "\n",
       "                             title   studio  domestic_gross  year  \n",
       "0                            Wazir  Relbig.       1100000.0  2016  \n",
       "1                      On the Road      IFC        744000.0  2012  \n",
       "2  The Secret Life of Walter Mitty      Fox      58200000.0  2013  \n",
       "3      A Walk Among the Tombstones     Uni.      26300000.0  2014  \n",
       "4                   Jurassic World     Uni.     652300000.0  2015  "
      ]
     },
     "execution_count": 78,
     "metadata": {},
     "output_type": "execute_result"
    }
   ],
   "source": [
    "fourth_quartile_movie_basics_ratings_and_gross_df_filtered.head()"
   ]
  },
  {
   "cell_type": "markdown",
   "metadata": {},
   "source": [
    "Sort the fourth_quartile_movie_basics_ratings_and_gross_df_filtered data frame by domestic_gross,<br>in order to observe which movies have grossed the most money domestically."
   ]
  },
  {
   "cell_type": "code",
   "execution_count": 79,
   "metadata": {
    "scrolled": false
   },
   "outputs": [
    {
     "data": {
      "text/html": [
       "<div>\n",
       "<style scoped>\n",
       "    .dataframe tbody tr th:only-of-type {\n",
       "        vertical-align: middle;\n",
       "    }\n",
       "\n",
       "    .dataframe tbody tr th {\n",
       "        vertical-align: top;\n",
       "    }\n",
       "\n",
       "    .dataframe thead th {\n",
       "        text-align: right;\n",
       "    }\n",
       "</style>\n",
       "<table border=\"1\" class=\"dataframe\">\n",
       "  <thead>\n",
       "    <tr style=\"text-align: right;\">\n",
       "      <th></th>\n",
       "      <th>movie_id</th>\n",
       "      <th>primary_title</th>\n",
       "      <th>original_title</th>\n",
       "      <th>start_year</th>\n",
       "      <th>runtime_minutes</th>\n",
       "      <th>genres</th>\n",
       "      <th>average_rating</th>\n",
       "      <th>num_votes</th>\n",
       "      <th>title</th>\n",
       "      <th>studio</th>\n",
       "      <th>domestic_gross</th>\n",
       "      <th>year</th>\n",
       "    </tr>\n",
       "  </thead>\n",
       "  <tbody>\n",
       "    <tr>\n",
       "      <th>965</th>\n",
       "      <td>tt1825683</td>\n",
       "      <td>Black Panther</td>\n",
       "      <td>Black Panther</td>\n",
       "      <td>2018</td>\n",
       "      <td>134.0</td>\n",
       "      <td>Action,Adventure,Sci-Fi</td>\n",
       "      <td>7.3</td>\n",
       "      <td>516148</td>\n",
       "      <td>Black Panther</td>\n",
       "      <td>BV</td>\n",
       "      <td>700100000.0</td>\n",
       "      <td>2018</td>\n",
       "    </tr>\n",
       "    <tr>\n",
       "      <th>1993</th>\n",
       "      <td>tt4154756</td>\n",
       "      <td>Avengers: Infinity War</td>\n",
       "      <td>Avengers: Infinity War</td>\n",
       "      <td>2018</td>\n",
       "      <td>149.0</td>\n",
       "      <td>Action,Adventure,Sci-Fi</td>\n",
       "      <td>8.5</td>\n",
       "      <td>670926</td>\n",
       "      <td>Avengers: Infinity War</td>\n",
       "      <td>BV</td>\n",
       "      <td>678800000.0</td>\n",
       "      <td>2018</td>\n",
       "    </tr>\n",
       "    <tr>\n",
       "      <th>4</th>\n",
       "      <td>tt0369610</td>\n",
       "      <td>Jurassic World</td>\n",
       "      <td>Jurassic World</td>\n",
       "      <td>2015</td>\n",
       "      <td>124.0</td>\n",
       "      <td>Action,Adventure,Sci-Fi</td>\n",
       "      <td>7.0</td>\n",
       "      <td>539338</td>\n",
       "      <td>Jurassic World</td>\n",
       "      <td>Uni.</td>\n",
       "      <td>652300000.0</td>\n",
       "      <td>2015</td>\n",
       "    </tr>\n",
       "    <tr>\n",
       "      <th>1503</th>\n",
       "      <td>tt2527336</td>\n",
       "      <td>Star Wars: The Last Jedi</td>\n",
       "      <td>Star Wars: Episode VIII - The Last Jedi</td>\n",
       "      <td>2017</td>\n",
       "      <td>152.0</td>\n",
       "      <td>Action,Adventure,Fantasy</td>\n",
       "      <td>7.1</td>\n",
       "      <td>462903</td>\n",
       "      <td>Star Wars: The Last Jedi</td>\n",
       "      <td>BV</td>\n",
       "      <td>620200000.0</td>\n",
       "      <td>2017</td>\n",
       "    </tr>\n",
       "    <tr>\n",
       "      <th>1838</th>\n",
       "      <td>tt3606756</td>\n",
       "      <td>Incredibles 2</td>\n",
       "      <td>Incredibles 2</td>\n",
       "      <td>2018</td>\n",
       "      <td>118.0</td>\n",
       "      <td>Action,Adventure,Animation</td>\n",
       "      <td>7.7</td>\n",
       "      <td>203510</td>\n",
       "      <td>Incredibles 2</td>\n",
       "      <td>BV</td>\n",
       "      <td>608600000.0</td>\n",
       "      <td>2018</td>\n",
       "    </tr>\n",
       "  </tbody>\n",
       "</table>\n",
       "</div>"
      ],
      "text/plain": [
       "       movie_id             primary_title  \\\n",
       "965   tt1825683             Black Panther   \n",
       "1993  tt4154756    Avengers: Infinity War   \n",
       "4     tt0369610            Jurassic World   \n",
       "1503  tt2527336  Star Wars: The Last Jedi   \n",
       "1838  tt3606756             Incredibles 2   \n",
       "\n",
       "                               original_title  start_year  runtime_minutes  \\\n",
       "965                             Black Panther        2018            134.0   \n",
       "1993                   Avengers: Infinity War        2018            149.0   \n",
       "4                              Jurassic World        2015            124.0   \n",
       "1503  Star Wars: Episode VIII - The Last Jedi        2017            152.0   \n",
       "1838                            Incredibles 2        2018            118.0   \n",
       "\n",
       "                          genres  average_rating  num_votes  \\\n",
       "965      Action,Adventure,Sci-Fi             7.3     516148   \n",
       "1993     Action,Adventure,Sci-Fi             8.5     670926   \n",
       "4        Action,Adventure,Sci-Fi             7.0     539338   \n",
       "1503    Action,Adventure,Fantasy             7.1     462903   \n",
       "1838  Action,Adventure,Animation             7.7     203510   \n",
       "\n",
       "                         title studio  domestic_gross  year  \n",
       "965              Black Panther     BV     700100000.0  2018  \n",
       "1993    Avengers: Infinity War     BV     678800000.0  2018  \n",
       "4               Jurassic World   Uni.     652300000.0  2015  \n",
       "1503  Star Wars: The Last Jedi     BV     620200000.0  2017  \n",
       "1838             Incredibles 2     BV     608600000.0  2018  "
      ]
     },
     "execution_count": 79,
     "metadata": {},
     "output_type": "execute_result"
    }
   ],
   "source": [
    "fourth_quartile_movie_basics_ratings_and_gross_df_filtered.sort_values(by='domestic_gross', ascending=False).head()"
   ]
  },
  {
   "cell_type": "markdown",
   "metadata": {},
   "source": [
    "Explore the fourth_quartile_movie_basics_ratings_and_gross_df_filtered again."
   ]
  },
  {
   "cell_type": "code",
   "execution_count": 80,
   "metadata": {},
   "outputs": [
    {
     "name": "stdout",
     "output_type": "stream",
     "text": [
      "<class 'pandas.core.frame.DataFrame'>\n",
      "Int64Index: 2452 entries, 0 to 2451\n",
      "Data columns (total 12 columns):\n",
      " #   Column           Non-Null Count  Dtype  \n",
      "---  ------           --------------  -----  \n",
      " 0   movie_id         2452 non-null   object \n",
      " 1   primary_title    2452 non-null   object \n",
      " 2   original_title   2452 non-null   object \n",
      " 3   start_year       2452 non-null   int64  \n",
      " 4   runtime_minutes  2452 non-null   float64\n",
      " 5   genres           2452 non-null   object \n",
      " 6   average_rating   2452 non-null   float64\n",
      " 7   num_votes        2452 non-null   int64  \n",
      " 8   title            2452 non-null   object \n",
      " 9   studio           2450 non-null   object \n",
      " 10  domestic_gross   2435 non-null   float64\n",
      " 11  year             2452 non-null   int64  \n",
      "dtypes: float64(3), int64(3), object(6)\n",
      "memory usage: 249.0+ KB\n"
     ]
    }
   ],
   "source": [
    "fourth_quartile_movie_basics_ratings_and_gross_df_filtered.info()"
   ]
  },
  {
   "cell_type": "code",
   "execution_count": 81,
   "metadata": {},
   "outputs": [
    {
     "data": {
      "text/html": [
       "<div>\n",
       "<style scoped>\n",
       "    .dataframe tbody tr th:only-of-type {\n",
       "        vertical-align: middle;\n",
       "    }\n",
       "\n",
       "    .dataframe tbody tr th {\n",
       "        vertical-align: top;\n",
       "    }\n",
       "\n",
       "    .dataframe thead th {\n",
       "        text-align: right;\n",
       "    }\n",
       "</style>\n",
       "<table border=\"1\" class=\"dataframe\">\n",
       "  <thead>\n",
       "    <tr style=\"text-align: right;\">\n",
       "      <th></th>\n",
       "      <th>start_year</th>\n",
       "      <th>runtime_minutes</th>\n",
       "      <th>average_rating</th>\n",
       "      <th>num_votes</th>\n",
       "      <th>domestic_gross</th>\n",
       "      <th>year</th>\n",
       "    </tr>\n",
       "  </thead>\n",
       "  <tbody>\n",
       "    <tr>\n",
       "      <th>count</th>\n",
       "      <td>2452.000000</td>\n",
       "      <td>2452.000000</td>\n",
       "      <td>2452.000000</td>\n",
       "      <td>2.452000e+03</td>\n",
       "      <td>2.435000e+03</td>\n",
       "      <td>2452.000000</td>\n",
       "    </tr>\n",
       "    <tr>\n",
       "      <th>mean</th>\n",
       "      <td>2013.723899</td>\n",
       "      <td>109.348287</td>\n",
       "      <td>6.505465</td>\n",
       "      <td>7.403571e+04</td>\n",
       "      <td>3.194805e+07</td>\n",
       "      <td>2014.043230</td>\n",
       "    </tr>\n",
       "    <tr>\n",
       "      <th>std</th>\n",
       "      <td>2.429594</td>\n",
       "      <td>18.856028</td>\n",
       "      <td>0.924429</td>\n",
       "      <td>1.351228e+05</td>\n",
       "      <td>6.866268e+07</td>\n",
       "      <td>2.404726</td>\n",
       "    </tr>\n",
       "    <tr>\n",
       "      <th>min</th>\n",
       "      <td>2010.000000</td>\n",
       "      <td>41.000000</td>\n",
       "      <td>1.600000</td>\n",
       "      <td>2.830000e+02</td>\n",
       "      <td>1.000000e+02</td>\n",
       "      <td>2010.000000</td>\n",
       "    </tr>\n",
       "    <tr>\n",
       "      <th>25%</th>\n",
       "      <td>2012.000000</td>\n",
       "      <td>96.000000</td>\n",
       "      <td>6.000000</td>\n",
       "      <td>5.492750e+03</td>\n",
       "      <td>1.525000e+05</td>\n",
       "      <td>2012.000000</td>\n",
       "    </tr>\n",
       "    <tr>\n",
       "      <th>50%</th>\n",
       "      <td>2014.000000</td>\n",
       "      <td>106.000000</td>\n",
       "      <td>6.600000</td>\n",
       "      <td>2.170950e+04</td>\n",
       "      <td>2.300000e+06</td>\n",
       "      <td>2014.000000</td>\n",
       "    </tr>\n",
       "    <tr>\n",
       "      <th>75%</th>\n",
       "      <td>2016.000000</td>\n",
       "      <td>120.000000</td>\n",
       "      <td>7.200000</td>\n",
       "      <td>8.122650e+04</td>\n",
       "      <td>3.420000e+07</td>\n",
       "      <td>2016.000000</td>\n",
       "    </tr>\n",
       "    <tr>\n",
       "      <th>max</th>\n",
       "      <td>2018.000000</td>\n",
       "      <td>272.000000</td>\n",
       "      <td>8.800000</td>\n",
       "      <td>1.841066e+06</td>\n",
       "      <td>7.001000e+08</td>\n",
       "      <td>2018.000000</td>\n",
       "    </tr>\n",
       "  </tbody>\n",
       "</table>\n",
       "</div>"
      ],
      "text/plain": [
       "        start_year  runtime_minutes  average_rating     num_votes  \\\n",
       "count  2452.000000      2452.000000     2452.000000  2.452000e+03   \n",
       "mean   2013.723899       109.348287        6.505465  7.403571e+04   \n",
       "std       2.429594        18.856028        0.924429  1.351228e+05   \n",
       "min    2010.000000        41.000000        1.600000  2.830000e+02   \n",
       "25%    2012.000000        96.000000        6.000000  5.492750e+03   \n",
       "50%    2014.000000       106.000000        6.600000  2.170950e+04   \n",
       "75%    2016.000000       120.000000        7.200000  8.122650e+04   \n",
       "max    2018.000000       272.000000        8.800000  1.841066e+06   \n",
       "\n",
       "       domestic_gross         year  \n",
       "count    2.435000e+03  2452.000000  \n",
       "mean     3.194805e+07  2014.043230  \n",
       "std      6.866268e+07     2.404726  \n",
       "min      1.000000e+02  2010.000000  \n",
       "25%      1.525000e+05  2012.000000  \n",
       "50%      2.300000e+06  2014.000000  \n",
       "75%      3.420000e+07  2016.000000  \n",
       "max      7.001000e+08  2018.000000  "
      ]
     },
     "execution_count": 81,
     "metadata": {},
     "output_type": "execute_result"
    }
   ],
   "source": [
    "fourth_quartile_movie_basics_ratings_and_gross_df_filtered.describe()"
   ]
  },
  {
   "cell_type": "markdown",
   "metadata": {},
   "source": [
    "The data frame info demonstrates that there are 2 non-null values for studio.<br>With a total null value percentage of approximately 0.00081%,<br>it is safe to simply say that we don't know what this value should be,<br>and replace the null with a string - 'Unknown' - demonstrating this."
   ]
  },
  {
   "cell_type": "code",
   "execution_count": 82,
   "metadata": {},
   "outputs": [],
   "source": [
    "fourth_quartile_movie_basics_ratings_and_gross_df_filtered['studio'].fillna('Unknown', inplace=True)"
   ]
  },
  {
   "cell_type": "markdown",
   "metadata": {},
   "source": [
    "Explore the fourth_quartile_movie_basics_ratings_and_gross_df_filtered again."
   ]
  },
  {
   "cell_type": "code",
   "execution_count": 83,
   "metadata": {},
   "outputs": [
    {
     "name": "stdout",
     "output_type": "stream",
     "text": [
      "<class 'pandas.core.frame.DataFrame'>\n",
      "Int64Index: 2452 entries, 0 to 2451\n",
      "Data columns (total 12 columns):\n",
      " #   Column           Non-Null Count  Dtype  \n",
      "---  ------           --------------  -----  \n",
      " 0   movie_id         2452 non-null   object \n",
      " 1   primary_title    2452 non-null   object \n",
      " 2   original_title   2452 non-null   object \n",
      " 3   start_year       2452 non-null   int64  \n",
      " 4   runtime_minutes  2452 non-null   float64\n",
      " 5   genres           2452 non-null   object \n",
      " 6   average_rating   2452 non-null   float64\n",
      " 7   num_votes        2452 non-null   int64  \n",
      " 8   title            2452 non-null   object \n",
      " 9   studio           2452 non-null   object \n",
      " 10  domestic_gross   2435 non-null   float64\n",
      " 11  year             2452 non-null   int64  \n",
      "dtypes: float64(3), int64(3), object(6)\n",
      "memory usage: 249.0+ KB\n"
     ]
    }
   ],
   "source": [
    "fourth_quartile_movie_basics_ratings_and_gross_df_filtered.info()"
   ]
  },
  {
   "cell_type": "code",
   "execution_count": 84,
   "metadata": {},
   "outputs": [
    {
     "data": {
      "text/html": [
       "<div>\n",
       "<style scoped>\n",
       "    .dataframe tbody tr th:only-of-type {\n",
       "        vertical-align: middle;\n",
       "    }\n",
       "\n",
       "    .dataframe tbody tr th {\n",
       "        vertical-align: top;\n",
       "    }\n",
       "\n",
       "    .dataframe thead th {\n",
       "        text-align: right;\n",
       "    }\n",
       "</style>\n",
       "<table border=\"1\" class=\"dataframe\">\n",
       "  <thead>\n",
       "    <tr style=\"text-align: right;\">\n",
       "      <th></th>\n",
       "      <th>start_year</th>\n",
       "      <th>runtime_minutes</th>\n",
       "      <th>average_rating</th>\n",
       "      <th>num_votes</th>\n",
       "      <th>domestic_gross</th>\n",
       "      <th>year</th>\n",
       "    </tr>\n",
       "  </thead>\n",
       "  <tbody>\n",
       "    <tr>\n",
       "      <th>count</th>\n",
       "      <td>2452.000000</td>\n",
       "      <td>2452.000000</td>\n",
       "      <td>2452.000000</td>\n",
       "      <td>2.452000e+03</td>\n",
       "      <td>2.435000e+03</td>\n",
       "      <td>2452.000000</td>\n",
       "    </tr>\n",
       "    <tr>\n",
       "      <th>mean</th>\n",
       "      <td>2013.723899</td>\n",
       "      <td>109.348287</td>\n",
       "      <td>6.505465</td>\n",
       "      <td>7.403571e+04</td>\n",
       "      <td>3.194805e+07</td>\n",
       "      <td>2014.043230</td>\n",
       "    </tr>\n",
       "    <tr>\n",
       "      <th>std</th>\n",
       "      <td>2.429594</td>\n",
       "      <td>18.856028</td>\n",
       "      <td>0.924429</td>\n",
       "      <td>1.351228e+05</td>\n",
       "      <td>6.866268e+07</td>\n",
       "      <td>2.404726</td>\n",
       "    </tr>\n",
       "    <tr>\n",
       "      <th>min</th>\n",
       "      <td>2010.000000</td>\n",
       "      <td>41.000000</td>\n",
       "      <td>1.600000</td>\n",
       "      <td>2.830000e+02</td>\n",
       "      <td>1.000000e+02</td>\n",
       "      <td>2010.000000</td>\n",
       "    </tr>\n",
       "    <tr>\n",
       "      <th>25%</th>\n",
       "      <td>2012.000000</td>\n",
       "      <td>96.000000</td>\n",
       "      <td>6.000000</td>\n",
       "      <td>5.492750e+03</td>\n",
       "      <td>1.525000e+05</td>\n",
       "      <td>2012.000000</td>\n",
       "    </tr>\n",
       "    <tr>\n",
       "      <th>50%</th>\n",
       "      <td>2014.000000</td>\n",
       "      <td>106.000000</td>\n",
       "      <td>6.600000</td>\n",
       "      <td>2.170950e+04</td>\n",
       "      <td>2.300000e+06</td>\n",
       "      <td>2014.000000</td>\n",
       "    </tr>\n",
       "    <tr>\n",
       "      <th>75%</th>\n",
       "      <td>2016.000000</td>\n",
       "      <td>120.000000</td>\n",
       "      <td>7.200000</td>\n",
       "      <td>8.122650e+04</td>\n",
       "      <td>3.420000e+07</td>\n",
       "      <td>2016.000000</td>\n",
       "    </tr>\n",
       "    <tr>\n",
       "      <th>max</th>\n",
       "      <td>2018.000000</td>\n",
       "      <td>272.000000</td>\n",
       "      <td>8.800000</td>\n",
       "      <td>1.841066e+06</td>\n",
       "      <td>7.001000e+08</td>\n",
       "      <td>2018.000000</td>\n",
       "    </tr>\n",
       "  </tbody>\n",
       "</table>\n",
       "</div>"
      ],
      "text/plain": [
       "        start_year  runtime_minutes  average_rating     num_votes  \\\n",
       "count  2452.000000      2452.000000     2452.000000  2.452000e+03   \n",
       "mean   2013.723899       109.348287        6.505465  7.403571e+04   \n",
       "std       2.429594        18.856028        0.924429  1.351228e+05   \n",
       "min    2010.000000        41.000000        1.600000  2.830000e+02   \n",
       "25%    2012.000000        96.000000        6.000000  5.492750e+03   \n",
       "50%    2014.000000       106.000000        6.600000  2.170950e+04   \n",
       "75%    2016.000000       120.000000        7.200000  8.122650e+04   \n",
       "max    2018.000000       272.000000        8.800000  1.841066e+06   \n",
       "\n",
       "       domestic_gross         year  \n",
       "count    2.435000e+03  2452.000000  \n",
       "mean     3.194805e+07  2014.043230  \n",
       "std      6.866268e+07     2.404726  \n",
       "min      1.000000e+02  2010.000000  \n",
       "25%      1.525000e+05  2012.000000  \n",
       "50%      2.300000e+06  2014.000000  \n",
       "75%      3.420000e+07  2016.000000  \n",
       "max      7.001000e+08  2018.000000  "
      ]
     },
     "execution_count": 84,
     "metadata": {},
     "output_type": "execute_result"
    }
   ],
   "source": [
    "fourth_quartile_movie_basics_ratings_and_gross_df_filtered.describe()"
   ]
  },
  {
   "cell_type": "markdown",
   "metadata": {},
   "source": [
    "The data frame info demonstrates that there are 17 null values for domestic_gross.<br>With a total null value percentage of approximately 0.69331%,<br>it is acceptable to exclude these entries from domestic_gross consideration,<br>as inserting a substitute value for them will affect the statistical measures of the data."
   ]
  },
  {
   "cell_type": "code",
   "execution_count": 85,
   "metadata": {},
   "outputs": [],
   "source": [
    "fourth_quartile_movie_basics_ratings_and_gross_df_twice_filtered = (\n",
    "    fourth_quartile_movie_basics_ratings_and_gross_df_filtered.dropna(subset=['domestic_gross'])\n",
    ")"
   ]
  },
  {
   "cell_type": "markdown",
   "metadata": {},
   "source": [
    "Explore the fourth_quartile_movie_basics_ratings_and_gross_df_filtered again."
   ]
  },
  {
   "cell_type": "code",
   "execution_count": 86,
   "metadata": {
    "scrolled": true
   },
   "outputs": [
    {
     "name": "stdout",
     "output_type": "stream",
     "text": [
      "<class 'pandas.core.frame.DataFrame'>\n",
      "Int64Index: 2435 entries, 0 to 2451\n",
      "Data columns (total 12 columns):\n",
      " #   Column           Non-Null Count  Dtype  \n",
      "---  ------           --------------  -----  \n",
      " 0   movie_id         2435 non-null   object \n",
      " 1   primary_title    2435 non-null   object \n",
      " 2   original_title   2435 non-null   object \n",
      " 3   start_year       2435 non-null   int64  \n",
      " 4   runtime_minutes  2435 non-null   float64\n",
      " 5   genres           2435 non-null   object \n",
      " 6   average_rating   2435 non-null   float64\n",
      " 7   num_votes        2435 non-null   int64  \n",
      " 8   title            2435 non-null   object \n",
      " 9   studio           2435 non-null   object \n",
      " 10  domestic_gross   2435 non-null   float64\n",
      " 11  year             2435 non-null   int64  \n",
      "dtypes: float64(3), int64(3), object(6)\n",
      "memory usage: 247.3+ KB\n"
     ]
    }
   ],
   "source": [
    "fourth_quartile_movie_basics_ratings_and_gross_df_twice_filtered.info()"
   ]
  },
  {
   "cell_type": "code",
   "execution_count": 87,
   "metadata": {},
   "outputs": [
    {
     "data": {
      "text/html": [
       "<div>\n",
       "<style scoped>\n",
       "    .dataframe tbody tr th:only-of-type {\n",
       "        vertical-align: middle;\n",
       "    }\n",
       "\n",
       "    .dataframe tbody tr th {\n",
       "        vertical-align: top;\n",
       "    }\n",
       "\n",
       "    .dataframe thead th {\n",
       "        text-align: right;\n",
       "    }\n",
       "</style>\n",
       "<table border=\"1\" class=\"dataframe\">\n",
       "  <thead>\n",
       "    <tr style=\"text-align: right;\">\n",
       "      <th></th>\n",
       "      <th>start_year</th>\n",
       "      <th>runtime_minutes</th>\n",
       "      <th>average_rating</th>\n",
       "      <th>num_votes</th>\n",
       "      <th>domestic_gross</th>\n",
       "      <th>year</th>\n",
       "    </tr>\n",
       "  </thead>\n",
       "  <tbody>\n",
       "    <tr>\n",
       "      <th>count</th>\n",
       "      <td>2435.000000</td>\n",
       "      <td>2435.000000</td>\n",
       "      <td>2435.000000</td>\n",
       "      <td>2.435000e+03</td>\n",
       "      <td>2.435000e+03</td>\n",
       "      <td>2435.000000</td>\n",
       "    </tr>\n",
       "    <tr>\n",
       "      <th>mean</th>\n",
       "      <td>2013.736345</td>\n",
       "      <td>109.382752</td>\n",
       "      <td>6.507844</td>\n",
       "      <td>7.446007e+04</td>\n",
       "      <td>3.194805e+07</td>\n",
       "      <td>2014.051335</td>\n",
       "    </tr>\n",
       "    <tr>\n",
       "      <th>std</th>\n",
       "      <td>2.426295</td>\n",
       "      <td>18.854427</td>\n",
       "      <td>0.921018</td>\n",
       "      <td>1.354926e+05</td>\n",
       "      <td>6.866268e+07</td>\n",
       "      <td>2.405023</td>\n",
       "    </tr>\n",
       "    <tr>\n",
       "      <th>min</th>\n",
       "      <td>2010.000000</td>\n",
       "      <td>41.000000</td>\n",
       "      <td>1.600000</td>\n",
       "      <td>2.830000e+02</td>\n",
       "      <td>1.000000e+02</td>\n",
       "      <td>2010.000000</td>\n",
       "    </tr>\n",
       "    <tr>\n",
       "      <th>25%</th>\n",
       "      <td>2012.000000</td>\n",
       "      <td>96.000000</td>\n",
       "      <td>6.000000</td>\n",
       "      <td>5.533500e+03</td>\n",
       "      <td>1.525000e+05</td>\n",
       "      <td>2012.000000</td>\n",
       "    </tr>\n",
       "    <tr>\n",
       "      <th>50%</th>\n",
       "      <td>2014.000000</td>\n",
       "      <td>106.000000</td>\n",
       "      <td>6.600000</td>\n",
       "      <td>2.190300e+04</td>\n",
       "      <td>2.300000e+06</td>\n",
       "      <td>2014.000000</td>\n",
       "    </tr>\n",
       "    <tr>\n",
       "      <th>75%</th>\n",
       "      <td>2016.000000</td>\n",
       "      <td>120.000000</td>\n",
       "      <td>7.200000</td>\n",
       "      <td>8.169350e+04</td>\n",
       "      <td>3.420000e+07</td>\n",
       "      <td>2016.000000</td>\n",
       "    </tr>\n",
       "    <tr>\n",
       "      <th>max</th>\n",
       "      <td>2018.000000</td>\n",
       "      <td>272.000000</td>\n",
       "      <td>8.800000</td>\n",
       "      <td>1.841066e+06</td>\n",
       "      <td>7.001000e+08</td>\n",
       "      <td>2018.000000</td>\n",
       "    </tr>\n",
       "  </tbody>\n",
       "</table>\n",
       "</div>"
      ],
      "text/plain": [
       "        start_year  runtime_minutes  average_rating     num_votes  \\\n",
       "count  2435.000000      2435.000000     2435.000000  2.435000e+03   \n",
       "mean   2013.736345       109.382752        6.507844  7.446007e+04   \n",
       "std       2.426295        18.854427        0.921018  1.354926e+05   \n",
       "min    2010.000000        41.000000        1.600000  2.830000e+02   \n",
       "25%    2012.000000        96.000000        6.000000  5.533500e+03   \n",
       "50%    2014.000000       106.000000        6.600000  2.190300e+04   \n",
       "75%    2016.000000       120.000000        7.200000  8.169350e+04   \n",
       "max    2018.000000       272.000000        8.800000  1.841066e+06   \n",
       "\n",
       "       domestic_gross         year  \n",
       "count    2.435000e+03  2435.000000  \n",
       "mean     3.194805e+07  2014.051335  \n",
       "std      6.866268e+07     2.405023  \n",
       "min      1.000000e+02  2010.000000  \n",
       "25%      1.525000e+05  2012.000000  \n",
       "50%      2.300000e+06  2014.000000  \n",
       "75%      3.420000e+07  2016.000000  \n",
       "max      7.001000e+08  2018.000000  "
      ]
     },
     "execution_count": 87,
     "metadata": {},
     "output_type": "execute_result"
    }
   ],
   "source": [
    "fourth_quartile_movie_basics_ratings_and_gross_df_twice_filtered.describe()"
   ]
  },
  {
   "cell_type": "markdown",
   "metadata": {},
   "source": [
    "The data frame info demonstrates that there are now 2435 entries with no null values.<br>To explore the relationship between domestic_gross and budget, another file is needed."
   ]
  },
  {
   "cell_type": "markdown",
   "metadata": {},
   "source": [
    "Instantiate a variable to create a pandas data frame on the movie_budgets CSV."
   ]
  },
  {
   "cell_type": "code",
   "execution_count": 88,
   "metadata": {},
   "outputs": [],
   "source": [
    "movie_budgets_df = pd.read_csv('./zippedData/tn.movie_budgets.csv.gz')"
   ]
  },
  {
   "cell_type": "markdown",
   "metadata": {},
   "source": [
    "Render the head of the movie_budgets_df data frame."
   ]
  },
  {
   "cell_type": "code",
   "execution_count": 89,
   "metadata": {},
   "outputs": [
    {
     "data": {
      "text/html": [
       "<div>\n",
       "<style scoped>\n",
       "    .dataframe tbody tr th:only-of-type {\n",
       "        vertical-align: middle;\n",
       "    }\n",
       "\n",
       "    .dataframe tbody tr th {\n",
       "        vertical-align: top;\n",
       "    }\n",
       "\n",
       "    .dataframe thead th {\n",
       "        text-align: right;\n",
       "    }\n",
       "</style>\n",
       "<table border=\"1\" class=\"dataframe\">\n",
       "  <thead>\n",
       "    <tr style=\"text-align: right;\">\n",
       "      <th></th>\n",
       "      <th>id</th>\n",
       "      <th>release_date</th>\n",
       "      <th>movie</th>\n",
       "      <th>production_budget</th>\n",
       "      <th>domestic_gross</th>\n",
       "      <th>worldwide_gross</th>\n",
       "    </tr>\n",
       "  </thead>\n",
       "  <tbody>\n",
       "    <tr>\n",
       "      <th>0</th>\n",
       "      <td>1</td>\n",
       "      <td>Dec 18, 2009</td>\n",
       "      <td>Avatar</td>\n",
       "      <td>$425,000,000</td>\n",
       "      <td>$760,507,625</td>\n",
       "      <td>$2,776,345,279</td>\n",
       "    </tr>\n",
       "    <tr>\n",
       "      <th>1</th>\n",
       "      <td>2</td>\n",
       "      <td>May 20, 2011</td>\n",
       "      <td>Pirates of the Caribbean: On Stranger Tides</td>\n",
       "      <td>$410,600,000</td>\n",
       "      <td>$241,063,875</td>\n",
       "      <td>$1,045,663,875</td>\n",
       "    </tr>\n",
       "    <tr>\n",
       "      <th>2</th>\n",
       "      <td>3</td>\n",
       "      <td>Jun 7, 2019</td>\n",
       "      <td>Dark Phoenix</td>\n",
       "      <td>$350,000,000</td>\n",
       "      <td>$42,762,350</td>\n",
       "      <td>$149,762,350</td>\n",
       "    </tr>\n",
       "    <tr>\n",
       "      <th>3</th>\n",
       "      <td>4</td>\n",
       "      <td>May 1, 2015</td>\n",
       "      <td>Avengers: Age of Ultron</td>\n",
       "      <td>$330,600,000</td>\n",
       "      <td>$459,005,868</td>\n",
       "      <td>$1,403,013,963</td>\n",
       "    </tr>\n",
       "    <tr>\n",
       "      <th>4</th>\n",
       "      <td>5</td>\n",
       "      <td>Dec 15, 2017</td>\n",
       "      <td>Star Wars Ep. VIII: The Last Jedi</td>\n",
       "      <td>$317,000,000</td>\n",
       "      <td>$620,181,382</td>\n",
       "      <td>$1,316,721,747</td>\n",
       "    </tr>\n",
       "  </tbody>\n",
       "</table>\n",
       "</div>"
      ],
      "text/plain": [
       "   id  release_date                                        movie  \\\n",
       "0   1  Dec 18, 2009                                       Avatar   \n",
       "1   2  May 20, 2011  Pirates of the Caribbean: On Stranger Tides   \n",
       "2   3   Jun 7, 2019                                 Dark Phoenix   \n",
       "3   4   May 1, 2015                      Avengers: Age of Ultron   \n",
       "4   5  Dec 15, 2017            Star Wars Ep. VIII: The Last Jedi   \n",
       "\n",
       "  production_budget domestic_gross worldwide_gross  \n",
       "0      $425,000,000   $760,507,625  $2,776,345,279  \n",
       "1      $410,600,000   $241,063,875  $1,045,663,875  \n",
       "2      $350,000,000    $42,762,350    $149,762,350  \n",
       "3      $330,600,000   $459,005,868  $1,403,013,963  \n",
       "4      $317,000,000   $620,181,382  $1,316,721,747  "
      ]
     },
     "execution_count": 89,
     "metadata": {},
     "output_type": "execute_result"
    }
   ],
   "source": [
    "movie_budgets_df.head()"
   ]
  },
  {
   "cell_type": "markdown",
   "metadata": {},
   "source": [
    "Explore the movie_budgets_df data frame."
   ]
  },
  {
   "cell_type": "code",
   "execution_count": 90,
   "metadata": {},
   "outputs": [
    {
     "name": "stdout",
     "output_type": "stream",
     "text": [
      "<class 'pandas.core.frame.DataFrame'>\n",
      "RangeIndex: 5782 entries, 0 to 5781\n",
      "Data columns (total 6 columns):\n",
      " #   Column             Non-Null Count  Dtype \n",
      "---  ------             --------------  ----- \n",
      " 0   id                 5782 non-null   int64 \n",
      " 1   release_date       5782 non-null   object\n",
      " 2   movie              5782 non-null   object\n",
      " 3   production_budget  5782 non-null   object\n",
      " 4   domestic_gross     5782 non-null   object\n",
      " 5   worldwide_gross    5782 non-null   object\n",
      "dtypes: int64(1), object(5)\n",
      "memory usage: 271.2+ KB\n"
     ]
    }
   ],
   "source": [
    "movie_budgets_df.info()"
   ]
  },
  {
   "cell_type": "code",
   "execution_count": 91,
   "metadata": {},
   "outputs": [
    {
     "data": {
      "text/html": [
       "<div>\n",
       "<style scoped>\n",
       "    .dataframe tbody tr th:only-of-type {\n",
       "        vertical-align: middle;\n",
       "    }\n",
       "\n",
       "    .dataframe tbody tr th {\n",
       "        vertical-align: top;\n",
       "    }\n",
       "\n",
       "    .dataframe thead th {\n",
       "        text-align: right;\n",
       "    }\n",
       "</style>\n",
       "<table border=\"1\" class=\"dataframe\">\n",
       "  <thead>\n",
       "    <tr style=\"text-align: right;\">\n",
       "      <th></th>\n",
       "      <th>id</th>\n",
       "    </tr>\n",
       "  </thead>\n",
       "  <tbody>\n",
       "    <tr>\n",
       "      <th>count</th>\n",
       "      <td>5782.000000</td>\n",
       "    </tr>\n",
       "    <tr>\n",
       "      <th>mean</th>\n",
       "      <td>50.372363</td>\n",
       "    </tr>\n",
       "    <tr>\n",
       "      <th>std</th>\n",
       "      <td>28.821076</td>\n",
       "    </tr>\n",
       "    <tr>\n",
       "      <th>min</th>\n",
       "      <td>1.000000</td>\n",
       "    </tr>\n",
       "    <tr>\n",
       "      <th>25%</th>\n",
       "      <td>25.000000</td>\n",
       "    </tr>\n",
       "    <tr>\n",
       "      <th>50%</th>\n",
       "      <td>50.000000</td>\n",
       "    </tr>\n",
       "    <tr>\n",
       "      <th>75%</th>\n",
       "      <td>75.000000</td>\n",
       "    </tr>\n",
       "    <tr>\n",
       "      <th>max</th>\n",
       "      <td>100.000000</td>\n",
       "    </tr>\n",
       "  </tbody>\n",
       "</table>\n",
       "</div>"
      ],
      "text/plain": [
       "                id\n",
       "count  5782.000000\n",
       "mean     50.372363\n",
       "std      28.821076\n",
       "min       1.000000\n",
       "25%      25.000000\n",
       "50%      50.000000\n",
       "75%      75.000000\n",
       "max     100.000000"
      ]
     },
     "execution_count": 91,
     "metadata": {},
     "output_type": "execute_result"
    }
   ],
   "source": [
    "movie_budgets_df.describe()"
   ]
  },
  {
   "cell_type": "markdown",
   "metadata": {},
   "source": [
    "Confirm the data type of movie_budgets_df."
   ]
  },
  {
   "cell_type": "code",
   "execution_count": 92,
   "metadata": {},
   "outputs": [
    {
     "data": {
      "text/plain": [
       "pandas.core.frame.DataFrame"
      ]
     },
     "execution_count": 92,
     "metadata": {},
     "output_type": "execute_result"
    }
   ],
   "source": [
    "type(movie_budgets_df)"
   ]
  },
  {
   "cell_type": "markdown",
   "metadata": {},
   "source": [
    "This new data frame also has information concerning domestic_gross, as well as worldwide_gross,<br>so it will be both interesting to compare the information in this domestic_gross to the column that already exists<br>and necessary to decide which column to utilize for analysis."
   ]
  },
  {
   "cell_type": "markdown",
   "metadata": {},
   "source": [
    "Combine the current data frame with the new one."
   ]
  },
  {
   "cell_type": "code",
   "execution_count": 93,
   "metadata": {},
   "outputs": [],
   "source": [
    "final_df = pd.merge(\n",
    "    left=fourth_quartile_movie_basics_ratings_and_gross_df_twice_filtered,\n",
    "    right=movie_budgets_df,\n",
    "    left_on='primary_title',\n",
    "    right_on='movie')"
   ]
  },
  {
   "cell_type": "markdown",
   "metadata": {},
   "source": [
    "Render the head of the final_df data frame."
   ]
  },
  {
   "cell_type": "code",
   "execution_count": 94,
   "metadata": {},
   "outputs": [
    {
     "data": {
      "text/html": [
       "<div>\n",
       "<style scoped>\n",
       "    .dataframe tbody tr th:only-of-type {\n",
       "        vertical-align: middle;\n",
       "    }\n",
       "\n",
       "    .dataframe tbody tr th {\n",
       "        vertical-align: top;\n",
       "    }\n",
       "\n",
       "    .dataframe thead th {\n",
       "        text-align: right;\n",
       "    }\n",
       "</style>\n",
       "<table border=\"1\" class=\"dataframe\">\n",
       "  <thead>\n",
       "    <tr style=\"text-align: right;\">\n",
       "      <th></th>\n",
       "      <th>movie_id</th>\n",
       "      <th>primary_title</th>\n",
       "      <th>original_title</th>\n",
       "      <th>start_year</th>\n",
       "      <th>runtime_minutes</th>\n",
       "      <th>genres</th>\n",
       "      <th>average_rating</th>\n",
       "      <th>num_votes</th>\n",
       "      <th>title</th>\n",
       "      <th>studio</th>\n",
       "      <th>domestic_gross_x</th>\n",
       "      <th>year</th>\n",
       "      <th>id</th>\n",
       "      <th>release_date</th>\n",
       "      <th>movie</th>\n",
       "      <th>production_budget</th>\n",
       "      <th>domestic_gross_y</th>\n",
       "      <th>worldwide_gross</th>\n",
       "    </tr>\n",
       "  </thead>\n",
       "  <tbody>\n",
       "    <tr>\n",
       "      <th>0</th>\n",
       "      <td>tt0337692</td>\n",
       "      <td>On the Road</td>\n",
       "      <td>On the Road</td>\n",
       "      <td>2012</td>\n",
       "      <td>124.0</td>\n",
       "      <td>Adventure,Drama,Romance</td>\n",
       "      <td>6.1</td>\n",
       "      <td>37886</td>\n",
       "      <td>On the Road</td>\n",
       "      <td>IFC</td>\n",
       "      <td>744000.0</td>\n",
       "      <td>2012</td>\n",
       "      <td>17</td>\n",
       "      <td>Mar 22, 2013</td>\n",
       "      <td>On the Road</td>\n",
       "      <td>$25,000,000</td>\n",
       "      <td>$720,828</td>\n",
       "      <td>$9,313,302</td>\n",
       "    </tr>\n",
       "    <tr>\n",
       "      <th>1</th>\n",
       "      <td>tt0359950</td>\n",
       "      <td>The Secret Life of Walter Mitty</td>\n",
       "      <td>The Secret Life of Walter Mitty</td>\n",
       "      <td>2013</td>\n",
       "      <td>114.0</td>\n",
       "      <td>Adventure,Comedy,Drama</td>\n",
       "      <td>7.3</td>\n",
       "      <td>275300</td>\n",
       "      <td>The Secret Life of Walter Mitty</td>\n",
       "      <td>Fox</td>\n",
       "      <td>58200000.0</td>\n",
       "      <td>2013</td>\n",
       "      <td>37</td>\n",
       "      <td>Dec 25, 2013</td>\n",
       "      <td>The Secret Life of Walter Mitty</td>\n",
       "      <td>$91,000,000</td>\n",
       "      <td>$58,236,838</td>\n",
       "      <td>$187,861,183</td>\n",
       "    </tr>\n",
       "    <tr>\n",
       "      <th>2</th>\n",
       "      <td>tt0365907</td>\n",
       "      <td>A Walk Among the Tombstones</td>\n",
       "      <td>A Walk Among the Tombstones</td>\n",
       "      <td>2014</td>\n",
       "      <td>114.0</td>\n",
       "      <td>Action,Crime,Drama</td>\n",
       "      <td>6.5</td>\n",
       "      <td>105116</td>\n",
       "      <td>A Walk Among the Tombstones</td>\n",
       "      <td>Uni.</td>\n",
       "      <td>26300000.0</td>\n",
       "      <td>2014</td>\n",
       "      <td>67</td>\n",
       "      <td>Sep 19, 2014</td>\n",
       "      <td>A Walk Among the Tombstones</td>\n",
       "      <td>$28,000,000</td>\n",
       "      <td>$26,017,685</td>\n",
       "      <td>$62,108,587</td>\n",
       "    </tr>\n",
       "    <tr>\n",
       "      <th>3</th>\n",
       "      <td>tt0369610</td>\n",
       "      <td>Jurassic World</td>\n",
       "      <td>Jurassic World</td>\n",
       "      <td>2015</td>\n",
       "      <td>124.0</td>\n",
       "      <td>Action,Adventure,Sci-Fi</td>\n",
       "      <td>7.0</td>\n",
       "      <td>539338</td>\n",
       "      <td>Jurassic World</td>\n",
       "      <td>Uni.</td>\n",
       "      <td>652300000.0</td>\n",
       "      <td>2015</td>\n",
       "      <td>34</td>\n",
       "      <td>Jun 12, 2015</td>\n",
       "      <td>Jurassic World</td>\n",
       "      <td>$215,000,000</td>\n",
       "      <td>$652,270,625</td>\n",
       "      <td>$1,648,854,864</td>\n",
       "    </tr>\n",
       "    <tr>\n",
       "      <th>4</th>\n",
       "      <td>tt0376136</td>\n",
       "      <td>The Rum Diary</td>\n",
       "      <td>The Rum Diary</td>\n",
       "      <td>2011</td>\n",
       "      <td>119.0</td>\n",
       "      <td>Comedy,Drama</td>\n",
       "      <td>6.2</td>\n",
       "      <td>94787</td>\n",
       "      <td>The Rum Diary</td>\n",
       "      <td>FD</td>\n",
       "      <td>13100000.0</td>\n",
       "      <td>2011</td>\n",
       "      <td>16</td>\n",
       "      <td>Oct 28, 2011</td>\n",
       "      <td>The Rum Diary</td>\n",
       "      <td>$45,000,000</td>\n",
       "      <td>$13,109,815</td>\n",
       "      <td>$21,544,732</td>\n",
       "    </tr>\n",
       "  </tbody>\n",
       "</table>\n",
       "</div>"
      ],
      "text/plain": [
       "    movie_id                    primary_title  \\\n",
       "0  tt0337692                      On the Road   \n",
       "1  tt0359950  The Secret Life of Walter Mitty   \n",
       "2  tt0365907      A Walk Among the Tombstones   \n",
       "3  tt0369610                   Jurassic World   \n",
       "4  tt0376136                    The Rum Diary   \n",
       "\n",
       "                    original_title  start_year  runtime_minutes  \\\n",
       "0                      On the Road        2012            124.0   \n",
       "1  The Secret Life of Walter Mitty        2013            114.0   \n",
       "2      A Walk Among the Tombstones        2014            114.0   \n",
       "3                   Jurassic World        2015            124.0   \n",
       "4                    The Rum Diary        2011            119.0   \n",
       "\n",
       "                    genres  average_rating  num_votes  \\\n",
       "0  Adventure,Drama,Romance             6.1      37886   \n",
       "1   Adventure,Comedy,Drama             7.3     275300   \n",
       "2       Action,Crime,Drama             6.5     105116   \n",
       "3  Action,Adventure,Sci-Fi             7.0     539338   \n",
       "4             Comedy,Drama             6.2      94787   \n",
       "\n",
       "                             title studio  domestic_gross_x  year  id  \\\n",
       "0                      On the Road    IFC          744000.0  2012  17   \n",
       "1  The Secret Life of Walter Mitty    Fox        58200000.0  2013  37   \n",
       "2      A Walk Among the Tombstones   Uni.        26300000.0  2014  67   \n",
       "3                   Jurassic World   Uni.       652300000.0  2015  34   \n",
       "4                    The Rum Diary     FD        13100000.0  2011  16   \n",
       "\n",
       "   release_date                            movie production_budget  \\\n",
       "0  Mar 22, 2013                      On the Road       $25,000,000   \n",
       "1  Dec 25, 2013  The Secret Life of Walter Mitty       $91,000,000   \n",
       "2  Sep 19, 2014      A Walk Among the Tombstones       $28,000,000   \n",
       "3  Jun 12, 2015                   Jurassic World      $215,000,000   \n",
       "4  Oct 28, 2011                    The Rum Diary       $45,000,000   \n",
       "\n",
       "  domestic_gross_y worldwide_gross  \n",
       "0         $720,828      $9,313,302  \n",
       "1      $58,236,838    $187,861,183  \n",
       "2      $26,017,685     $62,108,587  \n",
       "3     $652,270,625  $1,648,854,864  \n",
       "4      $13,109,815     $21,544,732  "
      ]
     },
     "execution_count": 94,
     "metadata": {},
     "output_type": "execute_result"
    }
   ],
   "source": [
    "final_df.head()"
   ]
  },
  {
   "cell_type": "markdown",
   "metadata": {},
   "source": [
    "Explore the final_df data frame."
   ]
  },
  {
   "cell_type": "code",
   "execution_count": 95,
   "metadata": {},
   "outputs": [
    {
     "name": "stdout",
     "output_type": "stream",
     "text": [
      "<class 'pandas.core.frame.DataFrame'>\n",
      "Int64Index: 1108 entries, 0 to 1107\n",
      "Data columns (total 18 columns):\n",
      " #   Column             Non-Null Count  Dtype  \n",
      "---  ------             --------------  -----  \n",
      " 0   movie_id           1108 non-null   object \n",
      " 1   primary_title      1108 non-null   object \n",
      " 2   original_title     1108 non-null   object \n",
      " 3   start_year         1108 non-null   int64  \n",
      " 4   runtime_minutes    1108 non-null   float64\n",
      " 5   genres             1108 non-null   object \n",
      " 6   average_rating     1108 non-null   float64\n",
      " 7   num_votes          1108 non-null   int64  \n",
      " 8   title              1108 non-null   object \n",
      " 9   studio             1108 non-null   object \n",
      " 10  domestic_gross_x   1108 non-null   float64\n",
      " 11  year               1108 non-null   int64  \n",
      " 12  id                 1108 non-null   int64  \n",
      " 13  release_date       1108 non-null   object \n",
      " 14  movie              1108 non-null   object \n",
      " 15  production_budget  1108 non-null   object \n",
      " 16  domestic_gross_y   1108 non-null   object \n",
      " 17  worldwide_gross    1108 non-null   object \n",
      "dtypes: float64(3), int64(4), object(11)\n",
      "memory usage: 164.5+ KB\n"
     ]
    }
   ],
   "source": [
    "final_df.info()"
   ]
  },
  {
   "cell_type": "code",
   "execution_count": 96,
   "metadata": {},
   "outputs": [
    {
     "data": {
      "text/html": [
       "<div>\n",
       "<style scoped>\n",
       "    .dataframe tbody tr th:only-of-type {\n",
       "        vertical-align: middle;\n",
       "    }\n",
       "\n",
       "    .dataframe tbody tr th {\n",
       "        vertical-align: top;\n",
       "    }\n",
       "\n",
       "    .dataframe thead th {\n",
       "        text-align: right;\n",
       "    }\n",
       "</style>\n",
       "<table border=\"1\" class=\"dataframe\">\n",
       "  <thead>\n",
       "    <tr style=\"text-align: right;\">\n",
       "      <th></th>\n",
       "      <th>start_year</th>\n",
       "      <th>runtime_minutes</th>\n",
       "      <th>average_rating</th>\n",
       "      <th>num_votes</th>\n",
       "      <th>domestic_gross_x</th>\n",
       "      <th>year</th>\n",
       "      <th>id</th>\n",
       "    </tr>\n",
       "  </thead>\n",
       "  <tbody>\n",
       "    <tr>\n",
       "      <th>count</th>\n",
       "      <td>1108.000000</td>\n",
       "      <td>1108.000000</td>\n",
       "      <td>1108.000000</td>\n",
       "      <td>1.108000e+03</td>\n",
       "      <td>1.108000e+03</td>\n",
       "      <td>1108.000000</td>\n",
       "      <td>1108.000000</td>\n",
       "    </tr>\n",
       "    <tr>\n",
       "      <th>mean</th>\n",
       "      <td>2013.563177</td>\n",
       "      <td>109.627256</td>\n",
       "      <td>6.471300</td>\n",
       "      <td>1.402509e+05</td>\n",
       "      <td>6.437961e+07</td>\n",
       "      <td>2013.655235</td>\n",
       "      <td>51.006318</td>\n",
       "    </tr>\n",
       "    <tr>\n",
       "      <th>std</th>\n",
       "      <td>2.482564</td>\n",
       "      <td>17.612384</td>\n",
       "      <td>0.932659</td>\n",
       "      <td>1.735671e+05</td>\n",
       "      <td>8.712430e+07</td>\n",
       "      <td>2.478872</td>\n",
       "      <td>28.078367</td>\n",
       "    </tr>\n",
       "    <tr>\n",
       "      <th>min</th>\n",
       "      <td>2010.000000</td>\n",
       "      <td>41.000000</td>\n",
       "      <td>1.600000</td>\n",
       "      <td>3.640000e+02</td>\n",
       "      <td>1.000000e+03</td>\n",
       "      <td>2010.000000</td>\n",
       "      <td>1.000000</td>\n",
       "    </tr>\n",
       "    <tr>\n",
       "      <th>25%</th>\n",
       "      <td>2011.000000</td>\n",
       "      <td>97.000000</td>\n",
       "      <td>5.900000</td>\n",
       "      <td>3.605975e+04</td>\n",
       "      <td>1.042500e+07</td>\n",
       "      <td>2011.000000</td>\n",
       "      <td>27.000000</td>\n",
       "    </tr>\n",
       "    <tr>\n",
       "      <th>50%</th>\n",
       "      <td>2013.000000</td>\n",
       "      <td>106.000000</td>\n",
       "      <td>6.500000</td>\n",
       "      <td>8.194200e+04</td>\n",
       "      <td>3.585000e+07</td>\n",
       "      <td>2014.000000</td>\n",
       "      <td>51.000000</td>\n",
       "    </tr>\n",
       "    <tr>\n",
       "      <th>75%</th>\n",
       "      <td>2016.000000</td>\n",
       "      <td>119.000000</td>\n",
       "      <td>7.100000</td>\n",
       "      <td>1.716408e+05</td>\n",
       "      <td>7.932500e+07</td>\n",
       "      <td>2016.000000</td>\n",
       "      <td>74.000000</td>\n",
       "    </tr>\n",
       "    <tr>\n",
       "      <th>max</th>\n",
       "      <td>2018.000000</td>\n",
       "      <td>180.000000</td>\n",
       "      <td>8.800000</td>\n",
       "      <td>1.841066e+06</td>\n",
       "      <td>7.001000e+08</td>\n",
       "      <td>2018.000000</td>\n",
       "      <td>100.000000</td>\n",
       "    </tr>\n",
       "  </tbody>\n",
       "</table>\n",
       "</div>"
      ],
      "text/plain": [
       "        start_year  runtime_minutes  average_rating     num_votes  \\\n",
       "count  1108.000000      1108.000000     1108.000000  1.108000e+03   \n",
       "mean   2013.563177       109.627256        6.471300  1.402509e+05   \n",
       "std       2.482564        17.612384        0.932659  1.735671e+05   \n",
       "min    2010.000000        41.000000        1.600000  3.640000e+02   \n",
       "25%    2011.000000        97.000000        5.900000  3.605975e+04   \n",
       "50%    2013.000000       106.000000        6.500000  8.194200e+04   \n",
       "75%    2016.000000       119.000000        7.100000  1.716408e+05   \n",
       "max    2018.000000       180.000000        8.800000  1.841066e+06   \n",
       "\n",
       "       domestic_gross_x         year           id  \n",
       "count      1.108000e+03  1108.000000  1108.000000  \n",
       "mean       6.437961e+07  2013.655235    51.006318  \n",
       "std        8.712430e+07     2.478872    28.078367  \n",
       "min        1.000000e+03  2010.000000     1.000000  \n",
       "25%        1.042500e+07  2011.000000    27.000000  \n",
       "50%        3.585000e+07  2014.000000    51.000000  \n",
       "75%        7.932500e+07  2016.000000    74.000000  \n",
       "max        7.001000e+08  2018.000000   100.000000  "
      ]
     },
     "execution_count": 96,
     "metadata": {},
     "output_type": "execute_result"
    }
   ],
   "source": [
    "final_df.describe()"
   ]
  },
  {
   "cell_type": "markdown",
   "metadata": {},
   "source": [
    "The head of the final_df data frame demonstrates that there are several columns with the same information,<br>several columns that do not directly pertain to the business question, and two columns with extremely similar information.<br>Specifically, columns that do not directly contribute to the business question<br>and which are no longer necessary for table combination are as follows:<br>movie_id, start_year, runtime_minutes, num_votes, studio, year, id, and release_date."
   ]
  },
  {
   "cell_type": "markdown",
   "metadata": {},
   "source": [
    "Remove unneccesary columns from final_df."
   ]
  },
  {
   "cell_type": "code",
   "execution_count": 97,
   "metadata": {},
   "outputs": [],
   "source": [
    "final_df_reduced = final_df.drop(columns=['movie_id', 'start_year', 'runtime_minutes', 'num_votes', 'studio', 'year', 'id', 'release_date'])"
   ]
  },
  {
   "cell_type": "markdown",
   "metadata": {},
   "source": [
    "Render the head of the final_df_reduced data frame."
   ]
  },
  {
   "cell_type": "code",
   "execution_count": 98,
   "metadata": {},
   "outputs": [
    {
     "data": {
      "text/html": [
       "<div>\n",
       "<style scoped>\n",
       "    .dataframe tbody tr th:only-of-type {\n",
       "        vertical-align: middle;\n",
       "    }\n",
       "\n",
       "    .dataframe tbody tr th {\n",
       "        vertical-align: top;\n",
       "    }\n",
       "\n",
       "    .dataframe thead th {\n",
       "        text-align: right;\n",
       "    }\n",
       "</style>\n",
       "<table border=\"1\" class=\"dataframe\">\n",
       "  <thead>\n",
       "    <tr style=\"text-align: right;\">\n",
       "      <th></th>\n",
       "      <th>primary_title</th>\n",
       "      <th>original_title</th>\n",
       "      <th>genres</th>\n",
       "      <th>average_rating</th>\n",
       "      <th>title</th>\n",
       "      <th>domestic_gross_x</th>\n",
       "      <th>movie</th>\n",
       "      <th>production_budget</th>\n",
       "      <th>domestic_gross_y</th>\n",
       "      <th>worldwide_gross</th>\n",
       "    </tr>\n",
       "  </thead>\n",
       "  <tbody>\n",
       "    <tr>\n",
       "      <th>0</th>\n",
       "      <td>On the Road</td>\n",
       "      <td>On the Road</td>\n",
       "      <td>Adventure,Drama,Romance</td>\n",
       "      <td>6.1</td>\n",
       "      <td>On the Road</td>\n",
       "      <td>744000.0</td>\n",
       "      <td>On the Road</td>\n",
       "      <td>$25,000,000</td>\n",
       "      <td>$720,828</td>\n",
       "      <td>$9,313,302</td>\n",
       "    </tr>\n",
       "    <tr>\n",
       "      <th>1</th>\n",
       "      <td>The Secret Life of Walter Mitty</td>\n",
       "      <td>The Secret Life of Walter Mitty</td>\n",
       "      <td>Adventure,Comedy,Drama</td>\n",
       "      <td>7.3</td>\n",
       "      <td>The Secret Life of Walter Mitty</td>\n",
       "      <td>58200000.0</td>\n",
       "      <td>The Secret Life of Walter Mitty</td>\n",
       "      <td>$91,000,000</td>\n",
       "      <td>$58,236,838</td>\n",
       "      <td>$187,861,183</td>\n",
       "    </tr>\n",
       "    <tr>\n",
       "      <th>2</th>\n",
       "      <td>A Walk Among the Tombstones</td>\n",
       "      <td>A Walk Among the Tombstones</td>\n",
       "      <td>Action,Crime,Drama</td>\n",
       "      <td>6.5</td>\n",
       "      <td>A Walk Among the Tombstones</td>\n",
       "      <td>26300000.0</td>\n",
       "      <td>A Walk Among the Tombstones</td>\n",
       "      <td>$28,000,000</td>\n",
       "      <td>$26,017,685</td>\n",
       "      <td>$62,108,587</td>\n",
       "    </tr>\n",
       "    <tr>\n",
       "      <th>3</th>\n",
       "      <td>Jurassic World</td>\n",
       "      <td>Jurassic World</td>\n",
       "      <td>Action,Adventure,Sci-Fi</td>\n",
       "      <td>7.0</td>\n",
       "      <td>Jurassic World</td>\n",
       "      <td>652300000.0</td>\n",
       "      <td>Jurassic World</td>\n",
       "      <td>$215,000,000</td>\n",
       "      <td>$652,270,625</td>\n",
       "      <td>$1,648,854,864</td>\n",
       "    </tr>\n",
       "    <tr>\n",
       "      <th>4</th>\n",
       "      <td>The Rum Diary</td>\n",
       "      <td>The Rum Diary</td>\n",
       "      <td>Comedy,Drama</td>\n",
       "      <td>6.2</td>\n",
       "      <td>The Rum Diary</td>\n",
       "      <td>13100000.0</td>\n",
       "      <td>The Rum Diary</td>\n",
       "      <td>$45,000,000</td>\n",
       "      <td>$13,109,815</td>\n",
       "      <td>$21,544,732</td>\n",
       "    </tr>\n",
       "  </tbody>\n",
       "</table>\n",
       "</div>"
      ],
      "text/plain": [
       "                     primary_title                   original_title  \\\n",
       "0                      On the Road                      On the Road   \n",
       "1  The Secret Life of Walter Mitty  The Secret Life of Walter Mitty   \n",
       "2      A Walk Among the Tombstones      A Walk Among the Tombstones   \n",
       "3                   Jurassic World                   Jurassic World   \n",
       "4                    The Rum Diary                    The Rum Diary   \n",
       "\n",
       "                    genres  average_rating                            title  \\\n",
       "0  Adventure,Drama,Romance             6.1                      On the Road   \n",
       "1   Adventure,Comedy,Drama             7.3  The Secret Life of Walter Mitty   \n",
       "2       Action,Crime,Drama             6.5      A Walk Among the Tombstones   \n",
       "3  Action,Adventure,Sci-Fi             7.0                   Jurassic World   \n",
       "4             Comedy,Drama             6.2                    The Rum Diary   \n",
       "\n",
       "   domestic_gross_x                            movie production_budget  \\\n",
       "0          744000.0                      On the Road       $25,000,000   \n",
       "1        58200000.0  The Secret Life of Walter Mitty       $91,000,000   \n",
       "2        26300000.0      A Walk Among the Tombstones       $28,000,000   \n",
       "3       652300000.0                   Jurassic World      $215,000,000   \n",
       "4        13100000.0                    The Rum Diary       $45,000,000   \n",
       "\n",
       "  domestic_gross_y worldwide_gross  \n",
       "0         $720,828      $9,313,302  \n",
       "1      $58,236,838    $187,861,183  \n",
       "2      $26,017,685     $62,108,587  \n",
       "3     $652,270,625  $1,648,854,864  \n",
       "4      $13,109,815     $21,544,732  "
      ]
     },
     "execution_count": 98,
     "metadata": {},
     "output_type": "execute_result"
    }
   ],
   "source": [
    "final_df_reduced.head()"
   ]
  },
  {
   "cell_type": "markdown",
   "metadata": {},
   "source": [
    "Columns which contain repeat information are as follows: primary_title, original_title, title, and movie."
   ]
  },
  {
   "cell_type": "markdown",
   "metadata": {},
   "source": [
    "Remove columns with repeat information."
   ]
  },
  {
   "cell_type": "code",
   "execution_count": 99,
   "metadata": {},
   "outputs": [],
   "source": [
    "final_df_reduced_simplified = final_df_reduced.drop(columns=['original_title', 'title', 'movie'])"
   ]
  },
  {
   "cell_type": "markdown",
   "metadata": {},
   "source": [
    "Render the head of the final_df_reduced_simplifed data frame."
   ]
  },
  {
   "cell_type": "code",
   "execution_count": 100,
   "metadata": {},
   "outputs": [
    {
     "data": {
      "text/html": [
       "<div>\n",
       "<style scoped>\n",
       "    .dataframe tbody tr th:only-of-type {\n",
       "        vertical-align: middle;\n",
       "    }\n",
       "\n",
       "    .dataframe tbody tr th {\n",
       "        vertical-align: top;\n",
       "    }\n",
       "\n",
       "    .dataframe thead th {\n",
       "        text-align: right;\n",
       "    }\n",
       "</style>\n",
       "<table border=\"1\" class=\"dataframe\">\n",
       "  <thead>\n",
       "    <tr style=\"text-align: right;\">\n",
       "      <th></th>\n",
       "      <th>primary_title</th>\n",
       "      <th>genres</th>\n",
       "      <th>average_rating</th>\n",
       "      <th>domestic_gross_x</th>\n",
       "      <th>production_budget</th>\n",
       "      <th>domestic_gross_y</th>\n",
       "      <th>worldwide_gross</th>\n",
       "    </tr>\n",
       "  </thead>\n",
       "  <tbody>\n",
       "    <tr>\n",
       "      <th>0</th>\n",
       "      <td>On the Road</td>\n",
       "      <td>Adventure,Drama,Romance</td>\n",
       "      <td>6.1</td>\n",
       "      <td>744000.0</td>\n",
       "      <td>$25,000,000</td>\n",
       "      <td>$720,828</td>\n",
       "      <td>$9,313,302</td>\n",
       "    </tr>\n",
       "    <tr>\n",
       "      <th>1</th>\n",
       "      <td>The Secret Life of Walter Mitty</td>\n",
       "      <td>Adventure,Comedy,Drama</td>\n",
       "      <td>7.3</td>\n",
       "      <td>58200000.0</td>\n",
       "      <td>$91,000,000</td>\n",
       "      <td>$58,236,838</td>\n",
       "      <td>$187,861,183</td>\n",
       "    </tr>\n",
       "    <tr>\n",
       "      <th>2</th>\n",
       "      <td>A Walk Among the Tombstones</td>\n",
       "      <td>Action,Crime,Drama</td>\n",
       "      <td>6.5</td>\n",
       "      <td>26300000.0</td>\n",
       "      <td>$28,000,000</td>\n",
       "      <td>$26,017,685</td>\n",
       "      <td>$62,108,587</td>\n",
       "    </tr>\n",
       "    <tr>\n",
       "      <th>3</th>\n",
       "      <td>Jurassic World</td>\n",
       "      <td>Action,Adventure,Sci-Fi</td>\n",
       "      <td>7.0</td>\n",
       "      <td>652300000.0</td>\n",
       "      <td>$215,000,000</td>\n",
       "      <td>$652,270,625</td>\n",
       "      <td>$1,648,854,864</td>\n",
       "    </tr>\n",
       "    <tr>\n",
       "      <th>4</th>\n",
       "      <td>The Rum Diary</td>\n",
       "      <td>Comedy,Drama</td>\n",
       "      <td>6.2</td>\n",
       "      <td>13100000.0</td>\n",
       "      <td>$45,000,000</td>\n",
       "      <td>$13,109,815</td>\n",
       "      <td>$21,544,732</td>\n",
       "    </tr>\n",
       "  </tbody>\n",
       "</table>\n",
       "</div>"
      ],
      "text/plain": [
       "                     primary_title                   genres  average_rating  \\\n",
       "0                      On the Road  Adventure,Drama,Romance             6.1   \n",
       "1  The Secret Life of Walter Mitty   Adventure,Comedy,Drama             7.3   \n",
       "2      A Walk Among the Tombstones       Action,Crime,Drama             6.5   \n",
       "3                   Jurassic World  Action,Adventure,Sci-Fi             7.0   \n",
       "4                    The Rum Diary             Comedy,Drama             6.2   \n",
       "\n",
       "   domestic_gross_x production_budget domestic_gross_y worldwide_gross  \n",
       "0          744000.0       $25,000,000         $720,828      $9,313,302  \n",
       "1        58200000.0       $91,000,000      $58,236,838    $187,861,183  \n",
       "2        26300000.0       $28,000,000      $26,017,685     $62,108,587  \n",
       "3       652300000.0      $215,000,000     $652,270,625  $1,648,854,864  \n",
       "4        13100000.0       $45,000,000      $13,109,815     $21,544,732  "
      ]
     },
     "execution_count": 100,
     "metadata": {},
     "output_type": "execute_result"
    }
   ],
   "source": [
    "final_df_reduced_simplified.head()"
   ]
  },
  {
   "cell_type": "markdown",
   "metadata": {},
   "source": [
    "The only remaining column now which demonstrates unneccessary information is domestic_gross_x or domestic_gross_y. The values contained within these columns are extremely similar, so one of them may be safely disconsidered. Due to the higher level of precision associated with domestic_gross_y, domestic_gross_x will be disconsidered."
   ]
  },
  {
   "cell_type": "markdown",
   "metadata": {},
   "source": [
    "Remove domestic_gross_x from the final_df_reduced_simplified data frame."
   ]
  },
  {
   "cell_type": "code",
   "execution_count": 101,
   "metadata": {},
   "outputs": [],
   "source": [
    "final_df_reduced_simplified_2 = final_df_reduced_simplified.drop(columns=['domestic_gross_x'])"
   ]
  },
  {
   "cell_type": "markdown",
   "metadata": {},
   "source": [
    "Render the head of the final_df_reduced_simplified_2 data frame."
   ]
  },
  {
   "cell_type": "code",
   "execution_count": 102,
   "metadata": {},
   "outputs": [
    {
     "data": {
      "text/html": [
       "<div>\n",
       "<style scoped>\n",
       "    .dataframe tbody tr th:only-of-type {\n",
       "        vertical-align: middle;\n",
       "    }\n",
       "\n",
       "    .dataframe tbody tr th {\n",
       "        vertical-align: top;\n",
       "    }\n",
       "\n",
       "    .dataframe thead th {\n",
       "        text-align: right;\n",
       "    }\n",
       "</style>\n",
       "<table border=\"1\" class=\"dataframe\">\n",
       "  <thead>\n",
       "    <tr style=\"text-align: right;\">\n",
       "      <th></th>\n",
       "      <th>primary_title</th>\n",
       "      <th>genres</th>\n",
       "      <th>average_rating</th>\n",
       "      <th>production_budget</th>\n",
       "      <th>domestic_gross_y</th>\n",
       "      <th>worldwide_gross</th>\n",
       "    </tr>\n",
       "  </thead>\n",
       "  <tbody>\n",
       "    <tr>\n",
       "      <th>0</th>\n",
       "      <td>On the Road</td>\n",
       "      <td>Adventure,Drama,Romance</td>\n",
       "      <td>6.1</td>\n",
       "      <td>$25,000,000</td>\n",
       "      <td>$720,828</td>\n",
       "      <td>$9,313,302</td>\n",
       "    </tr>\n",
       "    <tr>\n",
       "      <th>1</th>\n",
       "      <td>The Secret Life of Walter Mitty</td>\n",
       "      <td>Adventure,Comedy,Drama</td>\n",
       "      <td>7.3</td>\n",
       "      <td>$91,000,000</td>\n",
       "      <td>$58,236,838</td>\n",
       "      <td>$187,861,183</td>\n",
       "    </tr>\n",
       "    <tr>\n",
       "      <th>2</th>\n",
       "      <td>A Walk Among the Tombstones</td>\n",
       "      <td>Action,Crime,Drama</td>\n",
       "      <td>6.5</td>\n",
       "      <td>$28,000,000</td>\n",
       "      <td>$26,017,685</td>\n",
       "      <td>$62,108,587</td>\n",
       "    </tr>\n",
       "    <tr>\n",
       "      <th>3</th>\n",
       "      <td>Jurassic World</td>\n",
       "      <td>Action,Adventure,Sci-Fi</td>\n",
       "      <td>7.0</td>\n",
       "      <td>$215,000,000</td>\n",
       "      <td>$652,270,625</td>\n",
       "      <td>$1,648,854,864</td>\n",
       "    </tr>\n",
       "    <tr>\n",
       "      <th>4</th>\n",
       "      <td>The Rum Diary</td>\n",
       "      <td>Comedy,Drama</td>\n",
       "      <td>6.2</td>\n",
       "      <td>$45,000,000</td>\n",
       "      <td>$13,109,815</td>\n",
       "      <td>$21,544,732</td>\n",
       "    </tr>\n",
       "  </tbody>\n",
       "</table>\n",
       "</div>"
      ],
      "text/plain": [
       "                     primary_title                   genres  average_rating  \\\n",
       "0                      On the Road  Adventure,Drama,Romance             6.1   \n",
       "1  The Secret Life of Walter Mitty   Adventure,Comedy,Drama             7.3   \n",
       "2      A Walk Among the Tombstones       Action,Crime,Drama             6.5   \n",
       "3                   Jurassic World  Action,Adventure,Sci-Fi             7.0   \n",
       "4                    The Rum Diary             Comedy,Drama             6.2   \n",
       "\n",
       "  production_budget domestic_gross_y worldwide_gross  \n",
       "0       $25,000,000         $720,828      $9,313,302  \n",
       "1       $91,000,000      $58,236,838    $187,861,183  \n",
       "2       $28,000,000      $26,017,685     $62,108,587  \n",
       "3      $215,000,000     $652,270,625  $1,648,854,864  \n",
       "4       $45,000,000      $13,109,815     $21,544,732  "
      ]
     },
     "execution_count": 102,
     "metadata": {},
     "output_type": "execute_result"
    }
   ],
   "source": [
    "final_df_reduced_simplified_2.head()"
   ]
  },
  {
   "cell_type": "markdown",
   "metadata": {},
   "source": [
    "Explore the final_df_reduced_simplified_2 data frame."
   ]
  },
  {
   "cell_type": "code",
   "execution_count": 103,
   "metadata": {},
   "outputs": [
    {
     "name": "stdout",
     "output_type": "stream",
     "text": [
      "<class 'pandas.core.frame.DataFrame'>\n",
      "Int64Index: 1108 entries, 0 to 1107\n",
      "Data columns (total 6 columns):\n",
      " #   Column             Non-Null Count  Dtype  \n",
      "---  ------             --------------  -----  \n",
      " 0   primary_title      1108 non-null   object \n",
      " 1   genres             1108 non-null   object \n",
      " 2   average_rating     1108 non-null   float64\n",
      " 3   production_budget  1108 non-null   object \n",
      " 4   domestic_gross_y   1108 non-null   object \n",
      " 5   worldwide_gross    1108 non-null   object \n",
      "dtypes: float64(1), object(5)\n",
      "memory usage: 60.6+ KB\n"
     ]
    }
   ],
   "source": [
    "final_df_reduced_simplified_2.info()"
   ]
  },
  {
   "cell_type": "code",
   "execution_count": 104,
   "metadata": {},
   "outputs": [
    {
     "data": {
      "text/html": [
       "<div>\n",
       "<style scoped>\n",
       "    .dataframe tbody tr th:only-of-type {\n",
       "        vertical-align: middle;\n",
       "    }\n",
       "\n",
       "    .dataframe tbody tr th {\n",
       "        vertical-align: top;\n",
       "    }\n",
       "\n",
       "    .dataframe thead th {\n",
       "        text-align: right;\n",
       "    }\n",
       "</style>\n",
       "<table border=\"1\" class=\"dataframe\">\n",
       "  <thead>\n",
       "    <tr style=\"text-align: right;\">\n",
       "      <th></th>\n",
       "      <th>average_rating</th>\n",
       "    </tr>\n",
       "  </thead>\n",
       "  <tbody>\n",
       "    <tr>\n",
       "      <th>count</th>\n",
       "      <td>1108.000000</td>\n",
       "    </tr>\n",
       "    <tr>\n",
       "      <th>mean</th>\n",
       "      <td>6.471300</td>\n",
       "    </tr>\n",
       "    <tr>\n",
       "      <th>std</th>\n",
       "      <td>0.932659</td>\n",
       "    </tr>\n",
       "    <tr>\n",
       "      <th>min</th>\n",
       "      <td>1.600000</td>\n",
       "    </tr>\n",
       "    <tr>\n",
       "      <th>25%</th>\n",
       "      <td>5.900000</td>\n",
       "    </tr>\n",
       "    <tr>\n",
       "      <th>50%</th>\n",
       "      <td>6.500000</td>\n",
       "    </tr>\n",
       "    <tr>\n",
       "      <th>75%</th>\n",
       "      <td>7.100000</td>\n",
       "    </tr>\n",
       "    <tr>\n",
       "      <th>max</th>\n",
       "      <td>8.800000</td>\n",
       "    </tr>\n",
       "  </tbody>\n",
       "</table>\n",
       "</div>"
      ],
      "text/plain": [
       "       average_rating\n",
       "count     1108.000000\n",
       "mean         6.471300\n",
       "std          0.932659\n",
       "min          1.600000\n",
       "25%          5.900000\n",
       "50%          6.500000\n",
       "75%          7.100000\n",
       "max          8.800000"
      ]
     },
     "execution_count": 104,
     "metadata": {},
     "output_type": "execute_result"
    }
   ],
   "source": [
    "final_df_reduced_simplified_2.describe()"
   ]
  },
  {
   "cell_type": "markdown",
   "metadata": {},
   "source": [
    "The current data types of the production_budget, domestic_gross_y, and worldwide_gross columns are objects and cannot be operated on as numbers."
   ]
  },
  {
   "cell_type": "markdown",
   "metadata": {},
   "source": [
    "Convert the data types of the above columns."
   ]
  },
  {
   "cell_type": "code",
   "execution_count": 105,
   "metadata": {},
   "outputs": [],
   "source": [
    "final_df_reduced_simplified_2['production_budget'] = final_df_reduced_simplified_2['production_budget'].str.replace('$','')\n",
    "final_df_reduced_simplified_2['production_budget'] = final_df_reduced_simplified_2['production_budget'].str.replace(',','')\n",
    "final_df_reduced_simplified_2['production_budget'] = final_df_reduced_simplified_2['production_budget'].astype(int)\n",
    "final_df_reduced_simplified_2['domestic_gross_y'] = final_df_reduced_simplified_2['domestic_gross_y'].str.replace('$','')\n",
    "final_df_reduced_simplified_2['domestic_gross_y'] = final_df_reduced_simplified_2['domestic_gross_y'].str.replace(',','')\n",
    "final_df_reduced_simplified_2['domestic_gross_y'] = final_df_reduced_simplified_2['domestic_gross_y'].astype(int)\n",
    "final_df_reduced_simplified_2['worldwide_gross'] = final_df_reduced_simplified_2['worldwide_gross'].str.replace('$','')\n",
    "final_df_reduced_simplified_2['worldwide_gross'] = final_df_reduced_simplified_2['worldwide_gross'].str.replace(',','')\n",
    "final_df_reduced_simplified_2['worldwide_gross'] = final_df_reduced_simplified_2['worldwide_gross'].astype(int)"
   ]
  },
  {
   "cell_type": "markdown",
   "metadata": {},
   "source": [
    "Render the head of the final_df_reduced_simplified_2 data frame."
   ]
  },
  {
   "cell_type": "code",
   "execution_count": 106,
   "metadata": {},
   "outputs": [
    {
     "data": {
      "text/html": [
       "<div>\n",
       "<style scoped>\n",
       "    .dataframe tbody tr th:only-of-type {\n",
       "        vertical-align: middle;\n",
       "    }\n",
       "\n",
       "    .dataframe tbody tr th {\n",
       "        vertical-align: top;\n",
       "    }\n",
       "\n",
       "    .dataframe thead th {\n",
       "        text-align: right;\n",
       "    }\n",
       "</style>\n",
       "<table border=\"1\" class=\"dataframe\">\n",
       "  <thead>\n",
       "    <tr style=\"text-align: right;\">\n",
       "      <th></th>\n",
       "      <th>primary_title</th>\n",
       "      <th>genres</th>\n",
       "      <th>average_rating</th>\n",
       "      <th>production_budget</th>\n",
       "      <th>domestic_gross_y</th>\n",
       "      <th>worldwide_gross</th>\n",
       "    </tr>\n",
       "  </thead>\n",
       "  <tbody>\n",
       "    <tr>\n",
       "      <th>0</th>\n",
       "      <td>On the Road</td>\n",
       "      <td>Adventure,Drama,Romance</td>\n",
       "      <td>6.1</td>\n",
       "      <td>25000000</td>\n",
       "      <td>720828</td>\n",
       "      <td>9313302</td>\n",
       "    </tr>\n",
       "    <tr>\n",
       "      <th>1</th>\n",
       "      <td>The Secret Life of Walter Mitty</td>\n",
       "      <td>Adventure,Comedy,Drama</td>\n",
       "      <td>7.3</td>\n",
       "      <td>91000000</td>\n",
       "      <td>58236838</td>\n",
       "      <td>187861183</td>\n",
       "    </tr>\n",
       "    <tr>\n",
       "      <th>2</th>\n",
       "      <td>A Walk Among the Tombstones</td>\n",
       "      <td>Action,Crime,Drama</td>\n",
       "      <td>6.5</td>\n",
       "      <td>28000000</td>\n",
       "      <td>26017685</td>\n",
       "      <td>62108587</td>\n",
       "    </tr>\n",
       "    <tr>\n",
       "      <th>3</th>\n",
       "      <td>Jurassic World</td>\n",
       "      <td>Action,Adventure,Sci-Fi</td>\n",
       "      <td>7.0</td>\n",
       "      <td>215000000</td>\n",
       "      <td>652270625</td>\n",
       "      <td>1648854864</td>\n",
       "    </tr>\n",
       "    <tr>\n",
       "      <th>4</th>\n",
       "      <td>The Rum Diary</td>\n",
       "      <td>Comedy,Drama</td>\n",
       "      <td>6.2</td>\n",
       "      <td>45000000</td>\n",
       "      <td>13109815</td>\n",
       "      <td>21544732</td>\n",
       "    </tr>\n",
       "  </tbody>\n",
       "</table>\n",
       "</div>"
      ],
      "text/plain": [
       "                     primary_title                   genres  average_rating  \\\n",
       "0                      On the Road  Adventure,Drama,Romance             6.1   \n",
       "1  The Secret Life of Walter Mitty   Adventure,Comedy,Drama             7.3   \n",
       "2      A Walk Among the Tombstones       Action,Crime,Drama             6.5   \n",
       "3                   Jurassic World  Action,Adventure,Sci-Fi             7.0   \n",
       "4                    The Rum Diary             Comedy,Drama             6.2   \n",
       "\n",
       "   production_budget  domestic_gross_y  worldwide_gross  \n",
       "0           25000000            720828          9313302  \n",
       "1           91000000          58236838        187861183  \n",
       "2           28000000          26017685         62108587  \n",
       "3          215000000         652270625       1648854864  \n",
       "4           45000000          13109815         21544732  "
      ]
     },
     "execution_count": 106,
     "metadata": {},
     "output_type": "execute_result"
    }
   ],
   "source": [
    "final_df_reduced_simplified_2.head()"
   ]
  },
  {
   "cell_type": "markdown",
   "metadata": {},
   "source": [
    "Explore the final_df_reduced_simplified_2 data frame."
   ]
  },
  {
   "cell_type": "code",
   "execution_count": 107,
   "metadata": {},
   "outputs": [
    {
     "name": "stdout",
     "output_type": "stream",
     "text": [
      "<class 'pandas.core.frame.DataFrame'>\n",
      "Int64Index: 1108 entries, 0 to 1107\n",
      "Data columns (total 6 columns):\n",
      " #   Column             Non-Null Count  Dtype  \n",
      "---  ------             --------------  -----  \n",
      " 0   primary_title      1108 non-null   object \n",
      " 1   genres             1108 non-null   object \n",
      " 2   average_rating     1108 non-null   float64\n",
      " 3   production_budget  1108 non-null   int64  \n",
      " 4   domestic_gross_y   1108 non-null   int64  \n",
      " 5   worldwide_gross    1108 non-null   int64  \n",
      "dtypes: float64(1), int64(3), object(2)\n",
      "memory usage: 60.6+ KB\n"
     ]
    }
   ],
   "source": [
    "final_df_reduced_simplified_2.info()"
   ]
  },
  {
   "cell_type": "markdown",
   "metadata": {},
   "source": [
    "Rename the columns for clarity and simplicity."
   ]
  },
  {
   "cell_type": "code",
   "execution_count": 108,
   "metadata": {},
   "outputs": [],
   "source": [
    "final_df_reduced_simplified_3 = final_df_reduced_simplified_2.rename(\n",
    "    columns={'primary_title':'title', 'domestic_gross_y':'domestic_gross'})"
   ]
  },
  {
   "cell_type": "markdown",
   "metadata": {},
   "source": [
    "Render the head of the final_df_reduced_simplified_3 data frame."
   ]
  },
  {
   "cell_type": "code",
   "execution_count": 109,
   "metadata": {},
   "outputs": [
    {
     "data": {
      "text/html": [
       "<div>\n",
       "<style scoped>\n",
       "    .dataframe tbody tr th:only-of-type {\n",
       "        vertical-align: middle;\n",
       "    }\n",
       "\n",
       "    .dataframe tbody tr th {\n",
       "        vertical-align: top;\n",
       "    }\n",
       "\n",
       "    .dataframe thead th {\n",
       "        text-align: right;\n",
       "    }\n",
       "</style>\n",
       "<table border=\"1\" class=\"dataframe\">\n",
       "  <thead>\n",
       "    <tr style=\"text-align: right;\">\n",
       "      <th></th>\n",
       "      <th>title</th>\n",
       "      <th>genres</th>\n",
       "      <th>average_rating</th>\n",
       "      <th>production_budget</th>\n",
       "      <th>domestic_gross</th>\n",
       "      <th>worldwide_gross</th>\n",
       "    </tr>\n",
       "  </thead>\n",
       "  <tbody>\n",
       "    <tr>\n",
       "      <th>0</th>\n",
       "      <td>On the Road</td>\n",
       "      <td>Adventure,Drama,Romance</td>\n",
       "      <td>6.1</td>\n",
       "      <td>25000000</td>\n",
       "      <td>720828</td>\n",
       "      <td>9313302</td>\n",
       "    </tr>\n",
       "    <tr>\n",
       "      <th>1</th>\n",
       "      <td>The Secret Life of Walter Mitty</td>\n",
       "      <td>Adventure,Comedy,Drama</td>\n",
       "      <td>7.3</td>\n",
       "      <td>91000000</td>\n",
       "      <td>58236838</td>\n",
       "      <td>187861183</td>\n",
       "    </tr>\n",
       "    <tr>\n",
       "      <th>2</th>\n",
       "      <td>A Walk Among the Tombstones</td>\n",
       "      <td>Action,Crime,Drama</td>\n",
       "      <td>6.5</td>\n",
       "      <td>28000000</td>\n",
       "      <td>26017685</td>\n",
       "      <td>62108587</td>\n",
       "    </tr>\n",
       "    <tr>\n",
       "      <th>3</th>\n",
       "      <td>Jurassic World</td>\n",
       "      <td>Action,Adventure,Sci-Fi</td>\n",
       "      <td>7.0</td>\n",
       "      <td>215000000</td>\n",
       "      <td>652270625</td>\n",
       "      <td>1648854864</td>\n",
       "    </tr>\n",
       "    <tr>\n",
       "      <th>4</th>\n",
       "      <td>The Rum Diary</td>\n",
       "      <td>Comedy,Drama</td>\n",
       "      <td>6.2</td>\n",
       "      <td>45000000</td>\n",
       "      <td>13109815</td>\n",
       "      <td>21544732</td>\n",
       "    </tr>\n",
       "  </tbody>\n",
       "</table>\n",
       "</div>"
      ],
      "text/plain": [
       "                             title                   genres  average_rating  \\\n",
       "0                      On the Road  Adventure,Drama,Romance             6.1   \n",
       "1  The Secret Life of Walter Mitty   Adventure,Comedy,Drama             7.3   \n",
       "2      A Walk Among the Tombstones       Action,Crime,Drama             6.5   \n",
       "3                   Jurassic World  Action,Adventure,Sci-Fi             7.0   \n",
       "4                    The Rum Diary             Comedy,Drama             6.2   \n",
       "\n",
       "   production_budget  domestic_gross  worldwide_gross  \n",
       "0           25000000          720828          9313302  \n",
       "1           91000000        58236838        187861183  \n",
       "2           28000000        26017685         62108587  \n",
       "3          215000000       652270625       1648854864  \n",
       "4           45000000        13109815         21544732  "
      ]
     },
     "execution_count": 109,
     "metadata": {},
     "output_type": "execute_result"
    }
   ],
   "source": [
    "final_df_reduced_simplified_3.head()"
   ]
  },
  {
   "cell_type": "markdown",
   "metadata": {},
   "source": [
    "Instantiated a new data frame for ease of call."
   ]
  },
  {
   "cell_type": "code",
   "execution_count": 110,
   "metadata": {},
   "outputs": [],
   "source": [
    "df_expanded = final_df_reduced_simplified_3.copy()"
   ]
  },
  {
   "cell_type": "markdown",
   "metadata": {},
   "source": [
    "Instantiate a new column to observe the difference between domestic gross and production budget."
   ]
  },
  {
   "cell_type": "code",
   "execution_count": 111,
   "metadata": {},
   "outputs": [],
   "source": [
    "df_expanded['domestic_profit'] = df_expanded['domestic_gross'] - df_expanded['production_budget']"
   ]
  },
  {
   "cell_type": "markdown",
   "metadata": {},
   "source": [
    "Render the head of the new data frame."
   ]
  },
  {
   "cell_type": "code",
   "execution_count": 112,
   "metadata": {},
   "outputs": [
    {
     "data": {
      "text/html": [
       "<div>\n",
       "<style scoped>\n",
       "    .dataframe tbody tr th:only-of-type {\n",
       "        vertical-align: middle;\n",
       "    }\n",
       "\n",
       "    .dataframe tbody tr th {\n",
       "        vertical-align: top;\n",
       "    }\n",
       "\n",
       "    .dataframe thead th {\n",
       "        text-align: right;\n",
       "    }\n",
       "</style>\n",
       "<table border=\"1\" class=\"dataframe\">\n",
       "  <thead>\n",
       "    <tr style=\"text-align: right;\">\n",
       "      <th></th>\n",
       "      <th>title</th>\n",
       "      <th>genres</th>\n",
       "      <th>average_rating</th>\n",
       "      <th>production_budget</th>\n",
       "      <th>domestic_gross</th>\n",
       "      <th>worldwide_gross</th>\n",
       "      <th>domestic_profit</th>\n",
       "    </tr>\n",
       "  </thead>\n",
       "  <tbody>\n",
       "    <tr>\n",
       "      <th>0</th>\n",
       "      <td>On the Road</td>\n",
       "      <td>Adventure,Drama,Romance</td>\n",
       "      <td>6.1</td>\n",
       "      <td>25000000</td>\n",
       "      <td>720828</td>\n",
       "      <td>9313302</td>\n",
       "      <td>-24279172</td>\n",
       "    </tr>\n",
       "    <tr>\n",
       "      <th>1</th>\n",
       "      <td>The Secret Life of Walter Mitty</td>\n",
       "      <td>Adventure,Comedy,Drama</td>\n",
       "      <td>7.3</td>\n",
       "      <td>91000000</td>\n",
       "      <td>58236838</td>\n",
       "      <td>187861183</td>\n",
       "      <td>-32763162</td>\n",
       "    </tr>\n",
       "    <tr>\n",
       "      <th>2</th>\n",
       "      <td>A Walk Among the Tombstones</td>\n",
       "      <td>Action,Crime,Drama</td>\n",
       "      <td>6.5</td>\n",
       "      <td>28000000</td>\n",
       "      <td>26017685</td>\n",
       "      <td>62108587</td>\n",
       "      <td>-1982315</td>\n",
       "    </tr>\n",
       "    <tr>\n",
       "      <th>3</th>\n",
       "      <td>Jurassic World</td>\n",
       "      <td>Action,Adventure,Sci-Fi</td>\n",
       "      <td>7.0</td>\n",
       "      <td>215000000</td>\n",
       "      <td>652270625</td>\n",
       "      <td>1648854864</td>\n",
       "      <td>437270625</td>\n",
       "    </tr>\n",
       "    <tr>\n",
       "      <th>4</th>\n",
       "      <td>The Rum Diary</td>\n",
       "      <td>Comedy,Drama</td>\n",
       "      <td>6.2</td>\n",
       "      <td>45000000</td>\n",
       "      <td>13109815</td>\n",
       "      <td>21544732</td>\n",
       "      <td>-31890185</td>\n",
       "    </tr>\n",
       "  </tbody>\n",
       "</table>\n",
       "</div>"
      ],
      "text/plain": [
       "                             title                   genres  average_rating  \\\n",
       "0                      On the Road  Adventure,Drama,Romance             6.1   \n",
       "1  The Secret Life of Walter Mitty   Adventure,Comedy,Drama             7.3   \n",
       "2      A Walk Among the Tombstones       Action,Crime,Drama             6.5   \n",
       "3                   Jurassic World  Action,Adventure,Sci-Fi             7.0   \n",
       "4                    The Rum Diary             Comedy,Drama             6.2   \n",
       "\n",
       "   production_budget  domestic_gross  worldwide_gross  domestic_profit  \n",
       "0           25000000          720828          9313302        -24279172  \n",
       "1           91000000        58236838        187861183        -32763162  \n",
       "2           28000000        26017685         62108587         -1982315  \n",
       "3          215000000       652270625       1648854864        437270625  \n",
       "4           45000000        13109815         21544732        -31890185  "
      ]
     },
     "execution_count": 112,
     "metadata": {},
     "output_type": "execute_result"
    }
   ],
   "source": [
    "df_expanded.head()"
   ]
  },
  {
   "cell_type": "markdown",
   "metadata": {},
   "source": [
    "Instantiate a new column to observe the difference between worldwide gross and production budget."
   ]
  },
  {
   "cell_type": "code",
   "execution_count": 113,
   "metadata": {},
   "outputs": [],
   "source": [
    "df_expanded['worldwide_profit'] = df_expanded['worldwide_gross'] - df_expanded['production_budget']"
   ]
  },
  {
   "cell_type": "markdown",
   "metadata": {},
   "source": [
    "Render the head of the new data frame."
   ]
  },
  {
   "cell_type": "code",
   "execution_count": 114,
   "metadata": {},
   "outputs": [
    {
     "data": {
      "text/html": [
       "<div>\n",
       "<style scoped>\n",
       "    .dataframe tbody tr th:only-of-type {\n",
       "        vertical-align: middle;\n",
       "    }\n",
       "\n",
       "    .dataframe tbody tr th {\n",
       "        vertical-align: top;\n",
       "    }\n",
       "\n",
       "    .dataframe thead th {\n",
       "        text-align: right;\n",
       "    }\n",
       "</style>\n",
       "<table border=\"1\" class=\"dataframe\">\n",
       "  <thead>\n",
       "    <tr style=\"text-align: right;\">\n",
       "      <th></th>\n",
       "      <th>title</th>\n",
       "      <th>genres</th>\n",
       "      <th>average_rating</th>\n",
       "      <th>production_budget</th>\n",
       "      <th>domestic_gross</th>\n",
       "      <th>worldwide_gross</th>\n",
       "      <th>domestic_profit</th>\n",
       "      <th>worldwide_profit</th>\n",
       "    </tr>\n",
       "  </thead>\n",
       "  <tbody>\n",
       "    <tr>\n",
       "      <th>0</th>\n",
       "      <td>On the Road</td>\n",
       "      <td>Adventure,Drama,Romance</td>\n",
       "      <td>6.1</td>\n",
       "      <td>25000000</td>\n",
       "      <td>720828</td>\n",
       "      <td>9313302</td>\n",
       "      <td>-24279172</td>\n",
       "      <td>-15686698</td>\n",
       "    </tr>\n",
       "    <tr>\n",
       "      <th>1</th>\n",
       "      <td>The Secret Life of Walter Mitty</td>\n",
       "      <td>Adventure,Comedy,Drama</td>\n",
       "      <td>7.3</td>\n",
       "      <td>91000000</td>\n",
       "      <td>58236838</td>\n",
       "      <td>187861183</td>\n",
       "      <td>-32763162</td>\n",
       "      <td>96861183</td>\n",
       "    </tr>\n",
       "    <tr>\n",
       "      <th>2</th>\n",
       "      <td>A Walk Among the Tombstones</td>\n",
       "      <td>Action,Crime,Drama</td>\n",
       "      <td>6.5</td>\n",
       "      <td>28000000</td>\n",
       "      <td>26017685</td>\n",
       "      <td>62108587</td>\n",
       "      <td>-1982315</td>\n",
       "      <td>34108587</td>\n",
       "    </tr>\n",
       "    <tr>\n",
       "      <th>3</th>\n",
       "      <td>Jurassic World</td>\n",
       "      <td>Action,Adventure,Sci-Fi</td>\n",
       "      <td>7.0</td>\n",
       "      <td>215000000</td>\n",
       "      <td>652270625</td>\n",
       "      <td>1648854864</td>\n",
       "      <td>437270625</td>\n",
       "      <td>1433854864</td>\n",
       "    </tr>\n",
       "    <tr>\n",
       "      <th>4</th>\n",
       "      <td>The Rum Diary</td>\n",
       "      <td>Comedy,Drama</td>\n",
       "      <td>6.2</td>\n",
       "      <td>45000000</td>\n",
       "      <td>13109815</td>\n",
       "      <td>21544732</td>\n",
       "      <td>-31890185</td>\n",
       "      <td>-23455268</td>\n",
       "    </tr>\n",
       "  </tbody>\n",
       "</table>\n",
       "</div>"
      ],
      "text/plain": [
       "                             title                   genres  average_rating  \\\n",
       "0                      On the Road  Adventure,Drama,Romance             6.1   \n",
       "1  The Secret Life of Walter Mitty   Adventure,Comedy,Drama             7.3   \n",
       "2      A Walk Among the Tombstones       Action,Crime,Drama             6.5   \n",
       "3                   Jurassic World  Action,Adventure,Sci-Fi             7.0   \n",
       "4                    The Rum Diary             Comedy,Drama             6.2   \n",
       "\n",
       "   production_budget  domestic_gross  worldwide_gross  domestic_profit  \\\n",
       "0           25000000          720828          9313302        -24279172   \n",
       "1           91000000        58236838        187861183        -32763162   \n",
       "2           28000000        26017685         62108587         -1982315   \n",
       "3          215000000       652270625       1648854864        437270625   \n",
       "4           45000000        13109815         21544732        -31890185   \n",
       "\n",
       "   worldwide_profit  \n",
       "0         -15686698  \n",
       "1          96861183  \n",
       "2          34108587  \n",
       "3        1433854864  \n",
       "4         -23455268  "
      ]
     },
     "execution_count": 114,
     "metadata": {},
     "output_type": "execute_result"
    }
   ],
   "source": [
    "df_expanded.head()"
   ]
  },
  {
   "cell_type": "markdown",
   "metadata": {},
   "source": [
    "Instantiate a new column to observe the difference between domestic gross and production budget as a percentage of production budget."
   ]
  },
  {
   "cell_type": "code",
   "execution_count": 115,
   "metadata": {},
   "outputs": [],
   "source": [
    "df_expanded['domestic_roi'] = (df_expanded['domestic_profit'] / df_expanded['production_budget']) * 100"
   ]
  },
  {
   "cell_type": "markdown",
   "metadata": {},
   "source": [
    "Render the head of the new data frame."
   ]
  },
  {
   "cell_type": "code",
   "execution_count": 116,
   "metadata": {},
   "outputs": [
    {
     "data": {
      "text/html": [
       "<div>\n",
       "<style scoped>\n",
       "    .dataframe tbody tr th:only-of-type {\n",
       "        vertical-align: middle;\n",
       "    }\n",
       "\n",
       "    .dataframe tbody tr th {\n",
       "        vertical-align: top;\n",
       "    }\n",
       "\n",
       "    .dataframe thead th {\n",
       "        text-align: right;\n",
       "    }\n",
       "</style>\n",
       "<table border=\"1\" class=\"dataframe\">\n",
       "  <thead>\n",
       "    <tr style=\"text-align: right;\">\n",
       "      <th></th>\n",
       "      <th>title</th>\n",
       "      <th>genres</th>\n",
       "      <th>average_rating</th>\n",
       "      <th>production_budget</th>\n",
       "      <th>domestic_gross</th>\n",
       "      <th>worldwide_gross</th>\n",
       "      <th>domestic_profit</th>\n",
       "      <th>worldwide_profit</th>\n",
       "      <th>domestic_roi</th>\n",
       "    </tr>\n",
       "  </thead>\n",
       "  <tbody>\n",
       "    <tr>\n",
       "      <th>0</th>\n",
       "      <td>On the Road</td>\n",
       "      <td>Adventure,Drama,Romance</td>\n",
       "      <td>6.1</td>\n",
       "      <td>25000000</td>\n",
       "      <td>720828</td>\n",
       "      <td>9313302</td>\n",
       "      <td>-24279172</td>\n",
       "      <td>-15686698</td>\n",
       "      <td>-97.116688</td>\n",
       "    </tr>\n",
       "    <tr>\n",
       "      <th>1</th>\n",
       "      <td>The Secret Life of Walter Mitty</td>\n",
       "      <td>Adventure,Comedy,Drama</td>\n",
       "      <td>7.3</td>\n",
       "      <td>91000000</td>\n",
       "      <td>58236838</td>\n",
       "      <td>187861183</td>\n",
       "      <td>-32763162</td>\n",
       "      <td>96861183</td>\n",
       "      <td>-36.003475</td>\n",
       "    </tr>\n",
       "    <tr>\n",
       "      <th>2</th>\n",
       "      <td>A Walk Among the Tombstones</td>\n",
       "      <td>Action,Crime,Drama</td>\n",
       "      <td>6.5</td>\n",
       "      <td>28000000</td>\n",
       "      <td>26017685</td>\n",
       "      <td>62108587</td>\n",
       "      <td>-1982315</td>\n",
       "      <td>34108587</td>\n",
       "      <td>-7.079696</td>\n",
       "    </tr>\n",
       "    <tr>\n",
       "      <th>3</th>\n",
       "      <td>Jurassic World</td>\n",
       "      <td>Action,Adventure,Sci-Fi</td>\n",
       "      <td>7.0</td>\n",
       "      <td>215000000</td>\n",
       "      <td>652270625</td>\n",
       "      <td>1648854864</td>\n",
       "      <td>437270625</td>\n",
       "      <td>1433854864</td>\n",
       "      <td>203.381686</td>\n",
       "    </tr>\n",
       "    <tr>\n",
       "      <th>4</th>\n",
       "      <td>The Rum Diary</td>\n",
       "      <td>Comedy,Drama</td>\n",
       "      <td>6.2</td>\n",
       "      <td>45000000</td>\n",
       "      <td>13109815</td>\n",
       "      <td>21544732</td>\n",
       "      <td>-31890185</td>\n",
       "      <td>-23455268</td>\n",
       "      <td>-70.867078</td>\n",
       "    </tr>\n",
       "  </tbody>\n",
       "</table>\n",
       "</div>"
      ],
      "text/plain": [
       "                             title                   genres  average_rating  \\\n",
       "0                      On the Road  Adventure,Drama,Romance             6.1   \n",
       "1  The Secret Life of Walter Mitty   Adventure,Comedy,Drama             7.3   \n",
       "2      A Walk Among the Tombstones       Action,Crime,Drama             6.5   \n",
       "3                   Jurassic World  Action,Adventure,Sci-Fi             7.0   \n",
       "4                    The Rum Diary             Comedy,Drama             6.2   \n",
       "\n",
       "   production_budget  domestic_gross  worldwide_gross  domestic_profit  \\\n",
       "0           25000000          720828          9313302        -24279172   \n",
       "1           91000000        58236838        187861183        -32763162   \n",
       "2           28000000        26017685         62108587         -1982315   \n",
       "3          215000000       652270625       1648854864        437270625   \n",
       "4           45000000        13109815         21544732        -31890185   \n",
       "\n",
       "   worldwide_profit  domestic_roi  \n",
       "0         -15686698    -97.116688  \n",
       "1          96861183    -36.003475  \n",
       "2          34108587     -7.079696  \n",
       "3        1433854864    203.381686  \n",
       "4         -23455268    -70.867078  "
      ]
     },
     "execution_count": 116,
     "metadata": {},
     "output_type": "execute_result"
    }
   ],
   "source": [
    "df_expanded.head()"
   ]
  },
  {
   "cell_type": "markdown",
   "metadata": {},
   "source": [
    "Instantiate a new column to observe the difference between worldwide gross and production budget as a percentage of production budget."
   ]
  },
  {
   "cell_type": "code",
   "execution_count": 117,
   "metadata": {},
   "outputs": [],
   "source": [
    "df_expanded['worldwide_roi'] = (df_expanded['worldwide_profit'] / df_expanded['production_budget']) * 100"
   ]
  },
  {
   "cell_type": "markdown",
   "metadata": {},
   "source": [
    "Render the head of the new data frame."
   ]
  },
  {
   "cell_type": "code",
   "execution_count": 118,
   "metadata": {
    "scrolled": false
   },
   "outputs": [
    {
     "data": {
      "text/html": [
       "<div>\n",
       "<style scoped>\n",
       "    .dataframe tbody tr th:only-of-type {\n",
       "        vertical-align: middle;\n",
       "    }\n",
       "\n",
       "    .dataframe tbody tr th {\n",
       "        vertical-align: top;\n",
       "    }\n",
       "\n",
       "    .dataframe thead th {\n",
       "        text-align: right;\n",
       "    }\n",
       "</style>\n",
       "<table border=\"1\" class=\"dataframe\">\n",
       "  <thead>\n",
       "    <tr style=\"text-align: right;\">\n",
       "      <th></th>\n",
       "      <th>title</th>\n",
       "      <th>genres</th>\n",
       "      <th>average_rating</th>\n",
       "      <th>production_budget</th>\n",
       "      <th>domestic_gross</th>\n",
       "      <th>worldwide_gross</th>\n",
       "      <th>domestic_profit</th>\n",
       "      <th>worldwide_profit</th>\n",
       "      <th>domestic_roi</th>\n",
       "      <th>worldwide_roi</th>\n",
       "    </tr>\n",
       "  </thead>\n",
       "  <tbody>\n",
       "    <tr>\n",
       "      <th>0</th>\n",
       "      <td>On the Road</td>\n",
       "      <td>Adventure,Drama,Romance</td>\n",
       "      <td>6.1</td>\n",
       "      <td>25000000</td>\n",
       "      <td>720828</td>\n",
       "      <td>9313302</td>\n",
       "      <td>-24279172</td>\n",
       "      <td>-15686698</td>\n",
       "      <td>-97.116688</td>\n",
       "      <td>-62.746792</td>\n",
       "    </tr>\n",
       "    <tr>\n",
       "      <th>1</th>\n",
       "      <td>The Secret Life of Walter Mitty</td>\n",
       "      <td>Adventure,Comedy,Drama</td>\n",
       "      <td>7.3</td>\n",
       "      <td>91000000</td>\n",
       "      <td>58236838</td>\n",
       "      <td>187861183</td>\n",
       "      <td>-32763162</td>\n",
       "      <td>96861183</td>\n",
       "      <td>-36.003475</td>\n",
       "      <td>106.440860</td>\n",
       "    </tr>\n",
       "    <tr>\n",
       "      <th>2</th>\n",
       "      <td>A Walk Among the Tombstones</td>\n",
       "      <td>Action,Crime,Drama</td>\n",
       "      <td>6.5</td>\n",
       "      <td>28000000</td>\n",
       "      <td>26017685</td>\n",
       "      <td>62108587</td>\n",
       "      <td>-1982315</td>\n",
       "      <td>34108587</td>\n",
       "      <td>-7.079696</td>\n",
       "      <td>121.816382</td>\n",
       "    </tr>\n",
       "    <tr>\n",
       "      <th>3</th>\n",
       "      <td>Jurassic World</td>\n",
       "      <td>Action,Adventure,Sci-Fi</td>\n",
       "      <td>7.0</td>\n",
       "      <td>215000000</td>\n",
       "      <td>652270625</td>\n",
       "      <td>1648854864</td>\n",
       "      <td>437270625</td>\n",
       "      <td>1433854864</td>\n",
       "      <td>203.381686</td>\n",
       "      <td>666.909239</td>\n",
       "    </tr>\n",
       "    <tr>\n",
       "      <th>4</th>\n",
       "      <td>The Rum Diary</td>\n",
       "      <td>Comedy,Drama</td>\n",
       "      <td>6.2</td>\n",
       "      <td>45000000</td>\n",
       "      <td>13109815</td>\n",
       "      <td>21544732</td>\n",
       "      <td>-31890185</td>\n",
       "      <td>-23455268</td>\n",
       "      <td>-70.867078</td>\n",
       "      <td>-52.122818</td>\n",
       "    </tr>\n",
       "  </tbody>\n",
       "</table>\n",
       "</div>"
      ],
      "text/plain": [
       "                             title                   genres  average_rating  \\\n",
       "0                      On the Road  Adventure,Drama,Romance             6.1   \n",
       "1  The Secret Life of Walter Mitty   Adventure,Comedy,Drama             7.3   \n",
       "2      A Walk Among the Tombstones       Action,Crime,Drama             6.5   \n",
       "3                   Jurassic World  Action,Adventure,Sci-Fi             7.0   \n",
       "4                    The Rum Diary             Comedy,Drama             6.2   \n",
       "\n",
       "   production_budget  domestic_gross  worldwide_gross  domestic_profit  \\\n",
       "0           25000000          720828          9313302        -24279172   \n",
       "1           91000000        58236838        187861183        -32763162   \n",
       "2           28000000        26017685         62108587         -1982315   \n",
       "3          215000000       652270625       1648854864        437270625   \n",
       "4           45000000        13109815         21544732        -31890185   \n",
       "\n",
       "   worldwide_profit  domestic_roi  worldwide_roi  \n",
       "0         -15686698    -97.116688     -62.746792  \n",
       "1          96861183    -36.003475     106.440860  \n",
       "2          34108587     -7.079696     121.816382  \n",
       "3        1433854864    203.381686     666.909239  \n",
       "4         -23455268    -70.867078     -52.122818  "
      ]
     },
     "execution_count": 118,
     "metadata": {},
     "output_type": "execute_result"
    }
   ],
   "source": [
    "df_expanded.head()"
   ]
  },
  {
   "cell_type": "markdown",
   "metadata": {},
   "source": [
    "Sort the new data frame by highest return on investment."
   ]
  },
  {
   "cell_type": "code",
   "execution_count": 119,
   "metadata": {},
   "outputs": [
    {
     "data": {
      "text/html": [
       "<div>\n",
       "<style scoped>\n",
       "    .dataframe tbody tr th:only-of-type {\n",
       "        vertical-align: middle;\n",
       "    }\n",
       "\n",
       "    .dataframe tbody tr th {\n",
       "        vertical-align: top;\n",
       "    }\n",
       "\n",
       "    .dataframe thead th {\n",
       "        text-align: right;\n",
       "    }\n",
       "</style>\n",
       "<table border=\"1\" class=\"dataframe\">\n",
       "  <thead>\n",
       "    <tr style=\"text-align: right;\">\n",
       "      <th></th>\n",
       "      <th>average_rating</th>\n",
       "      <th>production_budget</th>\n",
       "      <th>domestic_gross</th>\n",
       "      <th>worldwide_gross</th>\n",
       "      <th>domestic_profit</th>\n",
       "      <th>worldwide_profit</th>\n",
       "      <th>domestic_roi</th>\n",
       "      <th>worldwide_roi</th>\n",
       "    </tr>\n",
       "    <tr>\n",
       "      <th>genres</th>\n",
       "      <th></th>\n",
       "      <th></th>\n",
       "      <th></th>\n",
       "      <th></th>\n",
       "      <th></th>\n",
       "      <th></th>\n",
       "      <th></th>\n",
       "      <th></th>\n",
       "    </tr>\n",
       "  </thead>\n",
       "  <tbody>\n",
       "    <tr>\n",
       "      <th>Adventure,Drama,Sci-Fi</th>\n",
       "      <td>8.300000</td>\n",
       "      <td>1.365000e+08</td>\n",
       "      <td>2.082258e+08</td>\n",
       "      <td>6.608254e+08</td>\n",
       "      <td>7.172578e+07</td>\n",
       "      <td>5.243254e+08</td>\n",
       "      <td>62.731445</td>\n",
       "      <td>405.299553</td>\n",
       "    </tr>\n",
       "    <tr>\n",
       "      <th>Action,Adventure,Sci-Fi</th>\n",
       "      <td>6.909302</td>\n",
       "      <td>1.730605e+08</td>\n",
       "      <td>2.526724e+08</td>\n",
       "      <td>6.855861e+08</td>\n",
       "      <td>7.961195e+07</td>\n",
       "      <td>5.125256e+08</td>\n",
       "      <td>57.742710</td>\n",
       "      <td>307.159202</td>\n",
       "    </tr>\n",
       "    <tr>\n",
       "      <th>Comedy,Mystery</th>\n",
       "      <td>6.500000</td>\n",
       "      <td>8.000000e+07</td>\n",
       "      <td>2.544643e+08</td>\n",
       "      <td>5.864643e+08</td>\n",
       "      <td>1.744643e+08</td>\n",
       "      <td>5.064643e+08</td>\n",
       "      <td>218.080381</td>\n",
       "      <td>633.080381</td>\n",
       "    </tr>\n",
       "    <tr>\n",
       "      <th>Adventure,Fantasy</th>\n",
       "      <td>7.166667</td>\n",
       "      <td>2.316667e+08</td>\n",
       "      <td>1.928914e+08</td>\n",
       "      <td>7.012107e+08</td>\n",
       "      <td>-3.877525e+07</td>\n",
       "      <td>4.695440e+08</td>\n",
       "      <td>-20.391934</td>\n",
       "      <td>187.918683</td>\n",
       "    </tr>\n",
       "    <tr>\n",
       "      <th>Animation,Comedy,Family</th>\n",
       "      <td>7.120000</td>\n",
       "      <td>6.960000e+07</td>\n",
       "      <td>1.750288e+08</td>\n",
       "      <td>4.214153e+08</td>\n",
       "      <td>1.054288e+08</td>\n",
       "      <td>3.518153e+08</td>\n",
       "      <td>140.408866</td>\n",
       "      <td>474.764961</td>\n",
       "    </tr>\n",
       "  </tbody>\n",
       "</table>\n",
       "</div>"
      ],
      "text/plain": [
       "                         average_rating  production_budget  domestic_gross  \\\n",
       "genres                                                                       \n",
       "Adventure,Drama,Sci-Fi         8.300000       1.365000e+08    2.082258e+08   \n",
       "Action,Adventure,Sci-Fi        6.909302       1.730605e+08    2.526724e+08   \n",
       "Comedy,Mystery                 6.500000       8.000000e+07    2.544643e+08   \n",
       "Adventure,Fantasy              7.166667       2.316667e+08    1.928914e+08   \n",
       "Animation,Comedy,Family        7.120000       6.960000e+07    1.750288e+08   \n",
       "\n",
       "                         worldwide_gross  domestic_profit  worldwide_profit  \\\n",
       "genres                                                                        \n",
       "Adventure,Drama,Sci-Fi      6.608254e+08     7.172578e+07      5.243254e+08   \n",
       "Action,Adventure,Sci-Fi     6.855861e+08     7.961195e+07      5.125256e+08   \n",
       "Comedy,Mystery              5.864643e+08     1.744643e+08      5.064643e+08   \n",
       "Adventure,Fantasy           7.012107e+08    -3.877525e+07      4.695440e+08   \n",
       "Animation,Comedy,Family     4.214153e+08     1.054288e+08      3.518153e+08   \n",
       "\n",
       "                         domestic_roi  worldwide_roi  \n",
       "genres                                                \n",
       "Adventure,Drama,Sci-Fi      62.731445     405.299553  \n",
       "Action,Adventure,Sci-Fi     57.742710     307.159202  \n",
       "Comedy,Mystery             218.080381     633.080381  \n",
       "Adventure,Fantasy          -20.391934     187.918683  \n",
       "Animation,Comedy,Family    140.408866     474.764961  "
      ]
     },
     "execution_count": 119,
     "metadata": {},
     "output_type": "execute_result"
    }
   ],
   "source": [
    "df_expanded.groupby(by='genres').mean().sort_values(by='worldwide_profit', ascending=False).head()"
   ]
  },
  {
   "cell_type": "markdown",
   "metadata": {},
   "source": [
    "Sort the new data frame by highest percent return on investment."
   ]
  },
  {
   "cell_type": "code",
   "execution_count": 120,
   "metadata": {},
   "outputs": [
    {
     "data": {
      "text/html": [
       "<div>\n",
       "<style scoped>\n",
       "    .dataframe tbody tr th:only-of-type {\n",
       "        vertical-align: middle;\n",
       "    }\n",
       "\n",
       "    .dataframe tbody tr th {\n",
       "        vertical-align: top;\n",
       "    }\n",
       "\n",
       "    .dataframe thead th {\n",
       "        text-align: right;\n",
       "    }\n",
       "</style>\n",
       "<table border=\"1\" class=\"dataframe\">\n",
       "  <thead>\n",
       "    <tr style=\"text-align: right;\">\n",
       "      <th></th>\n",
       "      <th>average_rating</th>\n",
       "      <th>production_budget</th>\n",
       "      <th>domestic_gross</th>\n",
       "      <th>worldwide_gross</th>\n",
       "      <th>domestic_profit</th>\n",
       "      <th>worldwide_profit</th>\n",
       "      <th>domestic_roi</th>\n",
       "      <th>worldwide_roi</th>\n",
       "    </tr>\n",
       "    <tr>\n",
       "      <th>genres</th>\n",
       "      <th></th>\n",
       "      <th></th>\n",
       "      <th></th>\n",
       "      <th></th>\n",
       "      <th></th>\n",
       "      <th></th>\n",
       "      <th></th>\n",
       "      <th></th>\n",
       "    </tr>\n",
       "  </thead>\n",
       "  <tbody>\n",
       "    <tr>\n",
       "      <th>Horror,Mystery,Thriller</th>\n",
       "      <td>5.5</td>\n",
       "      <td>7.888462e+06</td>\n",
       "      <td>5.221715e+07</td>\n",
       "      <td>1.120286e+08</td>\n",
       "      <td>4.432869e+07</td>\n",
       "      <td>1.041402e+08</td>\n",
       "      <td>1808.605257</td>\n",
       "      <td>3622.796960</td>\n",
       "    </tr>\n",
       "    <tr>\n",
       "      <th>Horror</th>\n",
       "      <td>5.6</td>\n",
       "      <td>1.408333e+07</td>\n",
       "      <td>3.946409e+07</td>\n",
       "      <td>8.933283e+07</td>\n",
       "      <td>2.538076e+07</td>\n",
       "      <td>7.524950e+07</td>\n",
       "      <td>1343.344149</td>\n",
       "      <td>2783.953429</td>\n",
       "    </tr>\n",
       "    <tr>\n",
       "      <th>Adventure,Horror</th>\n",
       "      <td>5.3</td>\n",
       "      <td>1.000000e+06</td>\n",
       "      <td>7.192291e+06</td>\n",
       "      <td>1.293142e+07</td>\n",
       "      <td>6.192291e+06</td>\n",
       "      <td>1.193142e+07</td>\n",
       "      <td>619.229100</td>\n",
       "      <td>1193.142000</td>\n",
       "    </tr>\n",
       "    <tr>\n",
       "      <th>Comedy,Documentary</th>\n",
       "      <td>6.8</td>\n",
       "      <td>2.500000e+06</td>\n",
       "      <td>3.224405e+07</td>\n",
       "      <td>3.232726e+07</td>\n",
       "      <td>2.974405e+07</td>\n",
       "      <td>2.982726e+07</td>\n",
       "      <td>1189.762040</td>\n",
       "      <td>1193.090200</td>\n",
       "    </tr>\n",
       "    <tr>\n",
       "      <th>Biography,Drama,Fantasy</th>\n",
       "      <td>5.4</td>\n",
       "      <td>3.500000e+06</td>\n",
       "      <td>2.509182e+07</td>\n",
       "      <td>4.437804e+07</td>\n",
       "      <td>2.159182e+07</td>\n",
       "      <td>4.087804e+07</td>\n",
       "      <td>616.909029</td>\n",
       "      <td>1167.944000</td>\n",
       "    </tr>\n",
       "  </tbody>\n",
       "</table>\n",
       "</div>"
      ],
      "text/plain": [
       "                         average_rating  production_budget  domestic_gross  \\\n",
       "genres                                                                       \n",
       "Horror,Mystery,Thriller             5.5       7.888462e+06    5.221715e+07   \n",
       "Horror                              5.6       1.408333e+07    3.946409e+07   \n",
       "Adventure,Horror                    5.3       1.000000e+06    7.192291e+06   \n",
       "Comedy,Documentary                  6.8       2.500000e+06    3.224405e+07   \n",
       "Biography,Drama,Fantasy             5.4       3.500000e+06    2.509182e+07   \n",
       "\n",
       "                         worldwide_gross  domestic_profit  worldwide_profit  \\\n",
       "genres                                                                        \n",
       "Horror,Mystery,Thriller     1.120286e+08     4.432869e+07      1.041402e+08   \n",
       "Horror                      8.933283e+07     2.538076e+07      7.524950e+07   \n",
       "Adventure,Horror            1.293142e+07     6.192291e+06      1.193142e+07   \n",
       "Comedy,Documentary          3.232726e+07     2.974405e+07      2.982726e+07   \n",
       "Biography,Drama,Fantasy     4.437804e+07     2.159182e+07      4.087804e+07   \n",
       "\n",
       "                         domestic_roi  worldwide_roi  \n",
       "genres                                                \n",
       "Horror,Mystery,Thriller   1808.605257    3622.796960  \n",
       "Horror                    1343.344149    2783.953429  \n",
       "Adventure,Horror           619.229100    1193.142000  \n",
       "Comedy,Documentary        1189.762040    1193.090200  \n",
       "Biography,Drama,Fantasy    616.909029    1167.944000  "
      ]
     },
     "execution_count": 120,
     "metadata": {},
     "output_type": "execute_result"
    }
   ],
   "source": [
    "df_expanded.groupby(by='genres').mean().sort_values(by='worldwide_roi', ascending=False).head()"
   ]
  },
  {
   "cell_type": "markdown",
   "metadata": {},
   "source": [
    "***\n",
    "## Data Modeling"
   ]
  },
  {
   "cell_type": "markdown",
   "metadata": {},
   "source": [
    "Instantiate a new data frame to group movies by genre, take the means of those genres,<br>and sort them in descending order by worldwide profit."
   ]
  },
  {
   "cell_type": "code",
   "execution_count": 121,
   "metadata": {},
   "outputs": [],
   "source": [
    "df_expanded_roi = df_expanded.groupby(by='genres').mean().sort_values(by='worldwide_profit', ascending=False)"
   ]
  },
  {
   "cell_type": "markdown",
   "metadata": {},
   "source": [
    "Instantiate a new data frame to take the head of the previous data frame."
   ]
  },
  {
   "cell_type": "code",
   "execution_count": 122,
   "metadata": {},
   "outputs": [],
   "source": [
    "df_expanded_roi_top = df_expanded_roi.head()"
   ]
  },
  {
   "cell_type": "markdown",
   "metadata": {},
   "source": [
    "Instantiate a new data frame to group movies by genre, take the means of those genres,<br>and sort them in descending order by worldwide return on investment."
   ]
  },
  {
   "cell_type": "code",
   "execution_count": 123,
   "metadata": {},
   "outputs": [],
   "source": [
    "df_expanded_roi_perc = df_expanded.groupby(by='genres').mean().sort_values(by='worldwide_roi', ascending=False)"
   ]
  },
  {
   "cell_type": "markdown",
   "metadata": {},
   "source": [
    "Instantiate a new data frame to take the head of the previous data frame."
   ]
  },
  {
   "cell_type": "code",
   "execution_count": 124,
   "metadata": {},
   "outputs": [],
   "source": [
    "df_expanded_roi_perc_top = df_expanded_roi_perc.head()"
   ]
  },
  {
   "cell_type": "markdown",
   "metadata": {},
   "source": [
    "### Top 5 Worldwide Profit by Genre"
   ]
  },
  {
   "cell_type": "markdown",
   "metadata": {},
   "source": [
    "Generate a bar chart to illustrate how different categories of data compare to the same variable.<br>Specifically, demonstrate the worldwide profit in hundreds of millions of dollars by genre."
   ]
  },
  {
   "cell_type": "code",
   "execution_count": 125,
   "metadata": {},
   "outputs": [
    {
     "name": "stderr",
     "output_type": "stream",
     "text": [
      "<ipython-input-125-ad13a9776dc1>:9: UserWarning: FixedFormatter should only be used together with FixedLocator\n",
      "  roi_barplot.set_yticklabels(['0', '$100', '$200', '$300', '$400', '$500']);\n"
     ]
    },
    {
     "data": {
      "image/png": "[encoded data removed]",
      "text/plain": [
       "<Figure size 432x288 with 1 Axes>"
      ]
     },
     "metadata": {
      "needs_background": "light"
     },
     "output_type": "display_data"
    }
   ],
   "source": [
    "genres_roi = df_expanded_roi_top.index\n",
    "wwroi = df_expanded_roi_top['worldwide_profit']\n",
    "\n",
    "roi_barplot = sns.barplot(x = genres_roi, y = wwroi, edgecolor='black')\n",
    "roi_barplot.set_xlabel('Genres')\n",
    "roi_barplot.set_ylabel('Worldwide Profit in Millions of Dollars')\n",
    "roi_barplot.set_title('Top 5 Worldwide Profit Margin by Genre')\n",
    "roi_barplot.set_xticklabels(genres_roi, rotation=45, horizontalalignment='right')\n",
    "roi_barplot.set_yticklabels(['0', '$100', '$200', '$300', '$400', '$500']);"
   ]
  },
  {
   "cell_type": "markdown",
   "metadata": {},
   "source": [
    "### Top 5 Worldwide Percent Return on Investment by Genre"
   ]
  },
  {
   "cell_type": "markdown",
   "metadata": {},
   "source": [
    "Generate a bar chart to illustrate how different categories of data compare to the same variable.<br>Specifically, demonstrate the worldwide eturn on investment in hundreds of millions of dollars by genre."
   ]
  },
  {
   "cell_type": "code",
   "execution_count": 126,
   "metadata": {},
   "outputs": [
    {
     "name": "stderr",
     "output_type": "stream",
     "text": [
      "<ipython-input-126-411eebd2645e>:9: UserWarning: FixedFormatter should only be used together with FixedLocator\n",
      "  roip_barplot.set_yticklabels(['0%', '500%', '1000%', '1500%', '2000%', '2500%', '3000%', '3500%']);\n"
     ]
    },
    {
     "data": {
      "image/png": "[encoded data removed]",
      "text/plain": [
       "<Figure size 432x288 with 1 Axes>"
      ]
     },
     "metadata": {
      "needs_background": "light"
     },
     "output_type": "display_data"
    }
   ],
   "source": [
    "genres_roip = df_expanded_roi_perc_top.index\n",
    "wwroip = df_expanded_roi_perc_top['worldwide_roi']\n",
    "\n",
    "roip_barplot = sns.barplot(x = genres_roip, y = wwroip, edgecolor='black')\n",
    "roip_barplot.set_xlabel('Genres')\n",
    "roip_barplot.set_ylabel('Worldwide Return on Investment')\n",
    "roip_barplot.set_title('Top 5 Worldwide ROI by Genre')\n",
    "roip_barplot.set_xticklabels(genres_roip, rotation=45, horizontalalignment='right')\n",
    "roip_barplot.set_yticklabels(['0%', '500%', '1000%', '1500%', '2000%', '2500%', '3000%', '3500%']);"
   ]
  },
  {
   "cell_type": "markdown",
   "metadata": {},
   "source": [
    "### Visualization Exploration"
   ]
  },
  {
   "cell_type": "markdown",
   "metadata": {},
   "source": [
    "The next several sections of code explore various visualizations of the above data<br>for their usefulness in research delivery."
   ]
  },
  {
   "cell_type": "code",
   "execution_count": 127,
   "metadata": {
    "scrolled": false
   },
   "outputs": [
    {
     "name": "stderr",
     "output_type": "stream",
     "text": [
      "<ipython-input-127-0d95ca202bde>:8: UserWarning: FixedFormatter should only be used together with FixedLocator\n",
      "  roi_budgets.set_yticklabels(['$0', '$150', '$100', '$150', '$200'])\n",
      "<ipython-input-127-0d95ca202bde>:16: UserWarning: FixedFormatter should only be used together with FixedLocator\n",
      "  roip_budgets.set_yticklabels(['$0', '$150', '$100', '$150', '$200'])\n"
     ]
    },
    {
     "data": {
      "image/png": "[encoded data removed]",
      "text/plain": [
       "<Figure size 1152x576 with 2 Axes>"
      ]
     },
     "metadata": {
      "needs_background": "light"
     },
     "output_type": "display_data"
    }
   ],
   "source": [
    "f, (ax1, ax2) = plt.subplots(1, 2, figsize=(16, 8), sharey=True)\n",
    "\n",
    "roi_budgets = sns.barplot(x=genres_roi, y=df_expanded_roi_top['production_budget'], ax=ax1, edgecolor='black')\n",
    "roi_budgets.set_xlabel('Genres')\n",
    "roi_budgets.set_ylabel('Production Budgets in Millions of Dollars')\n",
    "roi_budgets.set_title('Production Budgets of the Top 5 Genres by Profit Margin')\n",
    "roi_budgets.set_xticklabels(genres_roi, rotation=45, horizontalalignment='right')\n",
    "roi_budgets.set_yticklabels(['$0', '$150', '$100', '$150', '$200'])\n",
    "roi_budgets.tick_params(labelleft=True)\n",
    "\n",
    "roip_budgets = sns.barplot(x=genres_roip, y=df_expanded_roi_perc_top['production_budget'], ax=ax2, edgecolor='black')\n",
    "roip_budgets.set_xlabel('Genres')\n",
    "roip_budgets.set_ylabel('Production Budgets in Millions of Dollars')\n",
    "roip_budgets.set_title('Production Budgets of the Top 5 Genres by ROI')\n",
    "roip_budgets.set_xticklabels(genres_roip, rotation=45, horizontalalignment='right')\n",
    "roip_budgets.set_yticklabels(['$0', '$150', '$100', '$150', '$200'])\n",
    "roip_budgets.tick_params(labelleft=True);\n",
    "\n",
    "plt.tight_layout()"
   ]
  },
  {
   "cell_type": "code",
   "execution_count": 128,
   "metadata": {},
   "outputs": [
    {
     "name": "stdout",
     "output_type": "stream",
     "text": [
      "['#1f77b4', '#ff7f0e', '#2ca02c', '#d62728', '#9467bd', '#8c564b', '#e377c2', '#7f7f7f', '#bcbd22', '#17becf']\n"
     ]
    }
   ],
   "source": [
    "pal = sns.color_palette()\n",
    "print(pal.as_hex())"
   ]
  },
  {
   "cell_type": "code",
   "execution_count": 129,
   "metadata": {},
   "outputs": [
    {
     "name": "stderr",
     "output_type": "stream",
     "text": [
      "<ipython-input-129-d4c216329762>:18: UserWarning: FixedFormatter should only be used together with FixedLocator\n",
      "  roip_budgets.set_yticklabels(['$0', '$150', '$100', '$150', '$200'])\n",
      "<ipython-input-129-d4c216329762>:26: UserWarning: FixedFormatter should only be used together with FixedLocator\n",
      "  roi_budgets.set_yticklabels(['$0', '$150', '$100', '$150', '$200'])\n",
      "<ipython-input-129-d4c216329762>:34: UserWarning: FixedFormatter should only be used together with FixedLocator\n",
      "  roip_barplot.set_yticklabels(['0', '$100', '$200', '$300', '$400', '$500'])\n",
      "<ipython-input-129-d4c216329762>:42: UserWarning: FixedFormatter should only be used together with FixedLocator\n",
      "  roi_barplot.set_yticklabels(['0', '$100', '$200', '$300', '$400', '$500'])\n",
      "<ipython-input-129-d4c216329762>:50: UserWarning: FixedFormatter should only be used together with FixedLocator\n",
      "  roip_barplot.set_yticklabels(['0%', '500%', '1000%', '1500%', '2000%', '2500%', '3000%', '3500%'])\n",
      "<ipython-input-129-d4c216329762>:58: UserWarning: FixedFormatter should only be used together with FixedLocator\n",
      "  roi_barplot.set_yticklabels(['0%', '500%', '1000%', '1500%', '2000%', '2500%', '3000%', '3500%'])\n"
     ]
    },
    {
     "data": {
      "image/png": "[encoded data removed]",
      "text/plain": [
       "<Figure size 1152x1728 with 6 Axes>"
      ]
     },
     "metadata": {
      "needs_background": "light"
     },
     "output_type": "display_data"
    }
   ],
   "source": [
    "f, ((ax1, ax2), (ax3, ax4), (ax5, ax6)) = plt.subplots(nrows=3, ncols=2, figsize=(16, 24), sharey='row')\n",
    "\n",
    "genres_roip = df_expanded_roi_perc_top.index\n",
    "wwroip = df_expanded_roi_perc_top['worldwide_roi']\n",
    "\n",
    "genres_roi = df_expanded_roi_top.index\n",
    "wwroi = df_expanded_roi_top['worldwide_profit']\n",
    "\n",
    "palette_one = ['#1f77b4', '#ff7f0e', '#2ca02c', '#d62728', '#9467bd']\n",
    "palette_two = ['#8c564b', '#e377c2', '#7f7f7f', '#bcbd22', '#17becf']\n",
    "\n",
    "roip_budgets = sns.barplot(x=genres_roip, y=df_expanded_roi_perc_top['production_budget'],\n",
    "                           ax=ax1, palette=palette_one, edgecolor='black')\n",
    "roip_budgets.set_xlabel('Genres')\n",
    "roip_budgets.set_ylabel('Production Budget')\n",
    "roip_budgets.set_title('Production Budgets of the Top 5 Genres by ROI')\n",
    "roip_budgets.set_xticklabels(genres_roip, rotation=45, horizontalalignment='right')\n",
    "roip_budgets.set_yticklabels(['$0', '$150', '$100', '$150', '$200'])\n",
    "\n",
    "roi_budgets = sns.barplot(x=genres_roi, y=df_expanded_roi_top['production_budget'],\n",
    "                          ax=ax2, palette=palette_two, edgecolor='black')\n",
    "roi_budgets.set_xlabel('Genres')\n",
    "roi_budgets.set_ylabel('Production Budget')\n",
    "roi_budgets.set_title('Production Budgets of the Top 5 Genres by Profit Margin')\n",
    "roi_budgets.set_xticklabels(genres_roi, rotation=45, horizontalalignment='right')\n",
    "roi_budgets.set_yticklabels(['$0', '$150', '$100', '$150', '$200'])\n",
    "\n",
    "roip_barplot = sns.barplot(x = genres_roip, y = df_expanded_roi_perc_top['worldwide_profit'],\n",
    "                           ax=ax3, palette=palette_one, edgecolor='black')\n",
    "roip_barplot.set_xlabel('Genres')\n",
    "roip_barplot.set_ylabel('Worldwide Profit Margin')\n",
    "roip_barplot.set_title('Worldwide Profit Margin of the Top 5 Genres by ROI')\n",
    "roip_barplot.set_xticklabels(genres_roip, rotation=45, horizontalalignment='right')\n",
    "roip_barplot.set_yticklabels(['0', '$100', '$200', '$300', '$400', '$500'])\n",
    "\n",
    "roi_barplot = sns.barplot(x = genres_roi, y = wwroi,\n",
    "                          ax=ax4, palette=palette_two, edgecolor='black')\n",
    "roi_barplot.set_xlabel('Genres')\n",
    "roi_barplot.set_ylabel('Worldwide Profit Margin')\n",
    "roi_barplot.set_title('Worldwide Profit Margin of the Top 5 Genres by Profit Margin')\n",
    "roi_barplot.set_xticklabels(genres_roi, rotation=45, horizontalalignment='right')\n",
    "roi_barplot.set_yticklabels(['0', '$100', '$200', '$300', '$400', '$500'])\n",
    "\n",
    "roip_barplot = sns.barplot(x = genres_roip, y = wwroip,\n",
    "                           ax=ax5, palette=palette_one, edgecolor='black')\n",
    "roip_barplot.set_xlabel('Genres')\n",
    "roip_barplot.set_ylabel('Worldwide Return on Investment')\n",
    "roip_barplot.set_title('Worldwide Return on Investment of the Top 5 Genres by ROI')\n",
    "roip_barplot.set_xticklabels(genres_roip, rotation=45, horizontalalignment='right')\n",
    "roip_barplot.set_yticklabels(['0%', '500%', '1000%', '1500%', '2000%', '2500%', '3000%', '3500%'])\n",
    "\n",
    "roi_barplot = sns.barplot(x = genres_roi, y = df_expanded_roi_top['worldwide_roi'],\n",
    "                          ax=ax6, palette=palette_two, edgecolor='black')\n",
    "roi_barplot.set_xlabel('Genres')\n",
    "roi_barplot.set_ylabel('Worldwide Return on Investment')\n",
    "roi_barplot.set_title('Worldwide Return on Investment of the Top 5 Genres by Profit Margin')\n",
    "roi_barplot.set_xticklabels(genres_roi, rotation=45, horizontalalignment='right')\n",
    "roi_barplot.set_yticklabels(['0%', '500%', '1000%', '1500%', '2000%', '2500%', '3000%', '3500%'])\n",
    "\n",
    "for axis in f.axes:\n",
    "    axis.tick_params(labelleft=True)\n",
    "\n",
    "plt.tight_layout();"
   ]
  },
  {
   "cell_type": "markdown",
   "metadata": {},
   "source": [
    "Generate two final bar plots for use in the research slides."
   ]
  },
  {
   "cell_type": "code",
   "execution_count": 130,
   "metadata": {},
   "outputs": [
    {
     "name": "stderr",
     "output_type": "stream",
     "text": [
      "<ipython-input-130-f423d3b30890>:9: UserWarning: FixedFormatter should only be used together with FixedLocator\n",
      "  roip_barplot.set_yticklabels(['0%', '500%', '1000%', '1500%', '2000%', '2500%', '3000%', '3500%'])\n",
      "<ipython-input-130-f423d3b30890>:18: UserWarning: FixedFormatter should only be used together with FixedLocator\n",
      "  roi_barplot.set_yticklabels(['0%', '500%', '1000%', '1500%', '2000%', '2500%', '3000%', '3500%'])\n"
     ]
    },
    {
     "data": {
      "image/png": "[encoded data removed]",
      "text/plain": [
       "<Figure size 1152x576 with 2 Axes>"
      ]
     },
     "metadata": {
      "needs_background": "light"
     },
     "output_type": "display_data"
    }
   ],
   "source": [
    "f, (ax1, ax2) = plt.subplots(nrows=1, ncols=2, figsize=(16, 8), sharey='row')\n",
    "\n",
    "roip_barplot = sns.barplot(x = genres_roip, y = wwroip,\n",
    "                           ax=ax1, color='tab:blue', edgecolor='black')\n",
    "roip_barplot.set_xlabel('Genres')\n",
    "roip_barplot.set_ylabel('Return on Investment')\n",
    "roip_barplot.set_title('Return on Investment of the Top 5 Genres by ROI')\n",
    "roip_barplot.set_xticklabels(genres_roip, rotation=45, horizontalalignment='right')\n",
    "roip_barplot.set_yticklabels(['0%', '500%', '1000%', '1500%', '2000%', '2500%', '3000%', '3500%'])\n",
    "roip_barplot.tick_params(labelleft=True)\n",
    "\n",
    "roi_barplot = sns.barplot(x = genres_roi, y = df_expanded_roi_top['worldwide_roi'],\n",
    "                          ax=ax2, color='tab:blue', edgecolor='black')\n",
    "roi_barplot.set_xlabel('Genres')\n",
    "roi_barplot.set_ylabel('Return on Investment')\n",
    "roi_barplot.set_title('Return on Investment of the Top 5 Genres by Profit Margin')\n",
    "roi_barplot.set_xticklabels(genres_roi, rotation=45, horizontalalignment='right')\n",
    "roi_barplot.set_yticklabels(['0%', '500%', '1000%', '1500%', '2000%', '2500%', '3000%', '3500%'])\n",
    "roi_barplot.tick_params(labelleft=True);"
   ]
  },
  {
   "cell_type": "markdown",
   "metadata": {},
   "source": [
    "***\n",
    "## Evaluation of Return on Investment"
   ]
  },
  {
   "cell_type": "markdown",
   "metadata": {},
   "source": [
    "Ultimately, the primary takeaways from exploring the relationship between movie gross and production budget,<br>in terms of profit and return on investment, are these:\n",
    " - First: that the relationship between worldwide gross and production budget demonstrates a high margin of profit<br>for movies which combine the following genres together:\n",
    "     - Adventure, Drama, and Sci-Fi\n",
    "     - Action, Adventure, and Sci-Fi\n",
    "     - Comedy and Mystery\n",
    "<br>Within these collections of genres of movies, the average margin of profit is approximately 500 million dollars.<br>\n",
    " - Second: that the relationship between worldwide gross and production budget demonstrates a high return on investment<br>for movies which combine the following genres together:\n",
    "     - Horror, Mystery, and Thriller\n",
    "     - Horror\n",
    "<br>Within these collections of genres of movies, the return on investment is<br>approximately 3622% for Horror, Mystery, and Thriller,<br>and approximately 2783% for Horror."
   ]
  },
  {
   "cell_type": "markdown",
   "metadata": {},
   "source": [
    "***\n",
    "# Conclusions\n",
    "With respect to the original propsed questions of this research, we found the following:\n",
    "* Which genres of movies do audiences like?\n",
    "    * The top-rated genres are **Documentary, Biography, and Music**\n",
    "* Is there a relationship between ratings and revenue?\n",
    "    * There is not a strong relationship, positive or negative, between ratings and revenue\n",
    "* Which genres of movies have the highest domestic gross revenue?\n",
    "    * The highest domestic-grossing genres are:\n",
    "        * **Sci-Fi**\n",
    "        * **Adventure**\n",
    "        * **Animation**\n",
    "        * **Action**\n",
    "    * Additionally, the highest domestic-grossing genres as combinations are:\n",
    "        * **Action/Adventure**\n",
    "        * **Horror/Thriller**\n",
    "* Which genres of movies have the highest return on investment?\n",
    "    * The highest ROI genre combinations are:\n",
    "        * **Horror/Mystery/Thriller**\n",
    "        * **Horror**\n",
    "* Are the highest grossing genres also the highest ROI genres?\n",
    "    * Of the highest grossing genres, the ones that have the most amount of overlap with highest ROI are:\n",
    "        * **Horror**\n",
    "        * **Thriller**\n",
    "***\n",
    "Based on our research, we recommend that Microsoft's new film studio create movies that are either **Action/Adventure** movies or **Horror/Mystery/Thriller** movies, depending on the budget of the studio and the number of films made in a given period. If Microsoft has the capacity for high-budget films, **Action/Adventure** films will make more money with respect to profit margin. If Microsoft has the capacity to work on a high volume of films at once, **Horror** and **Thriller** films will yield a significantly higher return on investment, compared to **Action/Adventure** films, but with a lower profit margin per film. After a film in these genres is released, you can expect it to receive an average rating of **6/10** if it is an **Action** or **Adventure** film, and an average rating of **5/10** if it is a **Horror** film."
   ]
  },
  {
   "cell_type": "markdown",
   "metadata": {},
   "source": [
    "***\n",
    "# Next Steps\n",
    "Moving forward, it would be worth further investigating the relationship between a film's financial success and more of the various elements of its production, including:\n",
    "* Director\n",
    "* Producer\n",
    "* Cast\n",
    "* Advertising\n",
    "* Product Delivery (Cinema versus Stream)\n",
    "* Release Date\n",
    "* Pre-existing Intellectual Property (IP)\n",
    "* Runtime\n",
    "* Merchandising"
   ]
  }
 ],
 "metadata": {
  "kernelspec": {
   "display_name": "Python 3",
   "language": "python",
   "name": "python3"
  },
  "language_info": {
   "codemirror_mode": {
    "name": "ipython",
    "version": 3
   },
   "file_extension": ".py",
   "mimetype": "text/x-python",
   "name": "python",
   "nbconvert_exporter": "python",
   "pygments_lexer": "ipython3",
   "version": "3.8.5"
  }
 },
 "nbformat": 4,
 "nbformat_minor": 4
}
