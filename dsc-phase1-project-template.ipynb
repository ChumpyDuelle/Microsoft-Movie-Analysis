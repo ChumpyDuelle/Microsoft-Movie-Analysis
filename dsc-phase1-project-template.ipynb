{
 "cells": [
  {
   "cell_type": "markdown",
   "metadata": {},
   "source": [
    "![example](images/director_shot.jpeg)"
   ]
  },
  {
   "cell_type": "markdown",
   "metadata": {},
   "source": [
    "# Project Title\n",
    "\n",
    "**Authors:** Ian Butler, Ashli Dougherty, Nicolas Pierce\n",
    "***"
   ]
  },
  {
   "cell_type": "markdown",
   "metadata": {},
   "source": [
    "## Overview\n",
    "\n",
    "A one-paragraph overview of the project, including the business problem, data, methods, results and recommendations."
   ]
  },
  {
   "cell_type": "markdown",
   "metadata": {},
   "source": [
    "## Business Problem\n",
    "\n",
    "Summary of the business problem you are trying to solve, and the data questions that you plan to answer to solve them.\n",
    "\n",
    "***\n",
    "Questions to consider:\n",
    "* What are the business's pain points related to this project?\n",
    "* How did you pick the data analysis question(s) that you did?\n",
    "* Why are these questions important from a business perspective?\n",
    "***"
   ]
  },
  {
   "cell_type": "markdown",
   "metadata": {},
   "source": [
    "## Data Understanding\n",
    "\n",
    "Describe the data being used for this project.\n",
    "***\n",
    "Questions to consider:\n",
    "* Where did the data come from, and how do they relate to the data analysis questions?\n",
    "* What do the data represent? Who is in the sample and what variables are included?\n",
    "* What is the target variable?\n",
    "* What are the properties of the variables you intend to use?\n",
    "***"
   ]
  },
  {
   "cell_type": "markdown",
   "metadata": {},
   "source": [
    "The below cell imports standard packages and also unzips the currently zipped IMDB dataset into ./zippedData"
   ]
  },
  {
   "cell_type": "code",
   "execution_count": null,
   "metadata": {},
   "outputs": [],
   "source": [
    "# Import standard packages\n",
    "import pandas as pd\n",
    "import numpy as np\n",
    "import matplotlib.pyplot as plt\n",
    "import seaborn as sns\n",
    "import sqlite3\n",
    "\n",
    "# from Kevin Rivera\n",
    "from zipfile import ZipFile\n",
    "# specifying the zip file name\n",
    "file_name = \"./zippedData/im.db.zip\"\n",
    "# opening the zip file in READ mode\n",
    "with ZipFile(file_name, 'r') as zip:\n",
    "    # printing all the contents of the zip file\n",
    "    zip.printdir()\n",
    "    # extracting all the files\n",
    "    print('Extracting all the files now...')\n",
    "    # extract data to the same directory as the other data\n",
    "    zip.extractall(path='./zippedData')\n",
    "    print('Done!')\n",
    "\n",
    "%matplotlib inline"
   ]
  },
  {
   "cell_type": "code",
   "execution_count": null,
   "metadata": {},
   "outputs": [],
   "source": [
    "conn = sqlite3.Connection('./zippedData/im.db')\n",
    "cursor = conn.cursor()"
   ]
  },
  {
   "cell_type": "code",
   "execution_count": null,
   "metadata": {},
   "outputs": [],
   "source": [
    "testq = \"\"\"\n",
    "\n",
    "select\n",
    "    *\n",
    "from\n",
    "    movie_basics\n",
    "\n",
    "\"\"\""
   ]
  },
  {
   "cell_type": "code",
   "execution_count": null,
   "metadata": {},
   "outputs": [],
   "source": [
    "testq_results = pd.read_sql(testq, conn)"
   ]
  },
  {
   "cell_type": "code",
   "execution_count": null,
   "metadata": {},
   "outputs": [],
   "source": [
    "testq_results.head()"
   ]
  },
  {
   "cell_type": "code",
   "execution_count": null,
   "metadata": {},
   "outputs": [],
   "source": [
    "# Here you run your code to explore the data"
   ]
  },
  {
   "cell_type": "markdown",
   "metadata": {},
   "source": [
    "# Exploration of Movie Ratings and Genres"
   ]
  },
  {
   "cell_type": "markdown",
   "metadata": {},
   "source": [
    "Author: Nic Pierce"
   ]
  },
  {
   "cell_type": "markdown",
   "metadata": {},
   "source": [
    "After looking through data, The best soucre to explore rating and genre relation through was through the imdb file.\n",
    "First we created a dictionary to house genres as keys and their average ratings as values."
   ]
  },
  {
   "cell_type": "code",
   "execution_count": null,
   "metadata": {},
   "outputs": [],
   "source": [
    "genreDict = {}\n"
   ]
  },
  {
   "cell_type": "markdown",
   "metadata": {},
   "source": [
    "Next a table containing the necessary information was created by joining the movie_ratings table with the movie_basics table on their common movie_id collumn."
   ]
  },
  {
   "cell_type": "code",
   "execution_count": null,
   "metadata": {
    "scrolled": false
   },
   "outputs": [],
   "source": [
    "t = '''\n",
    "SELECT\n",
    "    movie_ratings.movie_id AS id,\n",
    "    movie_ratings.averagerating AS avgRating,\n",
    "    movie_basics.primary_title AS title,\n",
    "    movie_basics.genres AS genres\n",
    "FROM\n",
    "    movie_ratings\n",
    "INNER JOIN movie_basics ON movie_ratings.movie_id=movie_basics.movie_id\n",
    "\n",
    "\n",
    "ORDER BY avgRating DESC\n",
    "\n",
    ";\n",
    "\n",
    "\n",
    "'''\n",
    "\n",
    "t = pd.read_sql(t, conn)\n",
    "t.head()"
   ]
  },
  {
   "cell_type": "markdown",
   "metadata": {},
   "source": [
    "Now that we have an overall table containing our data for this portion, genres and their average ratings were pulled and added to the genreDict dictionary created earlier."
   ]
  },
  {
   "cell_type": "markdown",
   "metadata": {},
   "source": [
    "The genres used were based off of standard main genres designated by wikipedia at https://en.wikipedia.org/wiki/Film_genre"
   ]
  },
  {
   "cell_type": "code",
   "execution_count": null,
   "metadata": {},
   "outputs": [],
   "source": [
    "docu = '''\n",
    "SELECT\n",
    "    movie_ratings.movie_id AS id,\n",
    "    movie_ratings.averagerating AS avgRating,\n",
    "    movie_basics.primary_title AS title,\n",
    "    movie_basics.genres AS genres\n",
    "FROM\n",
    "    movie_ratings\n",
    "INNER JOIN movie_basics ON movie_ratings.movie_id=movie_basics.movie_id\n",
    "\n",
    "WHERE\n",
    "    genres LIKE '%Documentary%'\n",
    "\n",
    "ORDER BY avgRating DESC\n",
    "\n",
    ";\n",
    "\n",
    "\n",
    "'''\n",
    "\n",
    "docu = pd.read_sql(docu, conn)\n",
    "documean = docu['avgRating'].mean()\n",
    "genreDict['Documentary'] = documean\n",
    "\n",
    "\n",
    "bio = '''\n",
    "SELECT\n",
    "    movie_ratings.movie_id AS id,\n",
    "    movie_ratings.averagerating AS avgRating,\n",
    "    movie_basics.primary_title AS title,\n",
    "    movie_basics.genres AS genres\n",
    "FROM\n",
    "    movie_ratings\n",
    "INNER JOIN movie_basics ON movie_ratings.movie_id=movie_basics.movie_id\n",
    "\n",
    "WHERE\n",
    "    genres LIKE '%Biography%'\n",
    "\n",
    "ORDER BY avgRating DESC\n",
    "\n",
    ";\n",
    "\n",
    "\n",
    "'''\n",
    "\n",
    "bio = pd.read_sql(bio, conn)\n",
    "biomean = bio['avgRating'].mean()\n",
    "genreDict['Biography'] = biomean\n",
    "\n",
    "\n",
    "music = '''\n",
    "SELECT\n",
    "    movie_ratings.movie_id AS id,\n",
    "    movie_ratings.averagerating AS avgRating,\n",
    "    movie_basics.primary_title AS title,\n",
    "    movie_basics.genres AS genres\n",
    "FROM\n",
    "    movie_ratings\n",
    "INNER JOIN movie_basics ON movie_ratings.movie_id=movie_basics.movie_id\n",
    "\n",
    "WHERE\n",
    "    genres LIKE '%Music%'\n",
    "\n",
    "ORDER BY avgRating DESC\n",
    "\n",
    ";\n",
    "\n",
    "\n",
    "'''\n",
    "\n",
    "music = pd.read_sql(music, conn)\n",
    "musicmean = music['avgRating'].mean()\n",
    "genreDict['Music'] = musicmean\n",
    "\n",
    "\n",
    "drama = '''\n",
    "SELECT\n",
    "    movie_ratings.movie_id AS id,\n",
    "    movie_ratings.averagerating AS avgRating,\n",
    "    movie_basics.primary_title AS title,\n",
    "    movie_basics.genres AS genres\n",
    "FROM\n",
    "    movie_ratings\n",
    "INNER JOIN movie_basics ON movie_ratings.movie_id=movie_basics.movie_id\n",
    "\n",
    "WHERE\n",
    "    genres LIKE '%Drama%'\n",
    "\n",
    "ORDER BY avgRating DESC\n",
    "\n",
    ";\n",
    "\n",
    "\n",
    "'''\n",
    "\n",
    "drama = pd.read_sql(drama, conn)\n",
    "dramamean = drama['avgRating'].mean()\n",
    "genreDict['Drama'] = dramamean\n",
    "\n",
    "\n",
    "family = '''\n",
    "SELECT\n",
    "    movie_ratings.movie_id AS id,\n",
    "    movie_ratings.averagerating AS avgRating,\n",
    "    movie_basics.primary_title AS title,\n",
    "    movie_basics.genres AS genres\n",
    "FROM\n",
    "    movie_ratings\n",
    "INNER JOIN movie_basics ON movie_ratings.movie_id=movie_basics.movie_id\n",
    "\n",
    "WHERE\n",
    "    genres LIKE '%Family%'\n",
    "\n",
    "ORDER BY avgRating DESC\n",
    "\n",
    ";\n",
    "\n",
    "\n",
    "'''\n",
    "\n",
    "family = pd.read_sql(family, conn)\n",
    "familymean = family['avgRating'].mean()\n",
    "genreDict['Family'] = familymean\n",
    "\n",
    "\n",
    "ani = '''\n",
    "SELECT\n",
    "    movie_ratings.movie_id AS id,\n",
    "    movie_ratings.averagerating AS avgRating,\n",
    "    movie_basics.primary_title AS title,\n",
    "    movie_basics.genres AS genres\n",
    "FROM\n",
    "    movie_ratings\n",
    "INNER JOIN movie_basics ON movie_ratings.movie_id=movie_basics.movie_id\n",
    "\n",
    "WHERE\n",
    "    genres LIKE '%Animation%'\n",
    "\n",
    "ORDER BY avgRating DESC\n",
    "\n",
    ";\n",
    "\n",
    "\n",
    "'''\n",
    "\n",
    "ani = pd.read_sql(ani, conn)\n",
    "animean = ani['avgRating'].mean()\n",
    "genreDict['Animation'] = animean\n",
    "\n",
    "\n",
    "adv = '''\n",
    "SELECT\n",
    "    movie_ratings.movie_id AS id,\n",
    "    movie_ratings.averagerating AS avgRating,\n",
    "    movie_basics.primary_title AS title,\n",
    "    movie_basics.genres AS genres\n",
    "FROM\n",
    "    movie_ratings\n",
    "INNER JOIN movie_basics ON movie_ratings.movie_id=movie_basics.movie_id\n",
    "\n",
    "WHERE\n",
    "    genres LIKE '%Adventure%'\n",
    "\n",
    "ORDER BY avgRating DESC\n",
    "\n",
    ";\n",
    "\n",
    "\n",
    "'''\n",
    "\n",
    "adv = pd.read_sql(adv, conn)\n",
    "advmean = adv['avgRating'].mean()\n",
    "genreDict['Adventure'] = advmean\n",
    "\n",
    "\n",
    "rom = '''\n",
    "SELECT\n",
    "    movie_ratings.movie_id AS id,\n",
    "    movie_ratings.averagerating AS avgRating,\n",
    "    movie_basics.primary_title AS title,\n",
    "    movie_basics.genres AS genres\n",
    "FROM\n",
    "    movie_ratings\n",
    "INNER JOIN movie_basics ON movie_ratings.movie_id=movie_basics.movie_id\n",
    "\n",
    "WHERE\n",
    "    genres LIKE '%Romance%'\n",
    "\n",
    "ORDER BY avgRating DESC\n",
    "\n",
    ";\n",
    "\n",
    "\n",
    "'''\n",
    "\n",
    "rom = pd.read_sql(rom, conn)\n",
    "rommean = rom['avgRating'].mean()\n",
    "genreDict['Romance'] = rommean\n",
    "\n",
    "\n",
    "com = '''\n",
    "SELECT\n",
    "    movie_ratings.movie_id AS id,\n",
    "    movie_ratings.averagerating AS avgRating,\n",
    "    movie_basics.primary_title AS title,\n",
    "    movie_basics.genres AS genres\n",
    "FROM\n",
    "    movie_ratings\n",
    "INNER JOIN movie_basics ON movie_ratings.movie_id=movie_basics.movie_id\n",
    "\n",
    "WHERE\n",
    "    genres LIKE '%Comedy%'\n",
    "\n",
    "ORDER BY avgRating DESC\n",
    "\n",
    ";\n",
    "\n",
    "\n",
    "'''\n",
    "\n",
    "com = pd.read_sql(com, conn)\n",
    "commean = com['avgRating'].mean()\n",
    "genreDict['Comedy'] = commean\n",
    "\n",
    "\n",
    "mys = '''\n",
    "SELECT\n",
    "    movie_ratings.movie_id AS id,\n",
    "    movie_ratings.averagerating AS avgRating,\n",
    "    movie_basics.primary_title AS title,\n",
    "    movie_basics.genres AS genres\n",
    "FROM\n",
    "    movie_ratings\n",
    "INNER JOIN movie_basics ON movie_ratings.movie_id=movie_basics.movie_id\n",
    "\n",
    "WHERE\n",
    "    genres LIKE '%Mystery%'\n",
    "\n",
    "ORDER BY avgRating DESC\n",
    "\n",
    ";\n",
    "\n",
    "\n",
    "'''\n",
    "\n",
    "mys = pd.read_sql(mys, conn)\n",
    "mysmean = mys['avgRating'].mean()\n",
    "genreDict['Mystery'] = mysmean\n",
    "\n",
    "\n",
    "fant = '''\n",
    "SELECT\n",
    "    movie_ratings.movie_id AS id,\n",
    "    movie_ratings.averagerating AS avgRating,\n",
    "    movie_basics.primary_title AS title,\n",
    "    movie_basics.genres AS genres\n",
    "FROM\n",
    "    movie_ratings\n",
    "INNER JOIN movie_basics ON movie_ratings.movie_id=movie_basics.movie_id\n",
    "\n",
    "WHERE\n",
    "    genres LIKE '%Fantasy%'\n",
    "\n",
    "ORDER BY avgRating DESC\n",
    "\n",
    ";\n",
    "\n",
    "\n",
    "'''\n",
    "\n",
    "fant = pd.read_sql(fant, conn)\n",
    "fantmean = fant['avgRating'].mean()\n",
    "genreDict['Fantasy'] = fantmean\n",
    "\n",
    "\n",
    "action = '''\n",
    "SELECT\n",
    "    movie_ratings.movie_id AS id,\n",
    "    movie_ratings.averagerating AS avgRating,\n",
    "    movie_basics.primary_title AS title,\n",
    "    movie_basics.genres AS genres\n",
    "FROM\n",
    "    movie_ratings\n",
    "INNER JOIN movie_basics ON movie_ratings.movie_id=movie_basics.movie_id\n",
    "\n",
    "WHERE\n",
    "    genres LIKE '%Action%'\n",
    "\n",
    "ORDER BY avgRating DESC\n",
    "\n",
    ";\n",
    "\n",
    "\n",
    "'''\n",
    "\n",
    "action = pd.read_sql(action, conn)\n",
    "actionmean = action['avgRating'].mean()\n",
    "genreDict['Action'] = actionmean\n",
    "\n",
    "\n",
    "thriller = '''\n",
    "SELECT\n",
    "    movie_ratings.movie_id AS id,\n",
    "    movie_ratings.averagerating AS avgRating,\n",
    "    movie_basics.primary_title AS title,\n",
    "    movie_basics.genres AS genres\n",
    "FROM\n",
    "    movie_ratings\n",
    "INNER JOIN movie_basics ON movie_ratings.movie_id=movie_basics.movie_id\n",
    "\n",
    "WHERE\n",
    "    genres LIKE '%Thriller%'\n",
    "\n",
    "ORDER BY avgRating DESC\n",
    "\n",
    ";\n",
    "\n",
    "\n",
    "'''\n",
    "\n",
    "thriller = pd.read_sql(thriller, conn)\n",
    "thrillermean = thriller['avgRating'].mean()\n",
    "genreDict['Thriller'] = thrillermean\n",
    "\n",
    "sci = '''\n",
    "SELECT\n",
    "    movie_ratings.movie_id AS id,\n",
    "    movie_ratings.averagerating AS avgRating,\n",
    "    movie_basics.primary_title AS title,\n",
    "    movie_basics.genres AS genres\n",
    "FROM\n",
    "    movie_ratings\n",
    "INNER JOIN movie_basics ON movie_ratings.movie_id=movie_basics.movie_id\n",
    "\n",
    "WHERE\n",
    "    genres LIKE '%Sci-Fi%'\n",
    "\n",
    "ORDER BY avgRating DESC\n",
    "\n",
    ";\n",
    "\n",
    "\n",
    "'''\n",
    "\n",
    "sci = pd.read_sql(sci, conn)\n",
    "scimean = sci['avgRating'].mean()\n",
    "genreDict['Sci_fi'] = scimean\n",
    "\n",
    "\n",
    "horror = '''\n",
    "SELECT\n",
    "    movie_ratings.movie_id AS id,\n",
    "    movie_ratings.averagerating AS avgRating,\n",
    "    movie_basics.primary_title AS title,\n",
    "    movie_basics.genres AS genres\n",
    "FROM\n",
    "    movie_ratings\n",
    "INNER JOIN movie_basics ON movie_ratings.movie_id=movie_basics.movie_id\n",
    "\n",
    "WHERE\n",
    "    genres LIKE '%Horror%'\n",
    "\n",
    "ORDER BY avgRating DESC\n",
    "\n",
    ";\n",
    "\n",
    "\n",
    "'''\n",
    "\n",
    "horror = pd.read_sql(horror, conn)\n",
    "horrormean = horror['avgRating'].mean()\n",
    "genreDict['Horror'] = horrormean"
   ]
  },
  {
   "cell_type": "markdown",
   "metadata": {},
   "source": [
    "Next, we wanted to sort our dictionary in descending order so we could more easily identify where each genre fell compared to it's counterparts."
   ]
  },
  {
   "cell_type": "code",
   "execution_count": null,
   "metadata": {},
   "outputs": [],
   "source": [
    "g = sorted(genreDict.items(), key=lambda x:x[1], reverse=True)\n",
    "genreDictSorted = dict(g)\n"
   ]
  },
  {
   "cell_type": "markdown",
   "metadata": {},
   "source": [
    "Now that the genres and their associated average ratings have been puulled and added to the genreDict dictionary, we can create a list of genres from our genreDict keys as well as a second list of their corresponding values in preparation for visualization."
   ]
  },
  {
   "cell_type": "code",
   "execution_count": null,
   "metadata": {},
   "outputs": [],
   "source": [
    "genres = list(genreDictSorted.keys())\n",
    "ratings = list(genreDictSorted.values())\n"
   ]
  },
  {
   "cell_type": "markdown",
   "metadata": {},
   "source": [
    "With our dictionary sorted and our lists created, we now have our x and y values ready to plot in a graph to help us better see and understand the results."
   ]
  },
  {
   "cell_type": "code",
   "execution_count": null,
   "metadata": {
    "scrolled": false
   },
   "outputs": [],
   "source": [
    "#Dictionary credited to Ashli\n",
    "avg_main_genre_gross = {\n",
    "    \n",
    "    'Action': 8.749614e+07,\n",
    "    'Adventure': 1.148395e+08,\n",
    "    'Animation': 1.128608e+08,\n",
    "    'Biography': 2.854831e+07,\n",
    "    'Comedy': 4.654518e+07,\n",
    "    'Documentary': 3270702.98,\n",
    "    'Drama':  2.327981e+07,\n",
    "    'Family': 6.359999e+07, \n",
    "    'Fantasy': 6.933615e+07,\n",
    "    'Horror': 3.157331e+07,\n",
    "    'Music': 3.052755e+07,\n",
    "    'Mystery': 3.378377e+07,\n",
    "    'Romance': 2.223531e+07,\n",
    "    'Sci-Fi': 1.390575e+08,\n",
    "    'Thriller': 4.333931e+07,\n",
    "    \n",
    "}\n",
    "\n",
    "\n",
    "\n",
    "\n",
    "\n",
    "1,390,575,00.000000\n",
    "grossList = [3270702.98, 2.854831e+07, 3.052755e+07, 2.327981e+07, 6.359999e+07, 1.128608e+08, \n",
    "            1.148395e+08, 2.223531e+07, 4.654518e+07, 3.378377e+07, 6.933615e+07, 8.749614e+07,\n",
    "            4.333931e+07, 1.390575e+08, 3.157331e+07]\n"
   ]
  },
  {
   "cell_type": "code",
   "execution_count": null,
   "metadata": {
    "scrolled": false
   },
   "outputs": [],
   "source": [
    "g = sns.barplot(x=genres, y=ratings,color='tab:blue', edgecolor='black');\n",
    "g.figure.set_size_inches(10,7);\n",
    "g.axes.set_title('Movie Genres and Their Average Ratings', fontsize=24);\n",
    "plt.xticks(rotation=45);\n",
    "plt.xlabel('Genres', fontsize=16)\n",
    "plt.ylabel('Average Rating out of 10', fontsize=16);"
   ]
  },
  {
   "cell_type": "code",
   "execution_count": null,
   "metadata": {},
   "outputs": [],
   "source": [
    "gr_df = sns.scatterplot(ratings, grossList);\n",
    "plt.ylabel('Gross Profits in Billions')\n",
    "plt.xlabel('Average Rating Out of Ten')\n",
    "co = np.corrcoef(grossList, ratings,)\n",
    "print(f' The correlation coefficient between average genre ratings and average genre gross profit is {co[0][1]}.')"
   ]
  },
  {
   "cell_type": "markdown",
   "metadata": {},
   "source": [
    "After looking at the graph above, we thought it would be interesting to see the correlation between movie rating and gross profit, and we csn see that there in near no relation."
   ]
  },
  {
   "cell_type": "markdown",
   "metadata": {},
   "source": [
    "## Evaluation\n",
    "From what we've gathered above, we can see that Documentaries, Biographies, and Music movies tend to recieve the best ratings, while Horror, Sci-Fi, and Thriller films recieve poorer ratings. While people often use these ratings to form an opinion as to whether or not they will see a movie, we will dive into how heavily ratings may or may not effect the overall profitability of a film"
   ]
  },
  {
   "cell_type": "markdown",
   "metadata": {},
   "source": [
    "# Exploring how genre affects domestic gross revenue"
   ]
  },
  {
   "cell_type": "markdown",
   "metadata": {},
   "source": [
    "## Exploring how genre affects domestic gross revenue\n",
    "### Author: Ashli Dougherty "
   ]
  },
  {
   "cell_type": "markdown",
   "metadata": {},
   "source": [
    "### Preparing Data for Domestic Gross and Genres"
   ]
  },
  {
   "cell_type": "markdown",
   "metadata": {},
   "source": [
    "We wanted to show which type of movies were generating the most box office revenue. We examined domestic gross box office returns from US movies between the years of 2010 and 2018. Data is from Box Office Mojo: https://www.boxofficemojo.com/?ref_=bo_nb_cso_mojologo."
   ]
  },
  {
   "cell_type": "markdown",
   "metadata": {},
   "source": [
    "Loading data frame to examine movie title, domestic gross, and foreign gross."
   ]
  },
  {
   "cell_type": "code",
   "execution_count": null,
   "metadata": {
    "scrolled": true
   },
   "outputs": [],
   "source": [
    "bom_df = pd.read_csv('./zippedData/bom.movie_gross.csv.gz')\n",
    "bom_df.head()"
   ]
  },
  {
   "cell_type": "code",
   "execution_count": null,
   "metadata": {},
   "outputs": [],
   "source": [
    "bom_df.info()"
   ]
  },
  {
   "cell_type": "markdown",
   "metadata": {},
   "source": [
    "Upon exploration we saw that there were null values in both gross columns. "
   ]
  },
  {
   "cell_type": "code",
   "execution_count": null,
   "metadata": {},
   "outputs": [],
   "source": [
    "print(bom_df['foreign_gross'].isna().sum())\n",
    "print(bom_df['domestic_gross'].isna().sum())"
   ]
  },
  {
   "cell_type": "markdown",
   "metadata": {},
   "source": [
    "We chose to focus just on domestic gross values as there are 1350 null values for foreign gross compared to only 28 null values for domestic gross. We then had to decide what action to take for the null vales in domestic gross."
   ]
  },
  {
   "cell_type": "code",
   "execution_count": null,
   "metadata": {},
   "outputs": [],
   "source": [
    "bom_df['domestic_gross'].describe()"
   ]
  },
  {
   "cell_type": "markdown",
   "metadata": {},
   "source": [
    "Null values were dropped for the following reasons: \n",
    "- Due to the large difference between the minimum (100) and the max (9 million) values for domestic gross as inswerting either the mean or mediuan could skew over all averages.\n",
    "- Null values only represent less than 1% of all entries. "
   ]
  },
  {
   "cell_type": "markdown",
   "metadata": {},
   "source": [
    "Final table filted to only show title and domestic gross revenue. "
   ]
  },
  {
   "cell_type": "code",
   "execution_count": null,
   "metadata": {
    "scrolled": false
   },
   "outputs": [],
   "source": [
    "bom_domestic_df = bom_df.loc[: , ['title','domestic_gross']]\n",
    "bom_domestic_df_clean = bom_domestic_df.dropna(subset =['domestic_gross'])\n",
    "bom_domestic_df_clean.sort_values(by='domestic_gross', ascending = False).head()"
   ]
  },
  {
   "cell_type": "markdown",
   "metadata": {},
   "source": [
    "New data frame was created using IMBD SQL data base that would include both the title and genres. Based on the titles from the Box Office Mojo table we decided to include films from the US region only. "
   ]
  },
  {
   "cell_type": "code",
   "execution_count": null,
   "metadata": {},
   "outputs": [],
   "source": [
    "basics_q = \"\"\"\n",
    "\n",
    "SELECT\n",
    "    DISTINCT mb.primary_title as title,\n",
    "    mb.genres,\n",
    "    ma.region\n",
    "\n",
    "FROM\n",
    "    movie_basics as mb\n",
    "        INNER JOIN movie_akas as ma\n",
    "            ON mb.movie_id = ma.movie_id\n",
    "\n",
    "WHERE\n",
    "    ma.region = 'US'\n",
    "\n",
    "GROUP BY\n",
    "    mb.genres,\n",
    "    title\n",
    "\n",
    "\"\"\"\n",
    "\n",
    "mv_basics = pd.read_sql(basics_q, conn)\n",
    "mv_basics.head()"
   ]
  },
  {
   "cell_type": "code",
   "execution_count": null,
   "metadata": {},
   "outputs": [],
   "source": [
    "mv_basics.info()"
   ]
  },
  {
   "cell_type": "markdown",
   "metadata": {},
   "source": [
    "Checked for duplicate titles and decided to drop them for the following reasons: \n",
    "- It was not possible to search if each duplicate title was a differnt movie based on sheer numbers of entries.\n",
    "- Duplicate titles only representative of 7% of the data"
   ]
  },
  {
   "cell_type": "code",
   "execution_count": null,
   "metadata": {
    "scrolled": true
   },
   "outputs": [],
   "source": [
    "mv_basics['title'].duplicated(keep =False).value_counts()"
   ]
  },
  {
   "cell_type": "code",
   "execution_count": null,
   "metadata": {
    "scrolled": true
   },
   "outputs": [],
   "source": [
    "mv_basics_dropped = mv_basics[(mv_basics['title'].duplicated(keep =False)) == False]\n",
    "mv_basics_dropped.head()"
   ]
  },
  {
   "cell_type": "code",
   "execution_count": null,
   "metadata": {},
   "outputs": [],
   "source": [
    "mv_basics_dropped.info()"
   ]
  },
  {
   "cell_type": "code",
   "execution_count": null,
   "metadata": {},
   "outputs": [],
   "source": [
    "mv_basics_dropped['genres'].isna().sum()"
   ]
  },
  {
   "cell_type": "markdown",
   "metadata": {},
   "source": [
    "Checked for null data and saw that there were 543 missing values. These were also dropped becuase having an \"Unknown\" genre would not help in answering our question of which specific genres produce revenue."
   ]
  },
  {
   "cell_type": "markdown",
   "metadata": {},
   "source": [
    "### Merged Data frames\n",
    "IMDB data that contained title and genre was merged with Box Office Mojo Data frame that contained title and domestic gross. These tables were joined on movie title, so only common titles were kept for analysis. "
   ]
  },
  {
   "cell_type": "code",
   "execution_count": null,
   "metadata": {
    "scrolled": false
   },
   "outputs": [],
   "source": [
    "genre_domgross = mv_basics_dropped.merge(bom_domestic_df_clean, how='inner', on='title')\n",
    "genre_domgross.head()"
   ]
  },
  {
   "cell_type": "code",
   "execution_count": null,
   "metadata": {},
   "outputs": [],
   "source": [
    "genre_domgross['genres'].isna().sum()"
   ]
  },
  {
   "cell_type": "markdown",
   "metadata": {},
   "source": [
    "Once again null values for genres was dropped using same earlier arguments."
   ]
  },
  {
   "cell_type": "code",
   "execution_count": null,
   "metadata": {
    "scrolled": true
   },
   "outputs": [],
   "source": [
    "genre_domgross_clean = genre_domgross.dropna(subset=['genres'])\n",
    "genre_domgross_clean.head()"
   ]
  },
  {
   "cell_type": "markdown",
   "metadata": {},
   "source": [
    "## Combining genres and finding average domestic gross for each \"main\" genre.\n",
    "\n",
    "Now that all relevant data was in one table, movies could be grouped by genre/subgenres. The next step was to determine how to group the movies that had more than one genre in to a \"main\" genre. What would be considered a main movie genre was taken from: https://en.wikipedia.org/wiki/Film_genre and include: \n",
    "**Action, Adventure, Animation, Biography, Comedy, Documentary, Drama, Family, Fantasy, Horror, Music, Mystery, Romance, Sci-Fi, and Thriller.** \n",
    "These are also the same genres that were considered when we explored the ratings and genres data."
   ]
  },
  {
   "cell_type": "markdown",
   "metadata": {},
   "source": [
    "The data frame was filtered to pull any movie that contained the genre name and calculate the mean for each main genre. "
   ]
  },
  {
   "cell_type": "code",
   "execution_count": null,
   "metadata": {},
   "outputs": [],
   "source": [
    "action = genre_domgross_clean[genre_domgross_clean['genres'].str.contains('Action')]\n",
    "action.mean()\n",
    "adventure = genre_domgross_clean[genre_domgross_clean['genres'].str.contains('Adventure')]\n",
    "adventure.mean()\n",
    "animation = genre_domgross_clean[genre_domgross_clean['genres'].str.contains('Animation')]\n",
    "animation.mean()\n",
    "biography = genre_domgross_clean[genre_domgross_clean['genres'].str.contains('Biography')]\n",
    "biography.mean()\n",
    "comedy = genre_domgross_clean[genre_domgross_clean['genres'].str.contains('Comedy')]\n",
    "comedy.mean()\n",
    "documentary = genre_domgross_clean[genre_domgross_clean['genres'].str.contains('Documentary')]\n",
    "documentary.mean()\n",
    "drama = genre_domgross_clean[genre_domgross_clean['genres'].str.contains('Drama')]\n",
    "drama.mean()\n",
    "family = genre_domgross_clean[genre_domgross_clean['genres'].str.contains('Family')]\n",
    "family.mean()\n",
    "fantasy = genre_domgross_clean[genre_domgross_clean['genres'].str.contains('Fantasy')]\n",
    "fantasy.mean()\n",
    "horror = genre_domgross_clean[genre_domgross_clean['genres'].str.contains('Horror')]\n",
    "horror.mean()\n",
    "music = genre_domgross_clean[genre_domgross_clean['genres'].str.contains('Music')]\n",
    "music.mean()\n",
    "mystery = genre_domgross_clean[genre_domgross_clean['genres'].str.contains('Mystery')]\n",
    "mystery.mean()\n",
    "romance = genre_domgross_clean[genre_domgross_clean['genres'].str.contains('Romance')]\n",
    "romance.mean()\n",
    "sci_fi = genre_domgross_clean[genre_domgross_clean['genres'].str.contains('Sci-Fi')]\n",
    "sci_fi.mean()\n",
    "thriller = genre_domgross_clean[genre_domgross_clean['genres'].str.contains('Thriller')]\n",
    "thriller.mean()"
   ]
  },
  {
   "cell_type": "markdown",
   "metadata": {},
   "source": [
    "From there a dictionary was built that has the main genre as keys and the average domestic gross as values. These would be used to build visualizations. "
   ]
  },
  {
   "cell_type": "code",
   "execution_count": null,
   "metadata": {},
   "outputs": [],
   "source": [
    "avg_main_genre_gross = {\n",
    "    'Documentary': 3270702.98,\n",
    "    'Biography': 2.854831e+07,\n",
    "    'Music': 3.052755e+07,\n",
    "    'Drama':  2.327981e+07,\n",
    "    'Family': 6.359999e+07, \n",
    "    'Animation': 1.128608e+08,\n",
    "    'Adventure': 1.148395e+08,\n",
    "    'Romance': 2.223531e+07,\n",
    "    'Comedy': 4.654518e+07,\n",
    "    'Mystery': 3.378377e+07,\n",
    "    'Fantasy': 6.933615e+07,\n",
    "    'Action': 8.749614e+07,\n",
    "    'Thriller': 4.333931e+07,\n",
    "    'Sci-Fi': 1.390575e+08,\n",
    "    'Horror': 3.157331e+07\n",
    "    \n",
    "    \n",
    "}\n",
    "list(avg_main_genre_gross.keys())\n",
    "list(avg_main_genre_gross.values())"
   ]
  },
  {
   "cell_type": "markdown",
   "metadata": {},
   "source": [
    "## Data Modeling\n",
    "### Average Domestic Gross by Genre"
   ]
  },
  {
   "cell_type": "code",
   "execution_count": null,
   "metadata": {
    "scrolled": true
   },
   "outputs": [],
   "source": [
    "x = list(avg_main_genre_gross.keys())\n",
    "y = list(avg_main_genre_gross.values())\n",
    "\n",
    "\n",
    "plt.figure(figsize=(12,6))\n",
    "ax = sns.barplot(x, y, color = 'tab:blue', edgecolor = 'black')\n",
    "plt.title('Average Domestic Gross by Genre', fontsize =20, weight = 'bold')\n",
    "plt.ylabel('Average Domestic Gross (in millions)', fontsize =15)\n",
    "plt.xlabel('Genres', fontsize =20)\n",
    "plt.xticks(fontsize=14, rotation=45, ha='right')\n",
    "\n",
    "plt.ticklabel_format(style='plain', axis = 'y')\n",
    "ax.set_yticklabels(['$0','$20', '$40', '$60', '$80', '$100', '$120', '$140'])\n",
    "ax.set_xticklabels(ax.get_xticklabels(),rotation = 30);"
   ]
  },
  {
   "cell_type": "markdown",
   "metadata": {},
   "source": [
    "## Average Gross Domestic Revenue by Combined Genres\n",
    "After examining the IMBD data base it was evident that most movies do not fall within a single genre. We wanted to investivate which combination of genres would create the highest domestic box office revenue. \n",
    "\n",
    "To do this we created a new data frame that consisted of just the top 40 highest grossing movies."
   ]
  },
  {
   "cell_type": "code",
   "execution_count": null,
   "metadata": {},
   "outputs": [],
   "source": [
    "top_40_grossing = genre_domgross_clean.sort_values(by=['domestic_gross'], ascending=False).head(40)\n",
    "top_40_grossing.head()"
   ]
  },
  {
   "cell_type": "markdown",
   "metadata": {},
   "source": [
    "The top grossing movies were then grouped by genres. "
   ]
  },
  {
   "cell_type": "code",
   "execution_count": null,
   "metadata": {},
   "outputs": [],
   "source": [
    "combo_genre = top_40_grossing.groupby('genres').mean().sort_values(by='domestic_gross', ascending=False)\n",
    "combo_genre.reset_index(inplace=True)\n",
    "combo_genre.head()"
   ]
  },
  {
   "cell_type": "code",
   "execution_count": null,
   "metadata": {
    "scrolled": true
   },
   "outputs": [],
   "source": [
    "combo_genre['genres'].value_counts()"
   ]
  },
  {
   "cell_type": "markdown",
   "metadata": {},
   "source": [
    "It was noted that **all** of the top 40 movies were a combination of genres."
   ]
  },
  {
   "cell_type": "markdown",
   "metadata": {},
   "source": [
    "## Data Modeling\n",
    "### Average Domestic Gross by Combined Genre"
   ]
  },
  {
   "cell_type": "markdown",
   "metadata": {},
   "source": [
    "The graph below shows the combined genres of the top 40 grossing movies from the dataframe and their average domestic gross.\n",
    "\n",
    "Of the 12 combinations of genres, the most common genres are **Action** and **Adventure** (both appearing in 67% of the combinations). The least common genres are **Horror, Crime** and **Biography** (both appearing only in 8% of the combinations). "
   ]
  },
  {
   "cell_type": "code",
   "execution_count": null,
   "metadata": {
    "scrolled": true
   },
   "outputs": [],
   "source": [
    "fig, ax = plt.subplots(figsize=(16,10))\n",
    "x = combo_genre['genres']\n",
    "y = combo_genre['domestic_gross']\n",
    "\n",
    "ax.bar(x, y, color='tab:blue', edgecolor = 'black')\n",
    "plt.xticks(fontsize=14, rotation=45, ha='right')\n",
    "ax.set_yticklabels(['$0','$100', '$200', '$300', '$400', '$500', '$600'])\n",
    "ax.set_title('Average Domestic Gross by Combined Genres for Top 40 Movies', fontsize='20', weight='bold')\n",
    "ax.set_xlabel('Combined Genres', fontsize='18')\n",
    "ax.set_ylabel('Domestic Gross (in millions)', fontsize='18');"
   ]
  },
  {
   "cell_type": "markdown",
   "metadata": {},
   "source": [
    "## Average Gross Domestic Revenue by Genres Evalutations & Conclusions"
   ]
  },
  {
   "cell_type": "markdown",
   "metadata": {},
   "source": [
    "Based on the data, the highest grossing main genres are **Sci-Fi, Adventure, Animation, Action, Fantasy**. \n",
    "***\n",
    "However, studios produce movies that are labeled under several genres. When looking at the combined genres for the top grossing movies, the data shows that of the highest grossing films, 91% of them are classified as **Action** and/or **Adventure**. The only exception to this would be the movies that are classified as **Horror,Thriller**. \n",
    "***\n",
    "If using this data to determine which types of movies to create, we would suggest **Action** and/or **Adventure** coupled with another other genre will increase the likelihood of a high domestic gross. "
   ]
  },
  {
   "cell_type": "markdown",
   "metadata": {},
   "source": [
    "# Exploration of Movie Gross and Production Budget - Return on Investment"
   ]
  },
  {
   "cell_type": "markdown",
   "metadata": {},
   "source": [
    "### Author: Ian Butler"
   ]
  },
  {
   "cell_type": "markdown",
   "metadata": {},
   "source": [
    "## Data Preparation"
   ]
  },
  {
   "cell_type": "markdown",
   "metadata": {},
   "source": [
    "Within this section's markdown and code cells, the project explores the following elements of data preparation:<br> - Which variables are being dropped<br> - Which features are being created<br> - Explicit methodology for nulls and unneccessary data<br> - Clear explanation for why any decision was made for one of the above elements"
   ]
  },
  {
   "cell_type": "markdown",
   "metadata": {},
   "source": [
    "Instantiate a variable to run a SQL query on the entire movie_basics table."
   ]
  },
  {
   "cell_type": "code",
   "execution_count": null,
   "metadata": {},
   "outputs": [],
   "source": [
    "imdb_movie_basics_query = \"\"\"\n",
    "select\n",
    "    *\n",
    "from\n",
    "    movie_basics\n",
    "\"\"\""
   ]
  },
  {
   "cell_type": "markdown",
   "metadata": {},
   "source": [
    "Instantiate a variable to create a pandas data frame on the movie_basics query."
   ]
  },
  {
   "cell_type": "code",
   "execution_count": null,
   "metadata": {},
   "outputs": [],
   "source": [
    "movie_basics_df = pd.read_sql(imdb_movie_basics_query, conn)"
   ]
  },
  {
   "cell_type": "markdown",
   "metadata": {},
   "source": [
    "Render the head of the movie_basics pandas data frame."
   ]
  },
  {
   "cell_type": "code",
   "execution_count": null,
   "metadata": {},
   "outputs": [],
   "source": [
    "movie_basics_df.head()"
   ]
  },
  {
   "cell_type": "markdown",
   "metadata": {},
   "source": [
    "Confirm the data type of the table."
   ]
  },
  {
   "cell_type": "code",
   "execution_count": null,
   "metadata": {},
   "outputs": [],
   "source": [
    "type(movie_basics_df)"
   ]
  },
  {
   "cell_type": "markdown",
   "metadata": {},
   "source": [
    "Explore the movie_basics data frame."
   ]
  },
  {
   "cell_type": "code",
   "execution_count": null,
   "metadata": {},
   "outputs": [],
   "source": [
    "movie_basics_df.info()"
   ]
  },
  {
   "cell_type": "code",
   "execution_count": null,
   "metadata": {},
   "outputs": [],
   "source": [
    "movie_basics_df.describe()"
   ]
  },
  {
   "cell_type": "markdown",
   "metadata": {},
   "source": [
    "Instantiate a variable to run a SQL query on the entire movie_ratings table."
   ]
  },
  {
   "cell_type": "code",
   "execution_count": null,
   "metadata": {},
   "outputs": [],
   "source": [
    "imdb_movie_ratings_query = \"\"\"\n",
    "select\n",
    "    *\n",
    "from\n",
    "    movie_ratings\n",
    "\"\"\""
   ]
  },
  {
   "cell_type": "markdown",
   "metadata": {},
   "source": [
    "Instantiate a variable to create a pandas data frame on the movie_ratings table."
   ]
  },
  {
   "cell_type": "code",
   "execution_count": null,
   "metadata": {},
   "outputs": [],
   "source": [
    "movie_ratings_df = pd.read_sql(imdb_movie_ratings_query, conn)"
   ]
  },
  {
   "cell_type": "markdown",
   "metadata": {},
   "source": [
    "Render the head of the movie_ratings data frame."
   ]
  },
  {
   "cell_type": "code",
   "execution_count": null,
   "metadata": {},
   "outputs": [],
   "source": [
    "movie_ratings_df.head()"
   ]
  },
  {
   "cell_type": "markdown",
   "metadata": {},
   "source": [
    "Confirm the data type of the table."
   ]
  },
  {
   "cell_type": "code",
   "execution_count": null,
   "metadata": {},
   "outputs": [],
   "source": [
    "type(movie_ratings_df)"
   ]
  },
  {
   "cell_type": "markdown",
   "metadata": {},
   "source": [
    "Explore the movie_ratings data frame."
   ]
  },
  {
   "cell_type": "code",
   "execution_count": null,
   "metadata": {},
   "outputs": [],
   "source": [
    "movie_ratings_df.info()"
   ]
  },
  {
   "cell_type": "code",
   "execution_count": null,
   "metadata": {},
   "outputs": [],
   "source": [
    "movie_ratings_df.describe()"
   ]
  },
  {
   "cell_type": "markdown",
   "metadata": {},
   "source": [
    "Extract only the movies which have more than 282 reviews.<br>This decision is made in confidence as a result of the following domain knowledge:<br>any movie which has less than 282 reviews - the 75% percentile in this dataset,<br>will not make a measurable impact in the scope of high-grossing movies.<br>This exclusion allows for the examination of only the data that pertains to the business problem.<br>In short, the problem is not concerned with movies that did not do well."
   ]
  },
  {
   "cell_type": "code",
   "execution_count": null,
   "metadata": {},
   "outputs": [],
   "source": [
    "fourth_quartile_movie_ratings_df = movie_ratings_df[\n",
    "    movie_ratings_df['numvotes'] > 2.820000e+02]"
   ]
  },
  {
   "cell_type": "markdown",
   "metadata": {},
   "source": [
    "Render the head of the fourth_quartile_movie_ratings_df data frame."
   ]
  },
  {
   "cell_type": "code",
   "execution_count": null,
   "metadata": {},
   "outputs": [],
   "source": [
    "fourth_quartile_movie_ratings_df.head()"
   ]
  },
  {
   "cell_type": "markdown",
   "metadata": {},
   "source": [
    "Explore the fourth_quartile_movie_ratings_df data frame."
   ]
  },
  {
   "cell_type": "code",
   "execution_count": null,
   "metadata": {},
   "outputs": [],
   "source": [
    "fourth_quartile_movie_ratings_df.info()"
   ]
  },
  {
   "cell_type": "code",
   "execution_count": null,
   "metadata": {
    "scrolled": true
   },
   "outputs": [],
   "source": [
    "fourth_quartile_movie_ratings_df.describe()"
   ]
  },
  {
   "cell_type": "markdown",
   "metadata": {},
   "source": [
    "Instantiate a variable to run a SQL query on the entire movie_basics table, joined with the entire movie_ratings table.<br>Specify explicit column names to avoid duplicating movie_id from movie_basics and movie_ratings."
   ]
  },
  {
   "cell_type": "code",
   "execution_count": null,
   "metadata": {},
   "outputs": [],
   "source": [
    "imdb_movie_basics_and_ratings_query = \"\"\"\n",
    "select\n",
    "    mb.movie_id,\n",
    "    mb.primary_title,\n",
    "    mb.original_title,\n",
    "    mb.start_year,\n",
    "    mb.runtime_minutes,\n",
    "    mb.genres,\n",
    "    mr.averagerating as average_rating,\n",
    "    mr.numvotes as num_votes\n",
    "from\n",
    "    movie_basics as mb\n",
    "join movie_ratings as mr\n",
    "    on mb.movie_id = mr.movie_id\n",
    "\"\"\""
   ]
  },
  {
   "cell_type": "markdown",
   "metadata": {},
   "source": [
    "Instantiate a variable to create a pandas data frame on the movie_basics and movie_ratings tables."
   ]
  },
  {
   "cell_type": "code",
   "execution_count": null,
   "metadata": {},
   "outputs": [],
   "source": [
    "movie_basics_and_ratings_df = pd.read_sql(imdb_movie_basics_and_ratings_query, conn)"
   ]
  },
  {
   "cell_type": "markdown",
   "metadata": {},
   "source": [
    "Render the head of the movie_basics_and_ratings data frame."
   ]
  },
  {
   "cell_type": "code",
   "execution_count": null,
   "metadata": {},
   "outputs": [],
   "source": [
    "movie_basics_and_ratings_df.head()"
   ]
  },
  {
   "cell_type": "markdown",
   "metadata": {},
   "source": [
    "Confirm the data type of the movie_basics_and_ratings_df data frame."
   ]
  },
  {
   "cell_type": "code",
   "execution_count": null,
   "metadata": {},
   "outputs": [],
   "source": [
    "type(movie_basics_and_ratings_df)"
   ]
  },
  {
   "cell_type": "markdown",
   "metadata": {},
   "source": [
    "Explore the movie_basics_and_ratings_df data frame."
   ]
  },
  {
   "cell_type": "code",
   "execution_count": null,
   "metadata": {},
   "outputs": [],
   "source": [
    "movie_basics_and_ratings_df.info()"
   ]
  },
  {
   "cell_type": "code",
   "execution_count": null,
   "metadata": {
    "scrolled": true
   },
   "outputs": [],
   "source": [
    "movie_basics_and_ratings_df.describe()"
   ]
  },
  {
   "cell_type": "markdown",
   "metadata": {},
   "source": [
    "In the combined tables, extract only the movies which have more than 282 reviews.<br>This decision is made in confidence as a result of the following domain knowledge:<br>any movie which has less than 282 reviews - the 75% percentile in this dataset,<br>will not make a measurable impact in the scope of exploring high-grossing movies.<br>This exclusion allows for the examination of only the data that pertains to the business problem.<br>In short, the problem is not concerned with movies that did not do well."
   ]
  },
  {
   "cell_type": "code",
   "execution_count": null,
   "metadata": {},
   "outputs": [],
   "source": [
    "fourth_quartile_movie_basics_and_ratings_df = movie_basics_and_ratings_df[\n",
    "    movie_basics_and_ratings_df['num_votes'] > 2.820000e+02\n",
    "]"
   ]
  },
  {
   "cell_type": "markdown",
   "metadata": {},
   "source": [
    "Render the head of the fourth_quartile_movie_basics_and_ratings_df data frame."
   ]
  },
  {
   "cell_type": "code",
   "execution_count": null,
   "metadata": {},
   "outputs": [],
   "source": [
    "fourth_quartile_movie_basics_and_ratings_df.head()"
   ]
  },
  {
   "cell_type": "markdown",
   "metadata": {},
   "source": [
    "Explore the fourth_quartile_movie_basics_and_ratings_df data frame."
   ]
  },
  {
   "cell_type": "code",
   "execution_count": null,
   "metadata": {},
   "outputs": [],
   "source": [
    "fourth_quartile_movie_basics_and_ratings_df.info()"
   ]
  },
  {
   "cell_type": "code",
   "execution_count": null,
   "metadata": {},
   "outputs": [],
   "source": [
    "fourth_quartile_movie_basics_and_ratings_df.describe()"
   ]
  },
  {
   "cell_type": "markdown",
   "metadata": {},
   "source": [
    "Examine the frequency of duplicated movied titles in fourth_quartile_movie_basics_and_ratings_df data frame."
   ]
  },
  {
   "cell_type": "code",
   "execution_count": null,
   "metadata": {},
   "outputs": [],
   "source": [
    "fourth_quartile_movie_basics_and_ratings_df['primary_title'].duplicated(keep=False).value_counts()"
   ]
  },
  {
   "cell_type": "markdown",
   "metadata": {},
   "source": [
    "Confirm the data type of the series."
   ]
  },
  {
   "cell_type": "code",
   "execution_count": null,
   "metadata": {},
   "outputs": [],
   "source": [
    "type(fourth_quartile_movie_basics_and_ratings_df['primary_title'].duplicated(keep=False).value_counts())"
   ]
  },
  {
   "cell_type": "markdown",
   "metadata": {},
   "source": [
    "Based on this duplicated value counts series, there are 968 movies which appear more than once.<br>With consideration to combining this data frame with additional data by movie name,<br>it may not be possible to know which duplicate a new value corresponds to.<br>In light of this, as well as the approximately 05.53870% of the data that these duplicate values constitute,<br>they will be removed from the dataset for ease of combination and for clarity of feature association."
   ]
  },
  {
   "cell_type": "code",
   "execution_count": null,
   "metadata": {},
   "outputs": [],
   "source": [
    "fourth_quartile_movie_basics_and_ratings_df_filtered = fourth_quartile_movie_basics_and_ratings_df[\n",
    "    (fourth_quartile_movie_basics_and_ratings_df['primary_title'].duplicated(keep=False)) == False\n",
    "]"
   ]
  },
  {
   "cell_type": "markdown",
   "metadata": {},
   "source": [
    "Render the head of the fourth_quartile_movie_basics_and_ratings_df_cleaned data frame."
   ]
  },
  {
   "cell_type": "code",
   "execution_count": null,
   "metadata": {},
   "outputs": [],
   "source": [
    "fourth_quartile_movie_basics_and_ratings_df_filtered.head()"
   ]
  },
  {
   "cell_type": "markdown",
   "metadata": {},
   "source": [
    "Explore the fourth_quartile_movie_basics_and_ratings_df data frame."
   ]
  },
  {
   "cell_type": "code",
   "execution_count": null,
   "metadata": {},
   "outputs": [],
   "source": [
    "fourth_quartile_movie_basics_and_ratings_df_filtered.info()"
   ]
  },
  {
   "cell_type": "code",
   "execution_count": null,
   "metadata": {},
   "outputs": [],
   "source": [
    "fourth_quartile_movie_basics_and_ratings_df_filtered.describe()"
   ]
  },
  {
   "cell_type": "markdown",
   "metadata": {},
   "source": [
    "Instantiate a variable to create a pandas data frame on the movie_gross csv."
   ]
  },
  {
   "cell_type": "code",
   "execution_count": null,
   "metadata": {},
   "outputs": [],
   "source": [
    "movie_gross_df = pd.read_csv('./zippedData/bom.movie_gross.csv.gz')"
   ]
  },
  {
   "cell_type": "markdown",
   "metadata": {},
   "source": [
    "Render the head of the movie_gross_df data frame."
   ]
  },
  {
   "cell_type": "code",
   "execution_count": null,
   "metadata": {
    "scrolled": false
   },
   "outputs": [],
   "source": [
    "movie_gross_df.head()"
   ]
  },
  {
   "cell_type": "markdown",
   "metadata": {},
   "source": [
    "Explore the movie_gross_df data frame."
   ]
  },
  {
   "cell_type": "code",
   "execution_count": null,
   "metadata": {},
   "outputs": [],
   "source": [
    "movie_gross_df.info()"
   ]
  },
  {
   "cell_type": "code",
   "execution_count": null,
   "metadata": {},
   "outputs": [],
   "source": [
    "movie_gross_df.describe()"
   ]
  },
  {
   "cell_type": "markdown",
   "metadata": {},
   "source": [
    "Confirm the data type of the movie_gross data frame."
   ]
  },
  {
   "cell_type": "code",
   "execution_count": null,
   "metadata": {},
   "outputs": [],
   "source": [
    "type(movie_gross_df)"
   ]
  },
  {
   "cell_type": "markdown",
   "metadata": {},
   "source": [
    "Instantiate a variable to create a pandas data frame on the movie_basics_and_ratings_df, joined with the movie_gross_df."
   ]
  },
  {
   "cell_type": "code",
   "execution_count": null,
   "metadata": {},
   "outputs": [],
   "source": [
    "fourth_quartile_movie_basics_ratings_and_gross_df_filtered = pd.merge(\n",
    "    left=fourth_quartile_movie_basics_and_ratings_df_filtered,\n",
    "    right=movie_gross_df,\n",
    "    left_on='primary_title',\n",
    "    right_on='title')"
   ]
  },
  {
   "cell_type": "markdown",
   "metadata": {},
   "source": [
    "Render the head of the fourth_quartile_movie_basics_ratings_and_gross_df_filtered data frame."
   ]
  },
  {
   "cell_type": "code",
   "execution_count": null,
   "metadata": {
    "scrolled": false
   },
   "outputs": [],
   "source": [
    "fourth_quartile_movie_basics_ratings_and_gross_df_filtered.head()"
   ]
  },
  {
   "cell_type": "markdown",
   "metadata": {},
   "source": [
    "Explore the fourth_quartile_movie_basics_ratings_and_gross_df_filtered data frame."
   ]
  },
  {
   "cell_type": "code",
   "execution_count": null,
   "metadata": {},
   "outputs": [],
   "source": [
    "fourth_quartile_movie_basics_ratings_and_gross_df_filtered.info()"
   ]
  },
  {
   "cell_type": "code",
   "execution_count": null,
   "metadata": {},
   "outputs": [],
   "source": [
    "fourth_quartile_movie_basics_ratings_and_gross_df_filtered.describe()"
   ]
  },
  {
   "cell_type": "markdown",
   "metadata": {},
   "source": [
    "Of particular note at this juncture is this:<br>of the various columns and their associated datat types, there is at least one which is not as expected.<br>Specifically, the foreign_gross column, which would be expected to be a number of some kind -either an integer or a float, is an object.<br>Also evident, by way of the Jurassic World entry in the above data frame head,<br>is the fact that the contents of these objects are not stored in a consistent denomination.<br>Furthermore, the data frame info demonstrates that there are only 1484 out of 2452 entries in the foreign_gross column which are non-null.<br>With a null value percentage of approximately 39.47797%, this column contains too many missing values to consider.<br>At this time, the foreign_gross column will not be considered for data preparation or visualization.<br>domestic_gross will be the measure against which other features are considered.<br><br>Given sufficient time, this data could also be wrangled and a subset in the count of 1484 could be explored.<br>Once a minimum viable product has been achieved, this may be done."
   ]
  },
  {
   "cell_type": "code",
   "execution_count": null,
   "metadata": {},
   "outputs": [],
   "source": [
    "fourth_quartile_movie_basics_ratings_and_gross_df_filtered = (\n",
    "    fourth_quartile_movie_basics_ratings_and_gross_df_filtered.drop(columns='foreign_gross'))"
   ]
  },
  {
   "cell_type": "markdown",
   "metadata": {},
   "source": [
    "Render the new head of the fourth_quartile_movie_basics_ratings_and_gross_df_filtered data frame."
   ]
  },
  {
   "cell_type": "code",
   "execution_count": null,
   "metadata": {
    "scrolled": true
   },
   "outputs": [],
   "source": [
    "fourth_quartile_movie_basics_ratings_and_gross_df_filtered.head()"
   ]
  },
  {
   "cell_type": "markdown",
   "metadata": {},
   "source": [
    "Sort the fourth_quartile_movie_basics_ratings_and_gross_df_filtered data frame by domestic_gross,<br>in order to observe which movies have grossed the most money domestically."
   ]
  },
  {
   "cell_type": "code",
   "execution_count": null,
   "metadata": {
    "scrolled": false
   },
   "outputs": [],
   "source": [
    "fourth_quartile_movie_basics_ratings_and_gross_df_filtered.sort_values(by='domestic_gross', ascending=False).head()"
   ]
  },
  {
   "cell_type": "markdown",
   "metadata": {},
   "source": [
    "Explore the fourth_quartile_movie_basics_ratings_and_gross_df_filtered again."
   ]
  },
  {
   "cell_type": "code",
   "execution_count": null,
   "metadata": {},
   "outputs": [],
   "source": [
    "fourth_quartile_movie_basics_ratings_and_gross_df_filtered.info()"
   ]
  },
  {
   "cell_type": "code",
   "execution_count": null,
   "metadata": {},
   "outputs": [],
   "source": [
    "fourth_quartile_movie_basics_ratings_and_gross_df_filtered.describe()"
   ]
  },
  {
   "cell_type": "markdown",
   "metadata": {},
   "source": [
    "The data frame info demonstrates that there are 2 non-null values for studio.<br>With a total null value percentage of approximately 0.00081%,<br>it is safe to simply say that we don't know what this value should be,<br>and replace the null with a string - 'Unknown' - demonstrating this."
   ]
  },
  {
   "cell_type": "code",
   "execution_count": null,
   "metadata": {},
   "outputs": [],
   "source": [
    "fourth_quartile_movie_basics_ratings_and_gross_df_filtered['studio'].fillna('Unknown', inplace=True)"
   ]
  },
  {
   "cell_type": "markdown",
   "metadata": {},
   "source": [
    "Explore the fourth_quartile_movie_basics_ratings_and_gross_df_filtered again."
   ]
  },
  {
   "cell_type": "code",
   "execution_count": null,
   "metadata": {},
   "outputs": [],
   "source": [
    "fourth_quartile_movie_basics_ratings_and_gross_df_filtered.info()"
   ]
  },
  {
   "cell_type": "code",
   "execution_count": null,
   "metadata": {},
   "outputs": [],
   "source": [
    "fourth_quartile_movie_basics_ratings_and_gross_df_filtered.describe()"
   ]
  },
  {
   "cell_type": "markdown",
   "metadata": {},
   "source": [
    "The data frame info demonstrates that there are 17 null values for domestic_gross.<br>With a total null value percentage of approximately 0.69331%,<br>it is acceptable to exclude these entries from domestic_gross consideration,<br>as inserting a substitute value for them will affect the statistical measures of the data."
   ]
  },
  {
   "cell_type": "code",
   "execution_count": null,
   "metadata": {},
   "outputs": [],
   "source": [
    "fourth_quartile_movie_basics_ratings_and_gross_df_twice_filtered = (\n",
    "    fourth_quartile_movie_basics_ratings_and_gross_df_filtered.dropna(subset=['domestic_gross'])\n",
    ")"
   ]
  },
  {
   "cell_type": "markdown",
   "metadata": {},
   "source": [
    "Explore the fourth_quartile_movie_basics_ratings_and_gross_df_filtered again."
   ]
  },
  {
   "cell_type": "code",
   "execution_count": null,
   "metadata": {
    "scrolled": true
   },
   "outputs": [],
   "source": [
    "fourth_quartile_movie_basics_ratings_and_gross_df_twice_filtered.info()"
   ]
  },
  {
   "cell_type": "code",
   "execution_count": null,
   "metadata": {},
   "outputs": [],
   "source": [
    "fourth_quartile_movie_basics_ratings_and_gross_df_twice_filtered.describe()"
   ]
  },
  {
   "cell_type": "markdown",
   "metadata": {},
   "source": [
    "The data frame info demonstrates that there are now 2435 entries with no null values.<br>To explore the relationship between domestic_gross and budget, another file is needed."
   ]
  },
  {
   "cell_type": "markdown",
   "metadata": {},
   "source": [
    "Instantiate a variable to create a pandas data frame on the movie_budgets CSV."
   ]
  },
  {
   "cell_type": "code",
   "execution_count": null,
   "metadata": {},
   "outputs": [],
   "source": [
    "movie_budgets_df = pd.read_csv('./zippedData/tn.movie_budgets.csv.gz')"
   ]
  },
  {
   "cell_type": "markdown",
   "metadata": {},
   "source": [
    "Render the head of the movie_budgets_df data frame."
   ]
  },
  {
   "cell_type": "code",
   "execution_count": null,
   "metadata": {},
   "outputs": [],
   "source": [
    "movie_budgets_df.head()"
   ]
  },
  {
   "cell_type": "markdown",
   "metadata": {},
   "source": [
    "Explore the movie_budgets_df data frame."
   ]
  },
  {
   "cell_type": "code",
   "execution_count": null,
   "metadata": {},
   "outputs": [],
   "source": [
    "movie_budgets_df.info()"
   ]
  },
  {
   "cell_type": "code",
   "execution_count": null,
   "metadata": {},
   "outputs": [],
   "source": [
    "movie_budgets_df.describe()"
   ]
  },
  {
   "cell_type": "markdown",
   "metadata": {},
   "source": [
    "Confirm the data type of movie_budgets_df."
   ]
  },
  {
   "cell_type": "code",
   "execution_count": null,
   "metadata": {},
   "outputs": [],
   "source": [
    "type(movie_budgets_df)"
   ]
  },
  {
   "cell_type": "markdown",
   "metadata": {},
   "source": [
    "This new data frame also has information concerning domestic_gross, as well as worldwide_gross,<br>so it will be both interesting to compare the information in this domestic_gross to the column that already exists<br>and necessary to decide which column to utilize for analysis."
   ]
  },
  {
   "cell_type": "markdown",
   "metadata": {},
   "source": [
    "Combine the current data frame with the new one."
   ]
  },
  {
   "cell_type": "code",
   "execution_count": null,
   "metadata": {},
   "outputs": [],
   "source": [
    "final_df = pd.merge(\n",
    "    left=fourth_quartile_movie_basics_ratings_and_gross_df_twice_filtered,\n",
    "    right=movie_budgets_df,\n",
    "    left_on='primary_title',\n",
    "    right_on='movie')"
   ]
  },
  {
   "cell_type": "markdown",
   "metadata": {},
   "source": [
    "Render the head of the final_df data frame."
   ]
  },
  {
   "cell_type": "code",
   "execution_count": null,
   "metadata": {},
   "outputs": [],
   "source": [
    "final_df.head()"
   ]
  },
  {
   "cell_type": "markdown",
   "metadata": {},
   "source": [
    "Explore the final_df data frame."
   ]
  },
  {
   "cell_type": "code",
   "execution_count": null,
   "metadata": {},
   "outputs": [],
   "source": [
    "final_df.info()"
   ]
  },
  {
   "cell_type": "code",
   "execution_count": null,
   "metadata": {},
   "outputs": [],
   "source": [
    "final_df.describe()"
   ]
  },
  {
   "cell_type": "markdown",
   "metadata": {},
   "source": [
    "The head of the final_df data frame demonstrates that there are several columns with the same information,<br>several columns that do not directly pertain to the business question, and two columns with extremely similar information.<br>Specifically, columns that do not directly contribute to the business question<br>and which are no longer necessary for table combination are as follows:<br>movie_id, start_year, runtime_minutes, num_votes, studio, year, id, and release_date."
   ]
  },
  {
   "cell_type": "markdown",
   "metadata": {},
   "source": [
    "Remove unneccesary columns from final_df."
   ]
  },
  {
   "cell_type": "code",
   "execution_count": null,
   "metadata": {},
   "outputs": [],
   "source": [
    "final_df_reduced = final_df.drop(columns=['movie_id', 'start_year', 'runtime_minutes', 'num_votes', 'studio', 'year', 'id', 'release_date'])"
   ]
  },
  {
   "cell_type": "markdown",
   "metadata": {},
   "source": [
    "Render the head of the final_df_reduced data frame."
   ]
  },
  {
   "cell_type": "code",
   "execution_count": null,
   "metadata": {},
   "outputs": [],
   "source": [
    "final_df_reduced.head()"
   ]
  },
  {
   "cell_type": "markdown",
   "metadata": {},
   "source": [
    "Columns which contain repeat information are as follows: primary_title, original_title, title, and movie."
   ]
  },
  {
   "cell_type": "markdown",
   "metadata": {},
   "source": [
    "Remove columns with repeat information."
   ]
  },
  {
   "cell_type": "code",
   "execution_count": null,
   "metadata": {},
   "outputs": [],
   "source": [
    "final_df_reduced_simplified = final_df_reduced.drop(columns=['original_title', 'title', 'movie'])"
   ]
  },
  {
   "cell_type": "markdown",
   "metadata": {},
   "source": [
    "Render the head of the final_df_reduced_simplifed data frame."
   ]
  },
  {
   "cell_type": "code",
   "execution_count": null,
   "metadata": {},
   "outputs": [],
   "source": [
    "final_df_reduced_simplified.head()"
   ]
  },
  {
   "cell_type": "markdown",
   "metadata": {},
   "source": [
    "The only remaining column now which demonstrates unneccessary information is domestic_gross_x or domestic_gross_y. The values contained within these columns are extremely similar, so one of them may be safely disconsidered. Due to the higher level of precision associated with domestic_gross_y, domestic_gross_x will be disconsidered."
   ]
  },
  {
   "cell_type": "markdown",
   "metadata": {},
   "source": [
    "Remove domestic_gross_x from the final_df_reduced_simplified data frame."
   ]
  },
  {
   "cell_type": "code",
   "execution_count": null,
   "metadata": {},
   "outputs": [],
   "source": [
    "final_df_reduced_simplified_2 = final_df_reduced_simplified.drop(columns=['domestic_gross_x'])"
   ]
  },
  {
   "cell_type": "markdown",
   "metadata": {},
   "source": [
    "Render the head of the final_df_reduced_simplified_2 data frame."
   ]
  },
  {
   "cell_type": "code",
   "execution_count": null,
   "metadata": {},
   "outputs": [],
   "source": [
    "final_df_reduced_simplified_2.head()"
   ]
  },
  {
   "cell_type": "markdown",
   "metadata": {},
   "source": [
    "Explore the final_df_reduced_simplified_2 data frame."
   ]
  },
  {
   "cell_type": "code",
   "execution_count": null,
   "metadata": {},
   "outputs": [],
   "source": [
    "final_df_reduced_simplified_2.info()"
   ]
  },
  {
   "cell_type": "code",
   "execution_count": null,
   "metadata": {},
   "outputs": [],
   "source": [
    "final_df_reduced_simplified_2.describe()"
   ]
  },
  {
   "cell_type": "markdown",
   "metadata": {},
   "source": [
    "The current data types of the production_budget, domestic_gross_y, and worldwide_gross columns are objects and cannot be operated on as numbers."
   ]
  },
  {
   "cell_type": "markdown",
   "metadata": {},
   "source": [
    "Convert the data types of the above columns."
   ]
  },
  {
   "cell_type": "code",
   "execution_count": null,
   "metadata": {},
   "outputs": [],
   "source": [
    "final_df_reduced_simplified_2['production_budget'] = final_df_reduced_simplified_2['production_budget'].str.replace('$','')\n",
    "final_df_reduced_simplified_2['production_budget'] = final_df_reduced_simplified_2['production_budget'].str.replace(',','')\n",
    "final_df_reduced_simplified_2['production_budget'] = final_df_reduced_simplified_2['production_budget'].astype(int)\n",
    "final_df_reduced_simplified_2['domestic_gross_y'] = final_df_reduced_simplified_2['domestic_gross_y'].str.replace('$','')\n",
    "final_df_reduced_simplified_2['domestic_gross_y'] = final_df_reduced_simplified_2['domestic_gross_y'].str.replace(',','')\n",
    "final_df_reduced_simplified_2['domestic_gross_y'] = final_df_reduced_simplified_2['domestic_gross_y'].astype(int)\n",
    "final_df_reduced_simplified_2['worldwide_gross'] = final_df_reduced_simplified_2['worldwide_gross'].str.replace('$','')\n",
    "final_df_reduced_simplified_2['worldwide_gross'] = final_df_reduced_simplified_2['worldwide_gross'].str.replace(',','')\n",
    "final_df_reduced_simplified_2['worldwide_gross'] = final_df_reduced_simplified_2['worldwide_gross'].astype(int)"
   ]
  },
  {
   "cell_type": "markdown",
   "metadata": {},
   "source": [
    "Render the head of the final_df_reduced_simplified_2 data frame."
   ]
  },
  {
   "cell_type": "code",
   "execution_count": null,
   "metadata": {},
   "outputs": [],
   "source": [
    "final_df_reduced_simplified_2.head()"
   ]
  },
  {
   "cell_type": "markdown",
   "metadata": {},
   "source": [
    "Explore the final_df_reduced_simplified_2 data frame."
   ]
  },
  {
   "cell_type": "code",
   "execution_count": null,
   "metadata": {},
   "outputs": [],
   "source": [
    "final_df_reduced_simplified_2.info()"
   ]
  },
  {
   "cell_type": "markdown",
   "metadata": {},
   "source": [
    "Rename the columns for clarity and simplicity."
   ]
  },
  {
   "cell_type": "code",
   "execution_count": null,
   "metadata": {},
   "outputs": [],
   "source": [
    "final_df_reduced_simplified_3 = final_df_reduced_simplified_2.rename(\n",
    "    columns={'primary_title':'title', 'domestic_gross_y':'domestic_gross'})"
   ]
  },
  {
   "cell_type": "markdown",
   "metadata": {},
   "source": [
    "Render the head of the final_df_reduced_simplified_3 data frame."
   ]
  },
  {
   "cell_type": "code",
   "execution_count": null,
   "metadata": {},
   "outputs": [],
   "source": [
    "final_df_reduced_simplified_3.head()"
   ]
  },
  {
   "cell_type": "markdown",
   "metadata": {},
   "source": [
    "Instantiated a new data frame for ease of call."
   ]
  },
  {
   "cell_type": "code",
   "execution_count": null,
   "metadata": {},
   "outputs": [],
   "source": [
    "df_expanded = final_df_reduced_simplified_3.copy()"
   ]
  },
  {
   "cell_type": "markdown",
   "metadata": {},
   "source": [
    "Instantiate a new column to observe the difference between domestic gross and production budget."
   ]
  },
  {
   "cell_type": "code",
   "execution_count": null,
   "metadata": {},
   "outputs": [],
   "source": [
    "df_expanded['domestic_profit'] = df_expanded['domestic_gross'] - df_expanded['production_budget']"
   ]
  },
  {
   "cell_type": "markdown",
   "metadata": {},
   "source": [
    "Render the head of the new data frame."
   ]
  },
  {
   "cell_type": "code",
   "execution_count": null,
   "metadata": {},
   "outputs": [],
   "source": [
    "df_expanded.head()"
   ]
  },
  {
   "cell_type": "markdown",
   "metadata": {},
   "source": [
    "Instantiate a new column to observe the difference between worldwide gross and production budget."
   ]
  },
  {
   "cell_type": "code",
   "execution_count": null,
   "metadata": {},
   "outputs": [],
   "source": [
    "df_expanded['worldwide_profit'] = df_expanded['worldwide_gross'] - df_expanded['production_budget']"
   ]
  },
  {
   "cell_type": "markdown",
   "metadata": {},
   "source": [
    "Render the head of the new data frame."
   ]
  },
  {
   "cell_type": "code",
   "execution_count": null,
   "metadata": {},
   "outputs": [],
   "source": [
    "df_expanded.head()"
   ]
  },
  {
   "cell_type": "markdown",
   "metadata": {},
   "source": [
    "Instantiate a new column to observe the difference between domestic gross and production budget as a percentage of production budget."
   ]
  },
  {
   "cell_type": "code",
   "execution_count": null,
   "metadata": {},
   "outputs": [],
   "source": [
    "df_expanded['domestic_roi'] = (df_expanded['domestic_profit'] / df_expanded['production_budget']) * 100"
   ]
  },
  {
   "cell_type": "markdown",
   "metadata": {},
   "source": [
    "Render the head of the new data frame."
   ]
  },
  {
   "cell_type": "code",
   "execution_count": null,
   "metadata": {},
   "outputs": [],
   "source": [
    "df_expanded.head()"
   ]
  },
  {
   "cell_type": "markdown",
   "metadata": {},
   "source": [
    "Instantiate a new column to observe the difference between worldwide gross and production budget as a percentage of production budget."
   ]
  },
  {
   "cell_type": "code",
   "execution_count": null,
   "metadata": {},
   "outputs": [],
   "source": [
    "df_expanded['worldwide_roi'] = (df_expanded['worldwide_profit'] / df_expanded['production_budget']) * 100"
   ]
  },
  {
   "cell_type": "markdown",
   "metadata": {},
   "source": [
    "Render the head of the new data frame."
   ]
  },
  {
   "cell_type": "code",
   "execution_count": null,
   "metadata": {
    "scrolled": false
   },
   "outputs": [],
   "source": [
    "df_expanded.head()"
   ]
  },
  {
   "cell_type": "markdown",
   "metadata": {},
   "source": [
    "Sort the new data frame by highest return on investment."
   ]
  },
  {
   "cell_type": "code",
   "execution_count": null,
   "metadata": {},
   "outputs": [],
   "source": [
    "df_expanded.groupby(by='genres').mean().sort_values(by='worldwide_profit', ascending=False).head()"
   ]
  },
  {
   "cell_type": "markdown",
   "metadata": {},
   "source": [
    "Sort the new data frame by highest percent return on investment."
   ]
  },
  {
   "cell_type": "code",
   "execution_count": null,
   "metadata": {},
   "outputs": [],
   "source": [
    "df_expanded.groupby(by='genres').mean().sort_values(by='worldwide_roi', ascending=False).head()"
   ]
  },
  {
   "cell_type": "markdown",
   "metadata": {},
   "source": [
    "## Data Modeling"
   ]
  },
  {
   "cell_type": "markdown",
   "metadata": {},
   "source": [
    "Within this section's markdown and code cells, the project explores the following elements of data modeling:<br> - How the data is being modeled<br> - Why these models are appropriate for representing the above data"
   ]
  },
  {
   "cell_type": "markdown",
   "metadata": {},
   "source": [
    "Instantiate a new data frame to group movies by genre, take the means of those genres,<br>and sort them in descending order by worldwide profit."
   ]
  },
  {
   "cell_type": "code",
   "execution_count": null,
   "metadata": {},
   "outputs": [],
   "source": [
    "df_expanded_roi = df_expanded.groupby(by='genres').mean().sort_values(by='worldwide_profit', ascending=False)"
   ]
  },
  {
   "cell_type": "markdown",
   "metadata": {},
   "source": [
    "Instantiate a new data frame to take the head of the previous data frame."
   ]
  },
  {
   "cell_type": "code",
   "execution_count": null,
   "metadata": {},
   "outputs": [],
   "source": [
    "df_expanded_roi_top = df_expanded_roi.head()"
   ]
  },
  {
   "cell_type": "markdown",
   "metadata": {},
   "source": [
    "Instantiate a new data frame to group movies by genre, take the means of those genres,<br>and sort them in descending order by worldwide return on investment."
   ]
  },
  {
   "cell_type": "code",
   "execution_count": null,
   "metadata": {},
   "outputs": [],
   "source": [
    "df_expanded_roi_perc = df_expanded.groupby(by='genres').mean().sort_values(by='worldwide_roi', ascending=False)"
   ]
  },
  {
   "cell_type": "markdown",
   "metadata": {},
   "source": [
    "Instantiate a new data frame to take the head of the previous data frame."
   ]
  },
  {
   "cell_type": "code",
   "execution_count": null,
   "metadata": {},
   "outputs": [],
   "source": [
    "df_expanded_roi_perc_top = df_expanded_roi_perc.head()"
   ]
  },
  {
   "cell_type": "markdown",
   "metadata": {},
   "source": [
    "### Top 5 Worldwide Profit by Genre"
   ]
  },
  {
   "cell_type": "markdown",
   "metadata": {},
   "source": [
    "Generate a bar chart to illustrate how different categories of data compare to the same variable.<br>Specifically, demonstrate the worldwide profit in hundreds of millions of dollars by genre."
   ]
  },
  {
   "cell_type": "code",
   "execution_count": null,
   "metadata": {},
   "outputs": [],
   "source": [
    "genres_roi = df_expanded_roi_top.index\n",
    "wwroi = df_expanded_roi_top['worldwide_profit']\n",
    "\n",
    "roi_barplot = sns.barplot(x = genres_roi, y = wwroi, edgecolor='black')\n",
    "roi_barplot.set_xlabel('Genres')\n",
    "roi_barplot.set_ylabel('Worldwide Profit in Millions of Dollars')\n",
    "roi_barplot.set_title('Top 5 Worldwide Profit Margin by Genre')\n",
    "roi_barplot.set_xticklabels(genres_roi, rotation=45, horizontalalignment='right')\n",
    "roi_barplot.set_yticklabels(['0', '$100', '$200', '$300', '$400', '$500']);"
   ]
  },
  {
   "cell_type": "markdown",
   "metadata": {},
   "source": [
    "### Top 5 Worldwide Percent Return on Investment by Genre"
   ]
  },
  {
   "cell_type": "markdown",
   "metadata": {},
   "source": [
    "Generate a bar chart to illustrate how different categories of data compare to the same variable.<br>Specifically, demonstrate the worldwide eturn on investment in hundreds of millions of dollars by genre."
   ]
  },
  {
   "cell_type": "code",
   "execution_count": null,
   "metadata": {},
   "outputs": [],
   "source": [
    "genres_roip = df_expanded_roi_perc_top.index\n",
    "wwroip = df_expanded_roi_perc_top['worldwide_roi']\n",
    "\n",
    "roip_barplot = sns.barplot(x = genres_roip, y = wwroip, edgecolor='black')\n",
    "roip_barplot.set_xlabel('Genres')\n",
    "roip_barplot.set_ylabel('Worldwide Return on Investment')\n",
    "roip_barplot.set_title('Top 5 Worldwide ROI by Genre')\n",
    "roip_barplot.set_xticklabels(genres_roip, rotation=45, horizontalalignment='right')\n",
    "roip_barplot.set_yticklabels(['0%', '500%', '1000%', '1500%', '2000%', '2500%', '3000%', '3500%']);"
   ]
  },
  {
   "cell_type": "markdown",
   "metadata": {},
   "source": [
    "### Visualization Exploration"
   ]
  },
  {
   "cell_type": "markdown",
   "metadata": {},
   "source": [
    "The next several sections of code explore various visualizations of the above data<br>for their usefulness in research delivery."
   ]
  },
  {
   "cell_type": "code",
   "execution_count": null,
   "metadata": {
    "scrolled": false
   },
   "outputs": [],
   "source": [
    "f, (ax1, ax2) = plt.subplots(1, 2, figsize=(16, 8), sharey=True)\n",
    "\n",
    "roi_budgets = sns.barplot(x=genres_roi, y=df_expanded_roi_top['production_budget'], ax=ax1, edgecolor='black')\n",
    "roi_budgets.set_xlabel('Genres')\n",
    "roi_budgets.set_ylabel('Production Budgets in Millions of Dollars')\n",
    "roi_budgets.set_title('Production Budgets of the Top 5 Genres by Profit Margin')\n",
    "roi_budgets.set_xticklabels(genres_roi, rotation=45, horizontalalignment='right')\n",
    "roi_budgets.set_yticklabels(['$0', '$150', '$100', '$150', '$200'])\n",
    "roi_budgets.tick_params(labelleft=True)\n",
    "\n",
    "roip_budgets = sns.barplot(x=genres_roip, y=df_expanded_roi_perc_top['production_budget'], ax=ax2, edgecolor='black')\n",
    "roip_budgets.set_xlabel('Genres')\n",
    "roip_budgets.set_ylabel('Production Budgets in Millions of Dollars')\n",
    "roip_budgets.set_title('Production Budgets of the Top 5 Genres by ROI')\n",
    "roip_budgets.set_xticklabels(genres_roip, rotation=45, horizontalalignment='right')\n",
    "roip_budgets.set_yticklabels(['$0', '$150', '$100', '$150', '$200'])\n",
    "roip_budgets.tick_params(labelleft=True);\n",
    "\n",
    "plt.tight_layout()"
   ]
  },
  {
   "cell_type": "code",
   "execution_count": null,
   "metadata": {},
   "outputs": [],
   "source": [
    "pal = sns.color_palette()\n",
    "print(pal.as_hex())"
   ]
  },
  {
   "cell_type": "code",
   "execution_count": null,
   "metadata": {},
   "outputs": [],
   "source": [
    "f, ((ax1, ax2), (ax3, ax4), (ax5, ax6)) = plt.subplots(nrows=3, ncols=2, figsize=(16, 24), sharey='row')\n",
    "\n",
    "genres_roip = df_expanded_roi_perc_top.index\n",
    "wwroip = df_expanded_roi_perc_top['worldwide_roi']\n",
    "\n",
    "genres_roi = df_expanded_roi_top.index\n",
    "wwroi = df_expanded_roi_top['worldwide_profit']\n",
    "\n",
    "palette_one = ['#1f77b4', '#ff7f0e', '#2ca02c', '#d62728', '#9467bd']\n",
    "palette_two = ['#8c564b', '#e377c2', '#7f7f7f', '#bcbd22', '#17becf']\n",
    "\n",
    "roip_budgets = sns.barplot(x=genres_roip, y=df_expanded_roi_perc_top['production_budget'],\n",
    "                           ax=ax1, palette=palette_one, edgecolor='black')\n",
    "roip_budgets.set_xlabel('Genres')\n",
    "roip_budgets.set_ylabel('Production Budget')\n",
    "roip_budgets.set_title('Production Budgets of the Top 5 Genres by ROI')\n",
    "roip_budgets.set_xticklabels(genres_roip, rotation=45, horizontalalignment='right')\n",
    "roip_budgets.set_yticklabels(['$0', '$150', '$100', '$150', '$200'])\n",
    "\n",
    "roi_budgets = sns.barplot(x=genres_roi, y=df_expanded_roi_top['production_budget'],\n",
    "                          ax=ax2, palette=palette_two, edgecolor='black')\n",
    "roi_budgets.set_xlabel('Genres')\n",
    "roi_budgets.set_ylabel('Production Budget')\n",
    "roi_budgets.set_title('Production Budgets of the Top 5 Genres by Profit Margin')\n",
    "roi_budgets.set_xticklabels(genres_roi, rotation=45, horizontalalignment='right')\n",
    "roi_budgets.set_yticklabels(['$0', '$150', '$100', '$150', '$200'])\n",
    "\n",
    "roip_barplot = sns.barplot(x = genres_roip, y = df_expanded_roi_perc_top['worldwide_profit'],\n",
    "                           ax=ax3, palette=palette_one, edgecolor='black')\n",
    "roip_barplot.set_xlabel('Genres')\n",
    "roip_barplot.set_ylabel('Worldwide Profit Margin')\n",
    "roip_barplot.set_title('Worldwide Profit Margin of the Top 5 Genres by ROI')\n",
    "roip_barplot.set_xticklabels(genres_roip, rotation=45, horizontalalignment='right')\n",
    "roip_barplot.set_yticklabels(['0', '$100', '$200', '$300', '$400', '$500'])\n",
    "\n",
    "roi_barplot = sns.barplot(x = genres_roi, y = wwroi,\n",
    "                          ax=ax4, palette=palette_two, edgecolor='black')\n",
    "roi_barplot.set_xlabel('Genres')\n",
    "roi_barplot.set_ylabel('Worldwide Profit Margin')\n",
    "roi_barplot.set_title('Worldwide Profit Margin of the Top 5 Genres by Profit Margin')\n",
    "roi_barplot.set_xticklabels(genres_roi, rotation=45, horizontalalignment='right')\n",
    "roi_barplot.set_yticklabels(['0', '$100', '$200', '$300', '$400', '$500'])\n",
    "\n",
    "roip_barplot = sns.barplot(x = genres_roip, y = wwroip,\n",
    "                           ax=ax5, palette=palette_one, edgecolor='black')\n",
    "roip_barplot.set_xlabel('Genres')\n",
    "roip_barplot.set_ylabel('Worldwide Return on Investment')\n",
    "roip_barplot.set_title('Worldwide Return on Investment of the Top 5 Genres by ROI')\n",
    "roip_barplot.set_xticklabels(genres_roip, rotation=45, horizontalalignment='right')\n",
    "roip_barplot.set_yticklabels(['0%', '500%', '1000%', '1500%', '2000%', '2500%', '3000%', '3500%'])\n",
    "\n",
    "roi_barplot = sns.barplot(x = genres_roi, y = df_expanded_roi_top['worldwide_roi'],\n",
    "                          ax=ax6, palette=palette_two, edgecolor='black')\n",
    "roi_barplot.set_xlabel('Genres')\n",
    "roi_barplot.set_ylabel('Worldwide Return on Investment')\n",
    "roi_barplot.set_title('Worldwide Return on Investment of the Top 5 Genres by Profit Margin')\n",
    "roi_barplot.set_xticklabels(genres_roi, rotation=45, horizontalalignment='right')\n",
    "roi_barplot.set_yticklabels(['0%', '500%', '1000%', '1500%', '2000%', '2500%', '3000%', '3500%'])\n",
    "\n",
    "for axis in f.axes:\n",
    "    axis.tick_params(labelleft=True)\n",
    "\n",
    "plt.tight_layout();"
   ]
  },
  {
   "cell_type": "markdown",
   "metadata": {},
   "source": [
    "Generate two final bar plots for use in the research slides."
   ]
  },
  {
   "cell_type": "code",
   "execution_count": null,
   "metadata": {},
   "outputs": [],
   "source": [
    "f, (ax1, ax2) = plt.subplots(nrows=1, ncols=2, figsize=(16, 8), sharey='row')\n",
    "\n",
    "roip_barplot = sns.barplot(x = genres_roip, y = wwroip,\n",
    "                           ax=ax1, color='tab:blue', edgecolor='black')\n",
    "roip_barplot.set_xlabel('Genres')\n",
    "roip_barplot.set_ylabel('Return on Investment')\n",
    "roip_barplot.set_title('Return on Investment of the Top 5 Genres by ROI')\n",
    "roip_barplot.set_xticklabels(genres_roip, rotation=45, horizontalalignment='right')\n",
    "roip_barplot.set_yticklabels(['0%', '500%', '1000%', '1500%', '2000%', '2500%', '3000%', '3500%'])\n",
    "roip_barplot.tick_params(labelleft=True)\n",
    "\n",
    "roi_barplot = sns.barplot(x = genres_roi, y = df_expanded_roi_top['worldwide_roi'],\n",
    "                          ax=ax2, color='tab:blue', edgecolor='black')\n",
    "roi_barplot.set_xlabel('Genres')\n",
    "roi_barplot.set_ylabel('Return on Investment')\n",
    "roi_barplot.set_title('Return on Investment of the Top 5 Genres by Profit Margin')\n",
    "roi_barplot.set_xticklabels(genres_roi, rotation=45, horizontalalignment='right')\n",
    "roi_barplot.set_yticklabels(['0%', '500%', '1000%', '1500%', '2000%', '2500%', '3000%', '3500%'])\n",
    "roi_barplot.tick_params(labelleft=True);"
   ]
  },
  {
   "cell_type": "markdown",
   "metadata": {},
   "source": [
    "## Evaluation"
   ]
  },
  {
   "cell_type": "markdown",
   "metadata": {},
   "source": [
    "Within this section's markdown cells, the project explores the following elements of evaluation:<br> - Interpretation of results<br> - The fit of these models to the data<br> - Confidence for extrapolation<br> - Confidence for implementation"
   ]
  },
  {
   "cell_type": "markdown",
   "metadata": {},
   "source": [
    "Ultimately, the primary takeaways from exploring the relationship between movie gross and production budget,<br>in terms of profit and return on investment, are these:<br>- First: that the relationship between worldwide gross and production budget demonstrates a high margin of profit<br>for movies which combine the following genres together:<br>--- Adventure, Drama, and Sci-Fi<br>--- Action, Adventure, and Sci-Fi<br>--- Comedy and Mystery<br>   Within these collections of genres of movies, the average margin of profit is approximately 500 million dollars.<br><br> - Second: that the relationship between worldwide gross and production budget demonstrates a high return on investment<br>for movies which combine the following genres together:<br>   - Horror, Mystery, and Thriller<br>   - Horror<br>   Within these collections of genres of movies, the return on investment is<br>approximately 3622% for Horror, Mystery, and Thriller,<br>and approximately 2783% for Horror."
   ]
  },
  {
   "cell_type": "markdown",
   "metadata": {},
   "source": [
    "## Data Preparation\n",
    "\n",
    "Describe and justify the process for preparing the data for analysis.\n",
    "\n",
    "***\n",
    "Questions to consider:\n",
    "* Were there variables you dropped or created?\n",
    "* How did you address missing values or outliers?\n",
    "* Why are these choices appropriate given the data and the business problem?\n",
    "***"
   ]
  },
  {
   "cell_type": "code",
   "execution_count": null,
   "metadata": {},
   "outputs": [],
   "source": [
    "# Here you run your code to clean the data"
   ]
  },
  {
   "cell_type": "markdown",
   "metadata": {},
   "source": [
    "## Data Modeling\n",
    "Describe and justify the process for analyzing or modeling the data.\n",
    "\n",
    "***\n",
    "Questions to consider:\n",
    "* How did you analyze or model the data?\n",
    "* How did you iterate on your initial approach to make it better?\n",
    "* Why are these choices appropriate given the data and the business problem?\n",
    "***"
   ]
  },
  {
   "cell_type": "code",
   "execution_count": null,
   "metadata": {},
   "outputs": [],
   "source": [
    "# Here you run your code to model the data\n"
   ]
  },
  {
   "cell_type": "markdown",
   "metadata": {},
   "source": [
    "## Evaluation\n",
    "Evaluate how well your work solves the stated business problem.\n",
    "\n",
    "***\n",
    "Questions to consider:\n",
    "* How do you interpret the results?\n",
    "* How well does your model fit your data? How much better is this than your baseline model?\n",
    "* How confident are you that your results would generalize beyond the data you have?\n",
    "* How confident are you that this model would benefit the business if put into use?\n",
    "***"
   ]
  },
  {
   "cell_type": "markdown",
   "metadata": {},
   "source": [
    "## Conclusions\n",
    "Provide your conclusions about the work you've done, including any limitations or next steps.\n",
    "\n",
    "***\n",
    "Questions to consider:\n",
    "* What would you recommend the business do as a result of this work?\n",
    "* What are some reasons why your analysis might not fully solve the business problem?\n",
    "* What else could you do in the future to improve this project?\n",
    "***"
   ]
  }
 ],
 "metadata": {
  "kernelspec": {
   "display_name": "Python 3",
   "language": "python",
   "name": "python3"
  },
  "language_info": {
   "codemirror_mode": {
    "name": "ipython",
    "version": 3
   },
   "file_extension": ".py",
   "mimetype": "text/x-python",
   "name": "python",
   "nbconvert_exporter": "python",
   "pygments_lexer": "ipython3",
   "version": "3.8.5"
  }
 },
 "nbformat": 4,
 "nbformat_minor": 4
}
